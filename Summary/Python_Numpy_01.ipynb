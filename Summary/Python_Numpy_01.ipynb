{
  "nbformat": 4,
  "nbformat_minor": 0,
  "metadata": {
    "kernelspec": {
      "display_name": "Python 3",
      "language": "python",
      "name": "python3"
    },
    "language_info": {
      "codemirror_mode": {
        "name": "ipython",
        "version": 3
      },
      "file_extension": ".py",
      "mimetype": "text/x-python",
      "name": "python",
      "nbconvert_exporter": "python",
      "pygments_lexer": "ipython3",
      "version": "3.7.3"
    },
    "colab": {
      "name": "Python_Numpy.ipynb",
      "provenance": [],
      "collapsed_sections": []
    }
  },
  "cells": [
    {
      "cell_type": "markdown",
      "metadata": {
        "id": "IIkKTmIXyRTi",
        "colab_type": "text"
      },
      "source": [
        "### Numpy\n",
        "\n",
        " - 성능 : python_list 보다 빠름\n",
        " \n",
        "     * numpy에서 사용되는 다차원 리스트를 표현할 때 사용되는 데이터 타입\n",
        "     \n",
        "         1) ndarray\n",
        "             - 연속된 메모리 vectorization 사용\n",
        "         2) python list\n",
        "             - 연속되지 않은 메모리 명시적인 loop사용\n",
        "         \n",
        " - 메모리 사이즈 : python_list보다 적은 메모리 사용\n",
        " - 빌트인 함수 : 선형대수 , 통계관련 여러 함수 내장\n",
        "---"
      ]
    },
    {
      "cell_type": "code",
      "metadata": {
        "id": "eAw_LjXmyRTk",
        "colab_type": "code",
        "colab": {}
      },
      "source": [
        "import matplotlib.pyplot as plt"
      ],
      "execution_count": 0,
      "outputs": []
    },
    {
      "cell_type": "code",
      "metadata": {
        "id": "o3U0vo61yRTo",
        "colab_type": "code",
        "outputId": "af5015e1-6455-4943-abfe-2c1d76041e01",
        "colab": {}
      },
      "source": [
        "x = np.array([1, 2, 3])\n",
        "y = np.array([2, 4, 6])\n",
        "\n",
        "plt.plot(x, y)"
      ],
      "execution_count": 0,
      "outputs": [
        {
          "output_type": "execute_result",
          "data": {
            "text/plain": [
              "[<matplotlib.lines.Line2D at 0x1c221e5160>]"
            ]
          },
          "metadata": {
            "tags": []
          },
          "execution_count": 2
        },
        {
          "output_type": "display_data",
          "data": {
            "image/png": "[encoded data removed]",
            "text/plain": [
              "<Figure size 432x288 with 1 Axes>"
            ]
          },
          "metadata": {
            "tags": [],
            "image/png": {
              "height": 248,
              "width": 372
            },
            "needs_background": "light"
          }
        }
      ]
    },
    {
      "cell_type": "markdown",
      "metadata": {
        "id": "er0k6n_OyRTu",
        "colab_type": "text"
      },
      "source": [
        "### np.array 함수로 생성하기"
      ]
    },
    {
      "cell_type": "code",
      "metadata": {
        "id": "b0mANcr8yRTv",
        "colab_type": "code",
        "outputId": "de6e0d71-b196-4813-e5e4-53eace925800",
        "colab": {}
      },
      "source": [
        "x = np.array([[2, 3, 4], [1, 2, 5]])\n",
        "print(x)\n",
        "type(x)"
      ],
      "execution_count": 0,
      "outputs": [
        {
          "output_type": "stream",
          "text": [
            "[[2 3 4]\n",
            " [1 2 5]]\n"
          ],
          "name": "stdout"
        },
        {
          "output_type": "execute_result",
          "data": {
            "text/plain": [
              "numpy.ndarray"
            ]
          },
          "metadata": {
            "tags": []
          },
          "execution_count": 16
        }
      ]
    },
    {
      "cell_type": "markdown",
      "metadata": {
        "id": "RnyfqLqCyRTx",
        "colab_type": "text"
      },
      "source": [
        "### np.arange 함수로 생성하기"
      ]
    },
    {
      "cell_type": "code",
      "metadata": {
        "id": "LuMk-mGJyRTy",
        "colab_type": "code",
        "outputId": "f9b56d83-2f41-479f-f860-b218b7e07e5e",
        "colab": {}
      },
      "source": [
        "y = np.arange(1, 4)\n",
        "print(y)\n",
        "type(y)"
      ],
      "execution_count": 0,
      "outputs": [
        {
          "output_type": "stream",
          "text": [
            "[1 2 3]\n"
          ],
          "name": "stdout"
        },
        {
          "output_type": "execute_result",
          "data": {
            "text/plain": [
              "numpy.ndarray"
            ]
          },
          "metadata": {
            "tags": []
          },
          "execution_count": 17
        }
      ]
    },
    {
      "cell_type": "code",
      "metadata": {
        "id": "WrU0gBFTyRT1",
        "colab_type": "code",
        "outputId": "fc81c4ba-2b8a-4226-c658-162e79575ee1",
        "colab": {}
      },
      "source": [
        "np.arange(10)"
      ],
      "execution_count": 0,
      "outputs": [
        {
          "output_type": "execute_result",
          "data": {
            "text/plain": [
              "array([0, 1, 2, 3, 4, 5, 6, 7, 8, 9])"
            ]
          },
          "metadata": {
            "tags": []
          },
          "execution_count": 18
        }
      ]
    },
    {
      "cell_type": "code",
      "metadata": {
        "id": "Polvtt9_yRT4",
        "colab_type": "code",
        "outputId": "56b113cd-3240-4f95-c520-4f2490ddef18",
        "colab": {}
      },
      "source": [
        "np.arange(1, 10)"
      ],
      "execution_count": 0,
      "outputs": [
        {
          "output_type": "execute_result",
          "data": {
            "text/plain": [
              "array([1, 2, 3, 4, 5, 6, 7, 8, 9])"
            ]
          },
          "metadata": {
            "tags": []
          },
          "execution_count": 19
        }
      ]
    },
    {
      "cell_type": "code",
      "metadata": {
        "id": "b0oEc3k1yRT7",
        "colab_type": "code",
        "outputId": "31a3f4ae-956a-44bb-8b4c-c082a9b41a06",
        "colab": {}
      },
      "source": [
        "np.arange(1, 10, 2)"
      ],
      "execution_count": 0,
      "outputs": [
        {
          "output_type": "execute_result",
          "data": {
            "text/plain": [
              "array([1, 3, 5, 7, 9])"
            ]
          },
          "metadata": {
            "tags": []
          },
          "execution_count": 20
        }
      ]
    },
    {
      "cell_type": "code",
      "metadata": {
        "id": "8gkbsHrEyRT_",
        "colab_type": "code",
        "outputId": "d26c0387-92c2-4e4c-f6e0-f2fc3af3fe10",
        "colab": {}
      },
      "source": [
        "np.arange(5, 101, 5)"
      ],
      "execution_count": 0,
      "outputs": [
        {
          "output_type": "execute_result",
          "data": {
            "text/plain": [
              "array([  5,  10,  15,  20,  25,  30,  35,  40,  45,  50,  55,  60,  65,\n",
              "        70,  75,  80,  85,  90,  95, 100])"
            ]
          },
          "metadata": {
            "tags": []
          },
          "execution_count": 21
        }
      ]
    },
    {
      "cell_type": "markdown",
      "metadata": {
        "id": "ezkSn8ebyRUC",
        "colab_type": "text"
      },
      "source": [
        "### np.ones, np.zeros 생성하기"
      ]
    },
    {
      "cell_type": "code",
      "metadata": {
        "id": "NM0udaJGyRUD",
        "colab_type": "code",
        "outputId": "93b8a459-1e16-45ee-b991-f838cd5b0914",
        "colab": {}
      },
      "source": [
        "# 4행 5열 행렬\n",
        "np.ones((4, 5))"
      ],
      "execution_count": 0,
      "outputs": [
        {
          "output_type": "execute_result",
          "data": {
            "text/plain": [
              "array([[1., 1., 1., 1., 1.],\n",
              "       [1., 1., 1., 1., 1.],\n",
              "       [1., 1., 1., 1., 1.],\n",
              "       [1., 1., 1., 1., 1.]])"
            ]
          },
          "metadata": {
            "tags": []
          },
          "execution_count": 41
        }
      ]
    },
    {
      "cell_type": "code",
      "metadata": {
        "id": "4_nn_fwZyRUF",
        "colab_type": "code",
        "outputId": "befc1dbb-ce3a-4b3d-d7be-6585fad8df13",
        "colab": {}
      },
      "source": [
        "# 3행 2열 행렬 2개 생성\n",
        "np.ones((2, 3, 2))"
      ],
      "execution_count": 0,
      "outputs": [
        {
          "output_type": "execute_result",
          "data": {
            "text/plain": [
              "array([[[1., 1.],\n",
              "        [1., 1.],\n",
              "        [1., 1.]],\n",
              "\n",
              "       [[1., 1.],\n",
              "        [1., 1.],\n",
              "        [1., 1.]]])"
            ]
          },
          "metadata": {
            "tags": []
          },
          "execution_count": 42
        }
      ]
    },
    {
      "cell_type": "code",
      "metadata": {
        "id": "Fy_nTBs4yRUI",
        "colab_type": "code",
        "outputId": "2bddb5f5-52d5-4256-bbe4-2cf84b42ba4b",
        "colab": {}
      },
      "source": [
        "# 3행 3열 행렬 2개 생성\n",
        "np.zeros((2, 3, 3))"
      ],
      "execution_count": 0,
      "outputs": [
        {
          "output_type": "execute_result",
          "data": {
            "text/plain": [
              "array([[[0., 0., 0.],\n",
              "        [0., 0., 0.],\n",
              "        [0., 0., 0.]],\n",
              "\n",
              "       [[0., 0., 0.],\n",
              "        [0., 0., 0.],\n",
              "        [0., 0., 0.]]])"
            ]
          },
          "metadata": {
            "tags": []
          },
          "execution_count": 45
        }
      ]
    },
    {
      "cell_type": "markdown",
      "metadata": {
        "id": "SEB5V3qyyRUL",
        "colab_type": "text"
      },
      "source": [
        "### np.empty, np.full로 생성하기"
      ]
    },
    {
      "cell_type": "code",
      "metadata": {
        "id": "-eqrOwBEyRUM",
        "colab_type": "code",
        "outputId": "646fb8ae-2be0-48d0-aab6-8e5a4cff537b",
        "colab": {}
      },
      "source": [
        "np.empty((3, 4))"
      ],
      "execution_count": 0,
      "outputs": [
        {
          "output_type": "execute_result",
          "data": {
            "text/plain": [
              "array([[1., 1., 1., 1.],\n",
              "       [1., 1., 1., 1.],\n",
              "       [1., 1., 1., 1.]])"
            ]
          },
          "metadata": {
            "tags": []
          },
          "execution_count": 46
        }
      ]
    },
    {
      "cell_type": "code",
      "metadata": {
        "id": "Kl--vPEJyRUO",
        "colab_type": "code",
        "outputId": "ac75936c-b3a6-4ff6-acf1-c5e6e32b594d",
        "colab": {}
      },
      "source": [
        "# 6으로만 이루어진 2행 4열 행렬 생성\n",
        "np.full((2, 4), 6)"
      ],
      "execution_count": 0,
      "outputs": [
        {
          "output_type": "execute_result",
          "data": {
            "text/plain": [
              "array([[6, 6, 6, 6],\n",
              "       [6, 6, 6, 6]])"
            ]
          },
          "metadata": {
            "tags": []
          },
          "execution_count": 35
        }
      ]
    },
    {
      "cell_type": "markdown",
      "metadata": {
        "id": "JC-TIB6LyRUR",
        "colab_type": "text"
      },
      "source": [
        "### np.eye로 생성하기\n",
        "\n",
        " - 단위 행렬로 생성"
      ]
    },
    {
      "cell_type": "code",
      "metadata": {
        "id": "nOLWzOJbyRUT",
        "colab_type": "code",
        "outputId": "782152da-47ad-4d38-fca2-f861095e84d0",
        "colab": {}
      },
      "source": [
        "# 음수는 왼쪽으로 이동, 0은 center, 양수는 오른쪽 이동\n",
        "a = np.eye(3)\n",
        "b = np.eye(3, 3, -1)\n",
        "c = np.eye(3, 3, 1)\n",
        "\n",
        "print(a)\n",
        "print(b)\n",
        "print(c)"
      ],
      "execution_count": 0,
      "outputs": [
        {
          "output_type": "stream",
          "text": [
            "[[1. 0. 0.]\n",
            " [0. 1. 0.]\n",
            " [0. 0. 1.]]\n",
            "[[0. 0. 0.]\n",
            " [1. 0. 0.]\n",
            " [0. 1. 0.]]\n",
            "[[0. 1. 0.]\n",
            " [0. 0. 1.]\n",
            " [0. 0. 0.]]\n"
          ],
          "name": "stdout"
        }
      ]
    },
    {
      "cell_type": "markdown",
      "metadata": {
        "id": "3SQhanTByRUW",
        "colab_type": "text"
      },
      "source": [
        "### np.linspace로 생성하기"
      ]
    },
    {
      "cell_type": "code",
      "metadata": {
        "id": "27qniLgpyRUX",
        "colab_type": "code",
        "outputId": "ee2fdc56-b683-4bb0-eb59-7ce828300fda",
        "colab": {}
      },
      "source": [
        "np.linspace(1, 10, 3)"
      ],
      "execution_count": 0,
      "outputs": [
        {
          "output_type": "execute_result",
          "data": {
            "text/plain": [
              "array([ 1. ,  5.5, 10. ])"
            ]
          },
          "metadata": {
            "tags": []
          },
          "execution_count": 74
        }
      ]
    },
    {
      "cell_type": "code",
      "metadata": {
        "id": "KWXawGPuyRUa",
        "colab_type": "code",
        "outputId": "0ce86af8-c1fa-44b0-bb57-cef149927da9",
        "colab": {}
      },
      "source": [
        "np.linspace(1, 10, 4)"
      ],
      "execution_count": 0,
      "outputs": [
        {
          "output_type": "execute_result",
          "data": {
            "text/plain": [
              "array([ 1.,  4.,  7., 10.])"
            ]
          },
          "metadata": {
            "tags": []
          },
          "execution_count": 75
        }
      ]
    },
    {
      "cell_type": "code",
      "metadata": {
        "id": "17aIc51OyRUc",
        "colab_type": "code",
        "outputId": "98e36da9-6230-4016-b393-70caa16966d8",
        "colab": {}
      },
      "source": [
        "np.linspace(1, 10, 5)"
      ],
      "execution_count": 0,
      "outputs": [
        {
          "output_type": "execute_result",
          "data": {
            "text/plain": [
              "array([ 1.  ,  3.25,  5.5 ,  7.75, 10.  ])"
            ]
          },
          "metadata": {
            "tags": []
          },
          "execution_count": 76
        }
      ]
    },
    {
      "cell_type": "markdown",
      "metadata": {
        "id": "wqAM9xW3yRUe",
        "colab_type": "text"
      },
      "source": [
        "### reshape 함수 활용\n",
        "\n",
        " - ndarray의 형태, 차원을 바꾸기 위해 사용"
      ]
    },
    {
      "cell_type": "code",
      "metadata": {
        "id": "GBGcpmNcyRUf",
        "colab_type": "code",
        "outputId": "4249d36e-d962-4944-e50a-774363d36c4a",
        "colab": {}
      },
      "source": [
        "x = np.arange(1, 16)\n",
        "x"
      ],
      "execution_count": 0,
      "outputs": [
        {
          "output_type": "execute_result",
          "data": {
            "text/plain": [
              "array([ 1,  2,  3,  4,  5,  6,  7,  8,  9, 10, 11, 12, 13, 14, 15])"
            ]
          },
          "metadata": {
            "tags": []
          },
          "execution_count": 83
        }
      ]
    },
    {
      "cell_type": "code",
      "metadata": {
        "id": "nRlL7CkuyRUi",
        "colab_type": "code",
        "outputId": "f3c79a1f-3220-42e4-c7a1-4c1c15e6e8df",
        "colab": {}
      },
      "source": [
        "x.shape"
      ],
      "execution_count": 0,
      "outputs": [
        {
          "output_type": "execute_result",
          "data": {
            "text/plain": [
              "(15,)"
            ]
          },
          "metadata": {
            "tags": []
          },
          "execution_count": 84
        }
      ]
    },
    {
      "cell_type": "code",
      "metadata": {
        "id": "cjkOcG1jyRUk",
        "colab_type": "code",
        "outputId": "7de7749d-ebdc-4545-f71c-d1429a01c0c2",
        "colab": {}
      },
      "source": [
        "x.reshape(3, 5)"
      ],
      "execution_count": 0,
      "outputs": [
        {
          "output_type": "execute_result",
          "data": {
            "text/plain": [
              "array([[ 1,  2,  3,  4,  5],\n",
              "       [ 6,  7,  8,  9, 10],\n",
              "       [11, 12, 13, 14, 15]])"
            ]
          },
          "metadata": {
            "tags": []
          },
          "execution_count": 85
        }
      ]
    }
  ]
}