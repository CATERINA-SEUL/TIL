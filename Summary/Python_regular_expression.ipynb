{
  "nbformat": 4,
  "nbformat_minor": 0,
  "metadata": {
    "kernelspec": {
      "display_name": "Python 3",
      "language": "python",
      "name": "python3"
    },
    "language_info": {
      "codemirror_mode": {
        "name": "ipython",
        "version": 3
      },
      "file_extension": ".py",
      "mimetype": "text/x-python",
      "name": "python",
      "nbconvert_exporter": "python",
      "pygments_lexer": "ipython3",
      "version": "3.7.3"
    },
    "colab": {
      "name": "Python_regular expression.ipynb",
      "provenance": []
    }
  },
  "cells": [
    {
      "cell_type": "markdown",
      "metadata": {
        "id": "1REy9jxkRLcL",
        "colab_type": "text"
      },
      "source": [
        "### 정규 표현식\n",
        "\n",
        " - regular expression\n",
        " - 특정한 패턴과 일치하는 문자열을 '검색' . '치환', '제거'하는 기능을 지원\n",
        " - 정규 표현식의 도움없이 패턴을 찾는 작업(rule) 기반은 불완전하거나, 작업의 cost 가 높음 \n",
        " - e.g) 이메일 형식 판별, 전화번호 형식 판별, 숫자로만 이루어진 문자열 등\n",
        " \n",
        " #### raw string\n",
        "  - 문자열 앞에 r이 붙으면 해당 문자열이 구성된 그대로 문자열로 변환"
      ]
    },
    {
      "cell_type": "code",
      "metadata": {
        "id": "7XeK_fMhRLcL",
        "colab_type": "code",
        "outputId": "8199a90b-571d-49b5-e63c-d9a653b4aa01",
        "colab": {}
      },
      "source": [
        "a = 'abcdefg\\n' # escapce 문자열\n",
        "print(a)\n",
        "\n",
        "b = r'abcdef\\n' # 문자로 인식 \n",
        "print(b)"
      ],
      "execution_count": 0,
      "outputs": [
        {
          "output_type": "stream",
          "text": [
            "abcdefg\n",
            "\n",
            "abcdef\\n\n"
          ],
          "name": "stdout"
        }
      ]
    },
    {
      "cell_type": "markdown",
      "metadata": {
        "id": "6tnq3nm5RLcN",
        "colab_type": "text"
      },
      "source": [
        "### 기본 패턴\n",
        "\n",
        " - a, X , 9 등등 문자 하나하나의 character들은 정확히 해당 문자와 일치\n",
        "     - e.g) 패턴 test는 test 문자열과 일치\n",
        "     - 대소문자의 경우 기본적으로 구별하나, 구별하지 않도록 설정 가능\n",
        "     \n",
        " - 몇몇 문자들에 대해서는 예외가 존재하는데, 이들은 특별한 의미로 사용됨\n",
        "     - .^$*+?{}[]\\|()\n",
        " - 마침표 : 어떤 한개의 character와 일치 (newline(엔터) 제외)\n",
        " - \\w : 문자 character 와 일치 [a-zA-Z0-9]\n",
        " - \\s : 공백문자와 일치\n",
        " - \\t, \\n , \\r : tab, newline, return\n",
        " - \\d : 숫자 character와 일치 [0-9]\n",
        " - ^ : 시작, $ : 끝 각각 문자열의 시작과 끝을 의미\n",
        " - \\가 붙으면 스페셜한 의미가 없어짐, \\. 는 . 자체를 의미 \\\\ 는 \\를 의미"
      ]
    },
    {
      "cell_type": "markdown",
      "metadata": {
        "id": "lfB_aeidRLcO",
        "colab_type": "text"
      },
      "source": [
        "### search method\n",
        "\n",
        " - 첫번째로 패턴을 찾으면 match 객체를 반환\n",
        " - 패턴을 찾지 못하면 NONE 반환\n"
      ]
    },
    {
      "cell_type": "code",
      "metadata": {
        "id": "E8Ru6RrPRLcO",
        "colab_type": "code",
        "outputId": "e653d69c-e1c5-4445-ca83-c4cda603ac2e",
        "colab": {}
      },
      "source": [
        "import re\n",
        "m = re.search(r\"abc\",'123abcedfg')\n",
        "\n",
        "print(m.start())\n",
        "print(m.end())\n",
        "print(m.group())"
      ],
      "execution_count": 0,
      "outputs": [
        {
          "output_type": "stream",
          "text": [
            "3\n",
            "6\n",
            "abc\n"
          ],
          "name": "stdout"
        }
      ]
    },
    {
      "cell_type": "code",
      "metadata": {
        "id": "vOjwB5iIRLcR",
        "colab_type": "code",
        "outputId": "95d8a248-0401-42ec-fb63-9e6dd686bf3d",
        "colab": {}
      },
      "source": [
        "m = re.search(r'\\d\\d\\w\\w', '112abcdefg')\n",
        "m"
      ],
      "execution_count": 0,
      "outputs": [
        {
          "output_type": "execute_result",
          "data": {
            "text/plain": [
              "<re.Match object; span=(0, 4), match='112a'>"
            ]
          },
          "metadata": {
            "tags": []
          },
          "execution_count": 102
        }
      ]
    },
    {
      "cell_type": "code",
      "metadata": {
        "id": "rUIyRWxXRLcS",
        "colab_type": "code",
        "outputId": "9477d38f-a76c-4189-ccaa-45cfa3be4336",
        "colab": {}
      },
      "source": [
        "m = re.search(r'..\\w\\w', '@#$%asdfberf')\n",
        "m"
      ],
      "execution_count": 0,
      "outputs": [
        {
          "output_type": "execute_result",
          "data": {
            "text/plain": [
              "<re.Match object; span=(2, 6), match='$%as'>"
            ]
          },
          "metadata": {
            "tags": []
          },
          "execution_count": 105
        }
      ]
    },
    {
      "cell_type": "markdown",
      "metadata": {
        "id": "iWkWTrwsRLcV",
        "colab_type": "text"
      },
      "source": [
        "###  metacharacters\n",
        "\n",
        " - [] 문자들의 범위를 나타내기 위해 사용\n",
        " \n",
        "    - [] 내부의 메타 캐릭터는 캐릭터 자체를 나타냄\n",
        "    - e.g)\n",
        "    - [abck] : a or b or c or k\n",
        "    - [abc.^] : a or b or c or. or ^\n",
        "    - [a-d] : - 와 함께 사용되면 해당문자 사이의 범위에 속하는 문자 중 하나\n",
        "    - [0-9] : 모든 숫자\n",
        "    - [a-z] : 모든 소문자\n",
        "    - [A-Z] : 모든 대문자\n",
        "    - [a-zA-Z0-9] : 모든 알파벳 문자 및 숫자\n",
        "    - [^0-9] : ^ 가 맨 앞에 사용되는 경우 해당 문자 패턴이 아닌 것과 매칭"
      ]
    },
    {
      "cell_type": "code",
      "metadata": {
        "id": "xQZHLKAlRLcV",
        "colab_type": "code",
        "outputId": "b95047e1-5b69-4bfc-8ea5-2fee71ec261e",
        "colab": {}
      },
      "source": [
        "m = re.search(r'[cbm]at', 'cat')\n",
        "m"
      ],
      "execution_count": 0,
      "outputs": [
        {
          "output_type": "execute_result",
          "data": {
            "text/plain": [
              "<re.Match object; span=(0, 3), match='cat'>"
            ]
          },
          "metadata": {
            "tags": []
          },
          "execution_count": 107
        }
      ]
    },
    {
      "cell_type": "markdown",
      "metadata": {
        "id": "92RBPvyERLcX",
        "colab_type": "text"
      },
      "source": [
        "### \\\n",
        "\n",
        " - 1. 다른 문자와 함께 사용되어 특수한 의미를 지님\n",
        "     - \\d : 숫자를 [0-9]와 동일\n",
        "     - \\D : 숫자가 아닌 문자 [0-9^] 와 동일\n",
        "     - \\s : 공백 문자 (띄어쓰기, 탭, 엔터 등)\n",
        "     - \\S : 공백이 아닌 문자\n",
        "     - \\w : 알파벳 대소문자, 숫자 [0-9a-zA-Z]와 동일\n",
        "     - \\W : non-alpha-numeric [^0-9a-zA-Z] 동일\n",
        " - 2. 메타 캐릭터가 캐릭터 자체를 표현하도록 할 경우 사용\n",
        "      - \\.\\\\"
      ]
    },
    {
      "cell_type": "code",
      "metadata": {
        "id": "hm1PqMTwRLcY",
        "colab_type": "code",
        "outputId": "9ef62f22-2285-44e0-d554-929d54605e77",
        "colab": {}
      },
      "source": [
        "m =re.search(r'\\Sand', 'apple land banana')\n",
        "m"
      ],
      "execution_count": 0,
      "outputs": [
        {
          "output_type": "execute_result",
          "data": {
            "text/plain": [
              "<re.Match object; span=(6, 10), match='land'>"
            ]
          },
          "metadata": {
            "tags": []
          },
          "execution_count": 108
        }
      ]
    },
    {
      "cell_type": "markdown",
      "metadata": {
        "id": "WNxHBeCSRLca",
        "colab_type": "text"
      },
      "source": [
        "### .\n",
        "\n",
        " - 모든 문자를 의미"
      ]
    },
    {
      "cell_type": "markdown",
      "metadata": {
        "id": "V2wgl4LgRLca",
        "colab_type": "text"
      },
      "source": [
        "### 반복패턴\n",
        "\n",
        " - 패턴 뒤에 위치하는 *, +.  ?는 해당 패턴이 반복적으로 존재하는지 검사\n",
        "     - '+' : 1번 이상의 패턴이 발생\n",
        "     - '*' : 0번 이상의 패턴이 발생\n",
        "     - '?' : 0 혹은 1번 이상의 패턴이 발생\n",
        "     \n",
        " - 반복 패턴의 경우 greedygㅏ게 검색함, 즉 가능한 많은 부분이 매칭되도록 함\n",
        "     - e.g) a[bcd]*b 의 패턴을 abcbdccb에서 검색하는 경우\n",
        "         - ab, abcd, abbcbdccb 전부 가능 하지만 최대한 많은 부분이 매칭된 abbcbdccb가 검색된 패턴"
      ]
    },
    {
      "cell_type": "code",
      "metadata": {
        "id": "dz5NQZRpRLcb",
        "colab_type": "code",
        "outputId": "40b6eb6e-858e-404e-eef8-48ef46515f8d",
        "colab": {}
      },
      "source": [
        "re.search(r'a[bcd]*b', 'abcbdccb')"
      ],
      "execution_count": 0,
      "outputs": [
        {
          "output_type": "execute_result",
          "data": {
            "text/plain": [
              "<re.Match object; span=(0, 8), match='abcbdccb'>"
            ]
          },
          "metadata": {
            "tags": []
          },
          "execution_count": 109
        }
      ]
    },
    {
      "cell_type": "code",
      "metadata": {
        "id": "d0nh47goRLce",
        "colab_type": "code",
        "outputId": "7957c684-7ea6-4d10-d3ee-acd48b9a7d77",
        "colab": {}
      },
      "source": [
        "re.search(r'b\\w+a','banana')"
      ],
      "execution_count": 0,
      "outputs": [
        {
          "output_type": "execute_result",
          "data": {
            "text/plain": [
              "<re.Match object; span=(0, 6), match='banana'>"
            ]
          },
          "metadata": {
            "tags": []
          },
          "execution_count": 110
        }
      ]
    },
    {
      "cell_type": "code",
      "metadata": {
        "id": "q3uYaKCpRLcg",
        "colab_type": "code",
        "outputId": "7020ad57-a93d-4ef4-f0cd-687760bfca19",
        "colab": {}
      },
      "source": [
        "re.search(r'i+', 'piigiii')"
      ],
      "execution_count": 0,
      "outputs": [
        {
          "output_type": "execute_result",
          "data": {
            "text/plain": [
              "<re.Match object; span=(1, 3), match='ii'>"
            ]
          },
          "metadata": {
            "tags": []
          },
          "execution_count": 111
        }
      ]
    },
    {
      "cell_type": "code",
      "metadata": {
        "id": "BY2Smh4kRLcj",
        "colab_type": "code",
        "outputId": "0ac8f8be-9e90-4ac3-b63d-42cbb1a2cedb",
        "colab": {}
      },
      "source": [
        "re.search(r'pi*g', 'piig')"
      ],
      "execution_count": 0,
      "outputs": [
        {
          "output_type": "execute_result",
          "data": {
            "text/plain": [
              "<re.Match object; span=(0, 4), match='piig'>"
            ]
          },
          "metadata": {
            "tags": []
          },
          "execution_count": 112
        }
      ]
    },
    {
      "cell_type": "markdown",
      "metadata": {
        "id": "buSjE8pjRLcl",
        "colab_type": "text"
      },
      "source": [
        "### ^*, *$\n",
        "\n",
        " - ^ 문자열의 맨 앞부터 일치하는 경우 검색\n",
        " - $ 문자열의 맨 뒤부터 일치하는 경우 검색"
      ]
    },
    {
      "cell_type": "code",
      "metadata": {
        "id": "8CRTcqrsRLcm",
        "colab_type": "code",
        "outputId": "81981954-f1bf-4619-957b-27bc9119392f",
        "colab": {}
      },
      "source": [
        "re.search(r'b\\w+a', 'cabana')"
      ],
      "execution_count": 0,
      "outputs": [
        {
          "output_type": "execute_result",
          "data": {
            "text/plain": [
              "<re.Match object; span=(2, 6), match='bana'>"
            ]
          },
          "metadata": {
            "tags": []
          },
          "execution_count": 113
        }
      ]
    },
    {
      "cell_type": "code",
      "metadata": {
        "id": "bcB39YoKRLco",
        "colab_type": "code",
        "outputId": "7281165c-9117-44ce-ecc1-f8a12ec04eeb",
        "colab": {}
      },
      "source": [
        "re.search(r'^b\\w+a', 'babana')"
      ],
      "execution_count": 0,
      "outputs": [
        {
          "output_type": "execute_result",
          "data": {
            "text/plain": [
              "<re.Match object; span=(0, 6), match='babana'>"
            ]
          },
          "metadata": {
            "tags": []
          },
          "execution_count": 116
        }
      ]
    },
    {
      "cell_type": "code",
      "metadata": {
        "id": "8eha-2mjRLcr",
        "colab_type": "code",
        "outputId": "a65009c5-b4ee-48bb-f089-da16deae668b",
        "colab": {}
      },
      "source": [
        "re.search(r'b\\w+a$', 'cabana')"
      ],
      "execution_count": 0,
      "outputs": [
        {
          "output_type": "execute_result",
          "data": {
            "text/plain": [
              "<re.Match object; span=(2, 6), match='bana'>"
            ]
          },
          "metadata": {
            "tags": []
          },
          "execution_count": 118
        }
      ]
    },
    {
      "cell_type": "markdown",
      "metadata": {
        "id": "ssxPsDuuRLct",
        "colab_type": "text"
      },
      "source": [
        "### grouping\n",
        "\n",
        " - () 을 사용하여 그루핑\n",
        " - 매칭 결과를 각 그룹별로 분리가능\n",
        " - 패턴 명시할 때, 각 그룹을 괄호() 안에 넣어 분리하여 사용"
      ]
    },
    {
      "cell_type": "code",
      "metadata": {
        "id": "wu_b_ziIRLct",
        "colab_type": "code",
        "outputId": "f29c3f28-6374-42ec-b4b0-c585e8ccb801",
        "colab": {}
      },
      "source": [
        "m =re.search(r'(\\w+)@(.+)', 'test@gmail.com')\n",
        "\n",
        "print(m.group(1))\n",
        "print(m.group(2))"
      ],
      "execution_count": 0,
      "outputs": [
        {
          "output_type": "stream",
          "text": [
            "test\n",
            "gmail.com\n"
          ],
          "name": "stdout"
        }
      ]
    },
    {
      "cell_type": "markdown",
      "metadata": {
        "id": "eymFz3xpRLcw",
        "colab_type": "text"
      },
      "source": [
        "### {}\n",
        "\n",
        " - *, + , ? 을 사용하여 반복적인 패턴을 찾는 것이 가능하나, 반복의 횟수 제한은 불가\n",
        " - 패턴 뒤에 위치하는 중괄호{}의 숫자를 명시하면 해당 숫자 만큼의 반복인 경우에만 매칭\n",
        " - {4} - 4번 반복\n",
        " - {3,4} - 3~4번 반복"
      ]
    },
    {
      "cell_type": "code",
      "metadata": {
        "id": "XB4kkofcRLcw",
        "colab_type": "code",
        "outputId": "83a5bb8b-b620-433c-d9d1-a489ff426a18",
        "colab": {}
      },
      "source": [
        "re.search('pi{3,5}g', 'piiiiig')"
      ],
      "execution_count": 0,
      "outputs": [
        {
          "output_type": "execute_result",
          "data": {
            "text/plain": [
              "<re.Match object; span=(0, 7), match='piiiiig'>"
            ]
          },
          "metadata": {
            "tags": []
          },
          "execution_count": 126
        }
      ]
    },
    {
      "cell_type": "markdown",
      "metadata": {
        "id": "T7slk3xPRLcy",
        "colab_type": "text"
      },
      "source": [
        "### 미니멈 매칭(non-greedy way)\n",
        "\n",
        " - 기본적으로 *,+,? 를 사용하면 greedy(맥시멈 매칭)하게 동작함\n",
        " - *? , +? 을 이용하여 해당 기능을 구현"
      ]
    },
    {
      "cell_type": "code",
      "metadata": {
        "id": "-ed66d5IRLcz",
        "colab_type": "code",
        "outputId": "e361be4a-f66e-48e1-f213-0854d9865134",
        "colab": {}
      },
      "source": [
        "re.search(r'<.+?>','<html>haha</html>')"
      ],
      "execution_count": 0,
      "outputs": [
        {
          "output_type": "execute_result",
          "data": {
            "text/plain": [
              "<re.Match object; span=(0, 6), match='<html>'>"
            ]
          },
          "metadata": {
            "tags": []
          },
          "execution_count": 129
        }
      ]
    },
    {
      "cell_type": "markdown",
      "metadata": {
        "id": "NEtJ2AJyRLc1",
        "colab_type": "text"
      },
      "source": [
        "### {}?\n",
        "\n",
        " - {m,n}의 경우 m번에서 n번 반복하나 greedy 하게 동작\n",
        " - {m,n}?로 사용하면 non-greedy 하게 동작,  즉 최소 m번만 매칭하면 만족"
      ]
    },
    {
      "cell_type": "code",
      "metadata": {
        "id": "4VBwES1fRLc2",
        "colab_type": "code",
        "outputId": "468e636f-ecfe-4933-9479-df55db400d6f",
        "colab": {}
      },
      "source": [
        "re.search(r'a{3,5}?','aaaaa')"
      ],
      "execution_count": 0,
      "outputs": [
        {
          "output_type": "execute_result",
          "data": {
            "text/plain": [
              "<re.Match object; span=(0, 3), match='aaa'>"
            ]
          },
          "metadata": {
            "tags": []
          },
          "execution_count": 131
        }
      ]
    },
    {
      "cell_type": "markdown",
      "metadata": {
        "id": "OM_ogYCKRLc4",
        "colab_type": "text"
      },
      "source": [
        "### match\n",
        " - search와 유사하나, 주어진 문자열의 시작부터 비교하여 패턴이 있는지 확인\n",
        " - 시작부터 해당 패턴이 존재하지 않다면 None 반환\n"
      ]
    },
    {
      "cell_type": "code",
      "metadata": {
        "id": "TocZYJP6RLc4",
        "colab_type": "code",
        "colab": {}
      },
      "source": [
        "re.match(r'\\d\\d\\d','my number is 1234')"
      ],
      "execution_count": 0,
      "outputs": []
    },
    {
      "cell_type": "code",
      "metadata": {
        "id": "xHd3myu7RLc6",
        "colab_type": "code",
        "outputId": "bc314517-51ef-4be2-ab38-b74cdcefbb4c",
        "colab": {}
      },
      "source": [
        "re.match(r'\\d\\d\\d','123 is my number')"
      ],
      "execution_count": 0,
      "outputs": [
        {
          "output_type": "execute_result",
          "data": {
            "text/plain": [
              "<re.Match object; span=(0, 3), match='123'>"
            ]
          },
          "metadata": {
            "tags": []
          },
          "execution_count": 133
        }
      ]
    },
    {
      "cell_type": "markdown",
      "metadata": {
        "id": "S1Ir57GURLc8",
        "colab_type": "text"
      },
      "source": [
        "### findall\n",
        "\n",
        " - search 가 최초로 매칭되는 패턴만 반환한다면, findall 은 매칭되는 전체의 패턴을 반환\n",
        " - 매칭되는 모든 결과를 리스트 형태로 반환"
      ]
    },
    {
      "cell_type": "code",
      "metadata": {
        "id": "Ofig65PhRLc9",
        "colab_type": "code",
        "outputId": "7d5617b9-f90e-432b-dc78-066e68aa2c07",
        "colab": {}
      },
      "source": [
        "re.findall(r'[\\w-]+@[\\w.]+','test@gmail.com haha test2@gmail.com nice test test')"
      ],
      "execution_count": 0,
      "outputs": [
        {
          "output_type": "execute_result",
          "data": {
            "text/plain": [
              "['test@gmail.com', 'test2@gmail.com']"
            ]
          },
          "metadata": {
            "tags": []
          },
          "execution_count": 134
        }
      ]
    },
    {
      "cell_type": "markdown",
      "metadata": {
        "id": "iER2PwYPRLdA",
        "colab_type": "text"
      },
      "source": [
        "### sub \n",
        "\n",
        " - 주어진 문자열에서 일치하는 모든 패턴을 replace\n",
        " - 그 결과를 문자열로 다시 반환함\n",
        " - 두번째 인자는 특정 문자열이 될 수도 있고, 함수가 될 수도 있음\n",
        " - count가 0인 경우는 전체를, 1이상이면 해당 숫자만큼 치환 됨\n"
      ]
    },
    {
      "cell_type": "code",
      "metadata": {
        "id": "Dlyp99O9RLdB",
        "colab_type": "code",
        "outputId": "c6285431-e52b-4396-9894-2b2d70e016d6",
        "colab": {}
      },
      "source": [
        "re.sub(r'[\\w-]+@[\\w.]+','great','test@gmail.com haha test2@gmail.com nice test test', count= 1 )"
      ],
      "execution_count": 0,
      "outputs": [
        {
          "output_type": "execute_result",
          "data": {
            "text/plain": [
              "'great haha test2@gmail.com nice test test'"
            ]
          },
          "metadata": {
            "tags": []
          },
          "execution_count": 138
        }
      ]
    },
    {
      "cell_type": "markdown",
      "metadata": {
        "id": "Sp6VYlnDRLdD",
        "colab_type": "text"
      },
      "source": [
        "### compile\n",
        "\n",
        " - 동일한 정규표현식을 매번 다시 쓰기 번거로움을 해결\n",
        " - compile 로 해당 표현식을 re.RegexObject 객체로 저장하여 사용 가능"
      ]
    },
    {
      "cell_type": "code",
      "metadata": {
        "id": "kqGE2jxGRLdI",
        "colab_type": "code",
        "outputId": "0ca28f57-154e-438c-a3c0-6b77778e8c5f",
        "colab": {}
      },
      "source": [
        "email_reg = re.compile(r'[\\w-]+@[\\w.]+')\n",
        "email_reg.search('test@gmail.com haha good')\n"
      ],
      "execution_count": 0,
      "outputs": [
        {
          "output_type": "execute_result",
          "data": {
            "text/plain": [
              "<re.Match object; span=(0, 14), match='test@gmail.com'>"
            ]
          },
          "metadata": {
            "tags": []
          },
          "execution_count": 144
        }
      ]
    },
    {
      "cell_type": "code",
      "metadata": {
        "id": "jw-PF2cJRLdL",
        "colab_type": "code",
        "colab": {}
      },
      "source": [
        ""
      ],
      "execution_count": 0,
      "outputs": []
    },
    {
      "cell_type": "markdown",
      "metadata": {
        "id": "yBcPls8RRLdN",
        "colab_type": "text"
      },
      "source": [
        "### 연습문제 \n",
        "\n",
        " - 아래 뉴스에서 이메일 주소를 추출해 보세요\n",
        " - 다음 중 올바른 (http, https) 웹페이지만 찾으시오."
      ]
    },
    {
      "cell_type": "code",
      "metadata": {
        "id": "Mhs3PuA3RLdO",
        "colab_type": "code",
        "outputId": "7f8d8368-d470-4cd7-c068-0172d6715701",
        "colab": {}
      },
      "source": [
        "email_reg = re.compile(r'[\\w-]+@[\\w.]+\\w+')\n",
        "email_reg.search(news1)"
      ],
      "execution_count": 0,
      "outputs": [
        {
          "output_type": "execute_result",
          "data": {
            "text/plain": [
              "<re.Match object; span=(0, 14), match='test@gmail.com'>"
            ]
          },
          "metadata": {
            "tags": []
          },
          "execution_count": 145
        }
      ]
    },
    {
      "cell_type": "code",
      "metadata": {
        "id": "sPMYgU_XRLdQ",
        "colab_type": "code",
        "outputId": "58d2fc22-7f00-4eec-a933-6677a9a9746b",
        "colab": {}
      },
      "source": [
        "web_reg = re.compile(r'https?://[\\w.]+\\w+$')\n",
        "list(map(lambda w:web_reg.search(w) != None, webs))"
      ],
      "execution_count": 0,
      "outputs": [
        {
          "output_type": "error",
          "ename": "NameError",
          "evalue": "name 'webs' is not defined",
          "traceback": [
            "\u001b[0;31m---------------------------------------------------------------------------\u001b[0m",
            "\u001b[0;31mNameError\u001b[0m                                 Traceback (most recent call last)",
            "\u001b[0;32m<ipython-input-146-ac60ef64976a>\u001b[0m in \u001b[0;36m<module>\u001b[0;34m\u001b[0m\n\u001b[1;32m      1\u001b[0m \u001b[0mweb_reg\u001b[0m \u001b[0;34m=\u001b[0m \u001b[0mre\u001b[0m\u001b[0;34m.\u001b[0m\u001b[0mcompile\u001b[0m\u001b[0;34m(\u001b[0m\u001b[0;34mr'https?://[\\w.]+\\w+$'\u001b[0m\u001b[0;34m)\u001b[0m\u001b[0;34m\u001b[0m\u001b[0;34m\u001b[0m\u001b[0m\n\u001b[0;32m----> 2\u001b[0;31m \u001b[0mlist\u001b[0m\u001b[0;34m(\u001b[0m\u001b[0mmap\u001b[0m\u001b[0;34m(\u001b[0m\u001b[0;32mlambda\u001b[0m \u001b[0mw\u001b[0m\u001b[0;34m:\u001b[0m\u001b[0mweb_reg\u001b[0m\u001b[0;34m.\u001b[0m\u001b[0msearch\u001b[0m\u001b[0;34m(\u001b[0m\u001b[0mw\u001b[0m\u001b[0;34m)\u001b[0m \u001b[0;34m!=\u001b[0m \u001b[0;32mNone\u001b[0m\u001b[0;34m,\u001b[0m \u001b[0mwebs\u001b[0m\u001b[0;34m)\u001b[0m\u001b[0;34m)\u001b[0m\u001b[0;34m\u001b[0m\u001b[0;34m\u001b[0m\u001b[0m\n\u001b[0m",
            "\u001b[0;31mNameError\u001b[0m: name 'webs' is not defined"
          ]
        }
      ]
    },
    {
      "cell_type": "code",
      "metadata": {
        "id": "ngSaoYsvRLdT",
        "colab_type": "code",
        "colab": {}
      },
      "source": [
        "import math\n",
        "class Circle:\n",
        "    def __init__(self, radius):\n",
        "        self.radius = radius\n",
        "    \n",
        "    def get_perimeter(self):\n",
        "        return"
      ],
      "execution_count": 0,
      "outputs": []
    },
    {
      "cell_type": "code",
      "metadata": {
        "id": "V1MWmJJtRLdV",
        "colab_type": "code",
        "colab": {}
      },
      "source": [
        "re.search(r'pi+g*','pgg')"
      ],
      "execution_count": 0,
      "outputs": []
    },
    {
      "cell_type": "code",
      "metadata": {
        "id": "ddpbdHk5RLdX",
        "colab_type": "code",
        "outputId": "c83f1caa-d98b-44ab-c4a0-cb1abd3a3c52",
        "colab": {}
      },
      "source": [
        "class Test:\n",
        "    def __init__ (self, num):\n",
        "        self.num = num\n",
        "        num = 1\n",
        "        \n",
        "    def add_num(self,num):\n",
        "        self.num = self.num+num\n",
        "        num = 50\n",
        "        \n",
        "t = Test(95)\n",
        "print(t.num)\n",
        "\n",
        "t.add_num(30)\n",
        "print(t.num)"
      ],
      "execution_count": 0,
      "outputs": [
        {
          "output_type": "stream",
          "text": [
            "95\n",
            "125\n"
          ],
          "name": "stdout"
        }
      ]
    },
    {
      "cell_type": "code",
      "metadata": {
        "id": "TLLFclhWRLdZ",
        "colab_type": "code",
        "outputId": "df678d0d-56fa-49ad-cf74-124039528ce1",
        "colab": {}
      },
      "source": [
        "variables = ['abc','3abc','a_bdd','3','a','good344','aB_23']\n",
        "pattern = r'^[a-zA-Z_]+[\\w_]'\n",
        "\n",
        "for var in variables:\n",
        "    m = re.search(pattern, var)\n",
        "    if m :\n",
        "        print(m.group())"
      ],
      "execution_count": 0,
      "outputs": [
        {
          "output_type": "stream",
          "text": [
            "abc\n",
            "a_bdd\n",
            "good3\n",
            "aB_2\n"
          ],
          "name": "stdout"
        }
      ]
    },
    {
      "cell_type": "code",
      "metadata": {
        "id": "0s7HVO4zRLdb",
        "colab_type": "code",
        "colab": {}
      },
      "source": [
        ""
      ],
      "execution_count": 0,
      "outputs": []
    }
  ]
}