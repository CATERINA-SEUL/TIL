{
  "nbformat": 4,
  "nbformat_minor": 0,
  "metadata": {
    "kernelspec": {
      "display_name": "Python 3",
      "language": "python",
      "name": "python3"
    },
    "language_info": {
      "codemirror_mode": {
        "name": "ipython",
        "version": 3
      },
      "file_extension": ".py",
      "mimetype": "text/x-python",
      "name": "python",
      "nbconvert_exporter": "python",
      "pygments_lexer": "ipython3",
      "version": "3.7.3"
    },
    "colab": {
      "name": "Python 04.ipynb",
      "provenance": []
    }
  },
  "cells": [
    {
      "cell_type": "markdown",
      "metadata": {
        "id": "hTx8zHfdrRtm",
        "colab_type": "text"
      },
      "source": [
        "### for 반복문\n",
        "\n",
        " - 리스트, 문자열 등등 순회 가능한 객체를 순회하면서 값을 처리할 때 사용\n",
        " - 아래와 같은 문법으로 사용\n",
        " - 여기서 i는 매번 수행될 때마다, a의 아이템으로 순차적으로 변경됨\n",
        " - 모든 아이템이 순회되면 for 문 종료"
      ]
    },
    {
      "cell_type": "code",
      "metadata": {
        "id": "X02eLVZArRtn",
        "colab_type": "code",
        "colab": {}
      },
      "source": [
        "a = [1,2,3,4,5]\n",
        "\n",
        "for i in a :\n",
        "    print(i, i*2)"
      ],
      "execution_count": 0,
      "outputs": []
    },
    {
      "cell_type": "code",
      "metadata": {
        "id": "0FiMa8WlrRtp",
        "colab_type": "code",
        "colab": {}
      },
      "source": [
        "a = [1,2,3,4,5]\n",
        "\n",
        "for i in a :\n",
        "    print(i, i*2)\n",
        "\n",
        "print('hahaa')"
      ],
      "execution_count": 0,
      "outputs": []
    },
    {
      "cell_type": "markdown",
      "metadata": {
        "id": "WU5J_0k1rRtr",
        "colab_type": "text"
      },
      "source": [
        "### 문자열의 아이템 출력하기\n",
        "\n",
        " - 문자열의 경우 순회 가능, 리스트의 유사하게 순회 가능"
      ]
    },
    {
      "cell_type": "code",
      "metadata": {
        "id": "CZo4QFkprRts",
        "colab_type": "code",
        "colab": {}
      },
      "source": [
        "for x in 10:\n",
        "    print(x) # 정수형은 순회할 수 없다. "
      ],
      "execution_count": 0,
      "outputs": []
    },
    {
      "cell_type": "code",
      "metadata": {
        "id": "n1TylXBUrRtv",
        "colab_type": "code",
        "colab": {}
      },
      "source": [
        "a = 'hello world'\n",
        "\n",
        "for character in a :\n",
        "    print(character)"
      ],
      "execution_count": 0,
      "outputs": []
    },
    {
      "cell_type": "markdown",
      "metadata": {
        "id": "op5CUUuWrRtx",
        "colab_type": "text"
      },
      "source": [
        "### 리스트 아이템 출력하기"
      ]
    },
    {
      "cell_type": "code",
      "metadata": {
        "id": "LJiTSdElrRty",
        "colab_type": "code",
        "colab": {}
      },
      "source": [
        "a = [1,2,10,3,5,6]\n",
        "\n",
        "for num in a :\n",
        "    if num % 2 == 0:\n",
        "        print(num/2)\n",
        "    else:\n",
        "        print(num+1)\n",
        "    print(num)"
      ],
      "execution_count": 0,
      "outputs": []
    },
    {
      "cell_type": "markdown",
      "metadata": {
        "id": "cKMJBAK4rRt0",
        "colab_type": "text"
      },
      "source": [
        "### dict 아이템 출력하기\n",
        " - dictionary의 경우 기본적으로 순회하게 되면 key 값을 참조\n",
        " - keys()함수를 이용하여 key값만 순회가능\n",
        " - values() 함수를 이용하여 value 값만 순회가능\n",
        " - items()함수를 이용하여 tuple 형태로 key, value 순회가능"
      ]
    },
    {
      "cell_type": "code",
      "metadata": {
        "id": "_8b5i-ofrRt1",
        "colab_type": "code",
        "colab": {}
      },
      "source": [
        "a = {'korea':'seoul', 'japan':'tokyo'}\n",
        "\n",
        "for k in a :\n",
        "    print(k, a[k])"
      ],
      "execution_count": 0,
      "outputs": []
    },
    {
      "cell_type": "code",
      "metadata": {
        "id": "q9iDnUwWrRt4",
        "colab_type": "code",
        "colab": {}
      },
      "source": [
        "for value in a.values():\n",
        "    print(value)"
      ],
      "execution_count": 0,
      "outputs": []
    },
    {
      "cell_type": "code",
      "metadata": {
        "id": "l21uAxg1rRt7",
        "colab_type": "code",
        "colab": {}
      },
      "source": [
        "list(a.items())"
      ],
      "execution_count": 0,
      "outputs": []
    },
    {
      "cell_type": "code",
      "metadata": {
        "id": "a4ZNtVbHrRt-",
        "colab_type": "code",
        "colab": {}
      },
      "source": [
        "for key , value in a.items():\n",
        "    print(key,value)"
      ],
      "execution_count": 0,
      "outputs": []
    },
    {
      "cell_type": "markdown",
      "metadata": {
        "id": "pMkV_VjhrRuA",
        "colab_type": "text"
      },
      "source": [
        "### for 에서 index 사용하기\n",
        "\n",
        " - 기본적으로 for에 리스트를 순회하는 경우, 값만 추출함\n",
        " - 아래와 같은 코드로 인덱스와 값 모두 사용가능(enumerate함수 이용)"
      ]
    },
    {
      "cell_type": "code",
      "metadata": {
        "id": "l34sj6j4rRuB",
        "colab_type": "code",
        "colab": {}
      },
      "source": [
        "a = [1,2,3,4,5]\n",
        "\n",
        "for i , val in enumerate(a):\n",
        "    print(i, val)"
      ],
      "execution_count": 0,
      "outputs": []
    },
    {
      "cell_type": "code",
      "metadata": {
        "id": "XKjtYsIwrRuE",
        "colab_type": "code",
        "colab": {}
      },
      "source": [
        "a = [1,2,3,4,5]\n",
        "\n",
        "for num in a:\n",
        "    print(num)"
      ],
      "execution_count": 0,
      "outputs": []
    },
    {
      "cell_type": "markdown",
      "metadata": {
        "id": "-ZVO4OGwrRuH",
        "colab_type": "text"
      },
      "source": [
        "### break\n",
        "\n",
        " - for 문의 경우에도 특정 조건일 때, loop 종료가 가능"
      ]
    },
    {
      "cell_type": "code",
      "metadata": {
        "id": "XFrBIRmCrRuI",
        "colab_type": "code",
        "colab": {}
      },
      "source": [
        "a = [100,90,80,70,60,50]\n",
        "\n",
        "for num in a:\n",
        "    if num < 80:\n",
        "        break\n",
        "    print(num)"
      ],
      "execution_count": 0,
      "outputs": []
    },
    {
      "cell_type": "markdown",
      "metadata": {
        "id": "JfXtOfTprRuK",
        "colab_type": "text"
      },
      "source": [
        "### continue"
      ]
    },
    {
      "cell_type": "code",
      "metadata": {
        "id": "CRK5xOMsrRuL",
        "colab_type": "code",
        "colab": {}
      },
      "source": [
        "a = [100,90,80,70,60,50]\n",
        "\n",
        "for num in a:\n",
        "    if num > 60 and num <= 70:\n",
        "        continue\n",
        "    print(num)"
      ],
      "execution_count": 0,
      "outputs": []
    },
    {
      "cell_type": "markdown",
      "metadata": {
        "id": "RUIPv5anrRuP",
        "colab_type": "text"
      },
      "source": [
        "### loop 중첩\n",
        "\n",
        " - 반복문의 경우에도 중첩하여 사용 가능\n",
        " - 중첩이라는 것은 반복문 블록의 코드 안에 또 반복문의 코드가 작성되는 것을 의미\n",
        " - 이런 경우, 내부 루프는 외루 루프가 수행되는 만큼 반복 수행 됨\n",
        " - 또한 중첩의 경우 무한히 가능"
      ]
    },
    {
      "cell_type": "code",
      "metadata": {
        "id": "sOeoJJ8UrRuP",
        "colab_type": "code",
        "colab": {}
      },
      "source": [
        "a = [1,2,4]\n",
        "\n",
        "for i in a :\n",
        "    for j in a:\n",
        "        print (i*j)"
      ],
      "execution_count": 0,
      "outputs": []
    },
    {
      "cell_type": "markdown",
      "metadata": {
        "id": "eu__9-V6rRuS",
        "colab_type": "text"
      },
      "source": [
        "### 구구단 출력하기"
      ]
    },
    {
      "cell_type": "code",
      "metadata": {
        "id": "uwKbap9urRuS",
        "colab_type": "code",
        "colab": {}
      },
      "source": [
        "x = [2,3,4,5,6,7,8,9]\n",
        "y = [1,2,3,4,5,6,7,8,9]\n",
        "\n",
        "for i in x :\n",
        "    for j in y:\n",
        "        print(i, 'x', j,'=',i*j)"
      ],
      "execution_count": 0,
      "outputs": []
    }
  ]
}