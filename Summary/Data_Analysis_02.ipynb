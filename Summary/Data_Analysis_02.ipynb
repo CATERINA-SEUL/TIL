{
  "nbformat": 4,
  "nbformat_minor": 0,
  "metadata": {
    "colab": {
      "name": "Data_Analysis_02.ipynb",
      "provenance": [],
      "collapsed_sections": [],
      "authorship_tag": "ABX9TyPHDynsgEt63B7bPygZiFSG"
    },
    "kernelspec": {
      "name": "python3",
      "display_name": "Python 3"
    }
  },
  "cells": [
    {
      "cell_type": "markdown",
      "metadata": {
        "id": "rNNvnbX7hTfQ",
        "colab_type": "text"
      },
      "source": [
        "# 머신러닝\n",
        "\n",
        " - 컴퓨터가 데이터를 학습하는 알고리즘과 기술을 통칭\n",
        " - 컴퓨터 과학과 수학, 통계가 모두 필요한 학문\n",
        "\n",
        " [미래를 예측하는 용도로 활용]\n",
        "\n",
        " - 스팸을 분류하는 규칙을 만들어 모델 생성\n",
        " - 특정 단어 포함 여부\n",
        "\n",
        " ---------"
      ]
    },
    {
      "cell_type": "markdown",
      "metadata": {
        "id": "MavH_izahqI5",
        "colab_type": "text"
      },
      "source": [
        "## 모델화\n",
        "\n",
        " - 문제점 : 전문가들의 지식을 빈틈없이 규칙 집합으로 표현 가능한가?\n",
        "\n",
        " * 머신러닝 기반 스팸 필터링 (ex, google)\n",
        "\n",
        "-------\n",
        "## 분류 경계학습\n",
        " - spam / non - spam\n",
        "\n",
        " * 모델 & 학습 알고리즘\n",
        "\n",
        "  - 로지스틱 회귀모델\n",
        "  - 인공신경망\n",
        "  - 의사결정나무\n",
        "\n",
        "----\n"
      ]
    },
    {
      "cell_type": "markdown",
      "metadata": {
        "id": "7nvfz6DDiDiV",
        "colab_type": "text"
      },
      "source": [
        "### 3가지 유형의 머신러닝\n",
        "\n",
        " 1. 지도학습\n",
        "\n",
        " - 입력 데이터와 타겟값을 알고 있는 데이터를 학습하여, 관계 모델링\n",
        " - 새로운 데이터에 대한 타겟값을 예측하는데 사용\n",
        "\n",
        "                y = f(x)\n",
        "\n",
        " - 개, 고양이 사진 클래서 (y) / 개, 고양이 사진을 표현한 데이터 (x)\n",
        "\n",
        "    - 개, 고양이를 분류하는 모델 생성과정과 예측과정\n",
        "    - 학습 알고리즘\n",
        "    - model\n",
        "\n",
        " - 지도학습은 Y 의 형태에 따라 두가지로 나뉨\n",
        "   1) 분류 (Classification)\n",
        "    - 타겟 변수 Y가 이산형 변수인 경우\n",
        "    - 특정 값들로 표현\n",
        "    - 각 값이 몇 번 나타났는지 셀 수 있음\n",
        "\n",
        "   * decision boundary == 의사결정단계\n",
        "\n",
        "   2)\t회귀 ( Regreesion )\n",
        "    -\t타겟 변수 Y 가 연속형 변수인 경우\n",
        "    -\t연속 범위 내에서 임의의 값을 가질 수 있는 변수 (가질 수 있는 값이 무한정)\n",
        "  \n",
        "   * 입력변수 / 타겟변수가 하나씩인 함수  \n",
        "\n",
        "    Model or Regressor [ Y = aX1+b ] \n",
        "----\n",
        " 2.\t비지도학습\n",
        "\n",
        "  -\t타겟값(Y)이 없는 입력데이터(X) 만을 학습하는 방법\n",
        "  입력데이터가 내재되어 있는 특성을 찾아내는 용도\n",
        "\n",
        "    1)\t군집화 : 유사한 포인트들끼리 그룹을 만드는 방법\n",
        "      * X1 , X2 (model) : cluster의 분류\n",
        "\n",
        "    2)\t잠재 변수 모델 : 표현된 데이터 속에 내재되어 있는 요인을 찾는 것\n",
        "      * topic modeling (topics을 해석할 수 있다 == 단어의 기여도)\n",
        "\n",
        "    3)\t밀도 추정 (density Estimation)\n",
        "\n",
        "      (1)\t가우시안 혼합 모델(Gaussian Mixture model, GMM)\n",
        "    \n",
        "        * 가운데가 point\n",
        "        * 파란색 점 : 관측된 데이터들. \n",
        "      (2)\t커널 밀도 추정\n",
        "\n",
        "    4)\t이상치 탐지 (novelty detection)\n",
        "     - 다른 포인트들과 비교하여 많이 벗어나 있는 포인트 찾아내기\n",
        "\n",
        "    5)\t인공신경망 기반 비지도 학습\n",
        "    \n",
        "      Generative Adversarial Network (GAN)\n",
        "\n",
        "      random noise -> generator -> fake image -> discriminator real or fake\t\n",
        "      training set  \t\t\t\t \t\t\t\t \t\t\t\t \t -> discriminator  \n",
        "\n",
        " 3.\t강화학습\n",
        " - 자신이 한 행동에 대한 ‘보상’을 바탕으로 목적을 달성하는 학습\n",
        " - 아이가 걷는 과정, 자전거를 배우는 과정과 유사 \n",
        "\n",
        "        Agent -----------------------> Environment \n",
        "                      Action\n",
        "\n",
        " - \tGame AI (벽돌깨기, 쿠키런) \n"
      ]
    },
    {
      "cell_type": "code",
      "metadata": {
        "id": "5BP8rif9iPoM",
        "colab_type": "code",
        "colab": {}
      },
      "source": [
        ""
      ],
      "execution_count": 0,
      "outputs": []
    }
  ]
}