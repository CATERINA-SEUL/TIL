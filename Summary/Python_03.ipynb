{
  "nbformat": 4,
  "nbformat_minor": 0,
  "metadata": {
    "kernelspec": {
      "display_name": "Python 3",
      "language": "python",
      "name": "python3"
    },
    "language_info": {
      "codemirror_mode": {
        "name": "ipython",
        "version": 3
      },
      "file_extension": ".py",
      "mimetype": "text/x-python",
      "name": "python",
      "nbconvert_exporter": "python",
      "pygments_lexer": "ipython3",
      "version": "3.7.3"
    },
    "colab": {
      "name": "Python 03.ipynb",
      "provenance": []
    }
  },
  "cells": [
    {
      "cell_type": "markdown",
      "metadata": {
        "id": "CrsmklqBrRs2",
        "colab_type": "text"
      },
      "source": [
        "### condition (조건문)\n",
        "\n",
        " - 특정 조건을 만족하는 경우에만 수행할 작업이 있는 경우 사용\n",
        " - 모든 조건은 boolean 으로 표현 됨 (예외사항은 아래 배울 예정)\n",
        " - if, elif, else 키워드가 사용\n",
        " - 조건문의 경우 if, elif, else 블록에 종속된 코드는 들여쓰기로 표현 가능\n",
        " - 즉, 아래코드에서와 같이, 조건문 아래에 들여쓰기된 2줄의 코드만이 조건문의 조건에 따라 수행될 수도, 수행되지 않을 수도 있는 코드라고 할 수 있음. \n",
        " - 들여쓰기 된 코드를 블록(block) , 또는 코드블록이라고 함\n",
        " - python 에서 모든 블록의 시작점의 마지막에는 : 추가가 필요\n"
      ]
    },
    {
      "cell_type": "code",
      "metadata": {
        "id": "LZOgc7GIrRs3",
        "colab_type": "code",
        "colab": {}
      },
      "source": [
        "if 6 >= 5:\n",
        "    print ('7 is greater than5')\n",
        "    print('Yeah , it is true')\n",
        "\n",
        "print ('This code is not belongs to if stastements')"
      ],
      "execution_count": 0,
      "outputs": []
    },
    {
      "cell_type": "markdown",
      "metadata": {
        "id": "rJC1ekHDrRs7",
        "colab_type": "text"
      },
      "source": [
        "- Logical AND, OR, NOT\n",
        " - 조건문에서 사용되는 조건의 경우, boolean이기 때문에 논리식 AND, OR, NOT 이 사용가능\n",
        " - AND : and\n",
        " - OR : or\n",
        " - NOT : not\n",
        "\n",
        "- 논리표\n",
        " - AND\n",
        "      - T AND T : T\n",
        "      - T AND F : F\n",
        "      - F AND T : F\n",
        "      - F AND F : F\n",
        " - OR\n",
        "      - T OR T : T\n",
        "      - T OR F : T\n",
        "      - F OR T : T\n",
        "      - F OR F : F\n",
        " - NOT \n",
        "      - NOT T : F\n",
        "      - NOT F : T\n",
        "\n",
        "- 우선 순위 \n",
        "     NOT > AND > OR"
      ]
    },
    {
      "cell_type": "code",
      "metadata": {
        "id": "mUKuhoGErRs8",
        "colab_type": "code",
        "colab": {}
      },
      "source": [
        "a = 10\n",
        "b = 8\n",
        "c = 11"
      ],
      "execution_count": 0,
      "outputs": []
    },
    {
      "cell_type": "code",
      "metadata": {
        "id": "DgJVmTo8rRs_",
        "colab_type": "code",
        "colab": {}
      },
      "source": [
        "if a == 10 and b == 8 :\n",
        "    print('that is true')"
      ],
      "execution_count": 0,
      "outputs": []
    },
    {
      "cell_type": "markdown",
      "metadata": {
        "id": "3tz2-JAsrRtC",
        "colab_type": "text"
      },
      "source": [
        "### if 의 조건이 bool 이 아닌 경우\n",
        " - 일반적으로는 조건문에는 bool이 주로 위치함\n",
        " - 하지만 정수, 실수, 문자열 리스트 등 기본 타입도 조건에 사용 가능\n",
        " - False로 간주되는 값 (각 타입의 기본값)\n",
        " \n",
        "  - None\n",
        "  - 0\n",
        "  - 0.0\n",
        "  - ''\n",
        "  - []\n",
        "  - ()\n",
        "  - {}\n",
        "  - set()\n",
        " - 그 밖에는 모두 True로 간주"
      ]
    },
    {
      "cell_type": "markdown",
      "metadata": {
        "id": "00aKh5barRtD",
        "colab_type": "text"
      },
      "source": [
        "### if , else\n",
        " - if 가 아닌 경우, 나머지 조건을 표현하고 싶다면 바로 아래 else 블락 사용\n",
        " - 이 경우, if 조건이 true인 경우, if 블락의 코드가 수행, 거짓인 경우 else 블락의 코드가 수행\n",
        " - 주의할 점 : if와 else 사이에 다른 코드 삽입 불가"
      ]
    },
    {
      "cell_type": "code",
      "metadata": {
        "id": "23Rkmw6HrRtE",
        "colab_type": "code",
        "colab": {}
      },
      "source": [
        "a = 11\n",
        "if a % 2 == 0:\n",
        "    print(a / 2)\n",
        "else : \n",
        "    print(a + 1)"
      ],
      "execution_count": 0,
      "outputs": []
    },
    {
      "cell_type": "markdown",
      "metadata": {
        "id": "sTP6zV4jrRtH",
        "colab_type": "text"
      },
      "source": [
        "### if, elif, else\n",
        " - 조건이 여러개인ㅇ 경우, 다음 조건을 elif 블록에 명시 가능\n",
        " - 이 경우, 각 조건을 확인 후 ture인 조건의 코드 블락을 실행한 후, 전체 if, elif, else 구문을 종료\n",
        " - 조건문을 사용할 때는, if 이후 0개 이상의 elif 를 사용 가능하며 0개 또는 1개의 else를 사용 가능함"
      ]
    },
    {
      "cell_type": "code",
      "metadata": {
        "id": "Jjzjxgi0rRtI",
        "colab_type": "code",
        "colab": {}
      },
      "source": [
        "a = 17\n",
        "if a % 4 == 0:\n",
        "    print ('a is divisible by 4')\n",
        "elif a % 4 == 1:\n",
        "    print('a % 4 is 1')\n",
        "elif a % 4 == 2:\n",
        "    print('a % 4 is 2')\n",
        "else : \n",
        "    print('a % 4 is 3')"
      ],
      "execution_count": 0,
      "outputs": []
    },
    {
      "cell_type": "markdown",
      "metadata": {
        "id": "7SYyzNPkrRtN",
        "colab_type": "text"
      },
      "source": [
        "### 중첩 조건문(nested condition)\n",
        "\n",
        " - 조건문의 경우 중첩하여 작성 가능\n",
        " - 중첩의 의미는 depth로 생각할 수 있으며, depth의 제한은 없음\n"
      ]
    },
    {
      "cell_type": "code",
      "metadata": {
        "id": "A0hIqB-4rRtO",
        "colab_type": "code",
        "colab": {}
      },
      "source": [
        "a =10\n",
        "b = 9\n",
        "c = 8\n",
        "\n",
        "if a == 10:\n",
        "    if c == 8:\n",
        "        if b == 8:\n",
        "            print('a is ten and b is 8')\n",
        "        else : \n",
        "            print('a is ten and b is not 8')"
      ],
      "execution_count": 0,
      "outputs": []
    },
    {
      "cell_type": "markdown",
      "metadata": {
        "id": "a5nnHMjprRtQ",
        "colab_type": "text"
      },
      "source": [
        "### while 키워드\n",
        " - while 뒤의 조건이 true인 경우, while 코드 블록을 계속 수행\n",
        " - while 코드 블록\n",
        "  - if 와 마찬가지로 while문 아래의 들여쓰기로 작성된 부분을 의미\n",
        " - 조건이 False가 되면 블록 수행을 멈추고 이후 코드를 실행\n"
      ]
    },
    {
      "cell_type": "markdown",
      "metadata": {
        "id": "WaQIa0fCrRtR",
        "colab_type": "text"
      },
      "source": [
        "### while 키워드를 이용하여 리스트의 아이템 출력하기\n"
      ]
    },
    {
      "cell_type": "code",
      "metadata": {
        "id": "e1g5dVNmrRtS",
        "colab_type": "code",
        "colab": {}
      },
      "source": [
        "a = [1,2,60,75,25]\n",
        "\n",
        "i = 0\n",
        "\n",
        "while i < len(a):\n",
        "    if a[i] > 20 :\n",
        "        print(a[i])\n",
        "    i += 1\n",
        "    "
      ],
      "execution_count": 0,
      "outputs": []
    },
    {
      "cell_type": "code",
      "metadata": {
        "id": "Z3sbJrPurRtU",
        "colab_type": "code",
        "colab": {}
      },
      "source": [
        "a = [1,2,60,75,25]\n",
        "\n",
        "i = 0\n",
        "\n",
        "while i < len(a):\n",
        "    if a[i] % 2 :\n",
        "        print(a[i])\n",
        "    i += 1"
      ],
      "execution_count": 0,
      "outputs": []
    },
    {
      "cell_type": "markdown",
      "metadata": {
        "id": "kKb9Mz7IrRtX",
        "colab_type": "text"
      },
      "source": [
        "### 무한루프\n",
        "\n",
        " - while 의 경우 종료가 되지 않도록 코드를 작성하면 블록에서 빠져나올 수가 없음"
      ]
    },
    {
      "cell_type": "code",
      "metadata": {
        "id": "neR7TNu_rRtX",
        "colab_type": "code",
        "colab": {}
      },
      "source": [
        "while True:\n",
        "    print('haha')\n",
        "    break"
      ],
      "execution_count": 0,
      "outputs": []
    },
    {
      "cell_type": "markdown",
      "metadata": {
        "id": "RKACx6-orRta",
        "colab_type": "text"
      },
      "source": [
        "### break\n",
        "\n",
        " - loop를 중단할 때 사용\n",
        " - 보통 조건문 안에서 수행되며, 조건을 만족하는 경우 loop를 탈출하기 위해 사용\n",
        " - loop를 중단하는 경우, while 이후의 코드를 수행"
      ]
    },
    {
      "cell_type": "code",
      "metadata": {
        "id": "uIPcFYDArRtb",
        "colab_type": "code",
        "colab": {}
      },
      "source": [
        "a = [1,10,9,24,56,25]\n",
        "\n",
        "i = 0 \n",
        "while i < len(a):\n",
        "    if a[i] > 20:\n",
        "        break\n",
        "    print (a[i])\n",
        "    \n",
        "    i += 1\n",
        "    \n",
        "print('hahaha')"
      ],
      "execution_count": 0,
      "outputs": []
    },
    {
      "cell_type": "code",
      "metadata": {
        "id": "TX6UFconrRtd",
        "colab_type": "code",
        "colab": {}
      },
      "source": [
        "while True: \n",
        "    data = crawl()\n",
        "    if data == None:\n",
        "        break\n",
        "    print(data)"
      ],
      "execution_count": 0,
      "outputs": []
    },
    {
      "cell_type": "markdown",
      "metadata": {
        "id": "VIlv7-CxrRtf",
        "colab_type": "text"
      },
      "source": [
        "### continue\n",
        "\n",
        " - break처럼 반복을 중단하여 빠져나오지 않고, 다시 while 조건으로 점프함\n",
        " - 특정한 경우에는 코드를 수행하지 않고 다음으로 건너 뛰기 위해 사용"
      ]
    },
    {
      "cell_type": "code",
      "metadata": {
        "id": "DOhZbtYbrRtg",
        "colab_type": "code",
        "colab": {}
      },
      "source": [
        "a = 7\n",
        "while a > 0 :\n",
        "    a -= 1\n",
        "    if a == 5:\n",
        "        continue\n",
        "    print(a)\n",
        "    "
      ],
      "execution_count": 0,
      "outputs": []
    },
    {
      "cell_type": "markdown",
      "metadata": {
        "id": "la5nEsC2rRtj",
        "colab_type": "text"
      },
      "source": [
        "### 1 - 100 까지 더하기"
      ]
    },
    {
      "cell_type": "code",
      "metadata": {
        "id": "BQmUmywtrRtk",
        "colab_type": "code",
        "colab": {}
      },
      "source": [
        "num = 1\n",
        "_sum = 0\n",
        "\n",
        "while num <= 100:\n",
        "    _sum += num\n",
        "    num += 1\n",
        "    \n",
        "print(_sum)"
      ],
      "execution_count": 0,
      "outputs": []
    }
  ]
}