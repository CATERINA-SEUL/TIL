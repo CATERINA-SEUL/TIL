{
  "nbformat": 4,
  "nbformat_minor": 0,
  "metadata": {
    "kernelspec": {
      "display_name": "Python 3",
      "language": "python",
      "name": "python3"
    },
    "language_info": {
      "codemirror_mode": {
        "name": "ipython",
        "version": 3
      },
      "file_extension": ".py",
      "mimetype": "text/x-python",
      "name": "python",
      "nbconvert_exporter": "python",
      "pygments_lexer": "ipython3",
      "version": "3.7.3"
    },
    "colab": {
      "name": "Python 06.ipynb",
      "provenance": []
    }
  },
  "cells": [
    {
      "cell_type": "markdown",
      "metadata": {
        "id": "uYM1ZOuzrRvA",
        "colab_type": "text"
      },
      "source": [
        "### 함수\n",
        "\n",
        "  - 지금까지 무심코 코드에서 사용된 많은 함수들이 존재\n",
        "  - ex) sum , len, range\n",
        "  - 함수란, 우리가 알고 있는 개념처럼 주어진 입력에 대해서 의도된 출력을 전달하는 역할을 한다\n",
        "  \n",
        "      - range : 정수를 입력으로 전달하면 [0,정수] 로 이루어진 리스트를 생성하는 역할\n",
        "      - sum : 리스트, 튜플 등을 입력으로 전달하면 전체 아이템의 합을 출력으로 전달하는 역할\n",
        "      - len : 리스트, 튜플 등을 입력으로 전달하면 아이템의 개수를 출력으로 전달하는 역할\n",
        "  "
      ]
    },
    {
      "cell_type": "code",
      "metadata": {
        "id": "T0NKLDCMrRvB",
        "colab_type": "code",
        "outputId": "bdcd69e5-c634-4dd3-e497-3c5162786faf",
        "colab": {}
      },
      "source": [
        "a = [1,2,3,4]\n",
        "\n",
        "length = len(a)\n",
        "print(length)"
      ],
      "execution_count": 0,
      "outputs": [
        {
          "output_type": "stream",
          "text": [
            "4\n"
          ],
          "name": "stdout"
        }
      ]
    },
    {
      "cell_type": "code",
      "metadata": {
        "id": "7xDtIN9ArRvD",
        "colab_type": "code",
        "outputId": "5054c6dc-ba8a-4986-f985-aa83df20eccc",
        "colab": {}
      },
      "source": [
        "summation = sum(a)\n",
        "print(summation)"
      ],
      "execution_count": 0,
      "outputs": [
        {
          "output_type": "stream",
          "text": [
            "10\n"
          ],
          "name": "stdout"
        }
      ]
    },
    {
      "cell_type": "markdown",
      "metadata": {
        "id": "vHQO9LPJrRvG",
        "colab_type": "text"
      },
      "source": [
        "### 함수의 정의\n",
        "\n",
        " - 정의시 최초에 def 키워드 사용\n",
        " - argument 정의 (함수에 입력으로 전달하는 값을 의미, argument 또는 parameter라고 함)\n",
        " - :(콜론) -> 함수 역시 코드 블록이기 때문에 필요\n",
        " - body (함수의 구현 부분, 함수 역시 코드 블록이기 때문에 들여쓰기 된 부분까지 함수의 코드 블록으로 인지함)\n",
        "     - 함수를 호출한 코드(caller)로 함수가 해당 기능을 수행하고 완료된 값(output)을 전달하기 위해 return키워드 사용\n",
        "     - 즉, return 이후에 오는 값을 caller로 전달\n",
        "     \n",
        " - 함수의 네이밍 역시 중요!!!\n",
        "     - 어떤 기능을 하는 함수인지 이름으로 최대한 나타날 수 있게 해야함\n",
        "     - get_a(x) , get_student_name(o)"
      ]
    },
    {
      "cell_type": "code",
      "metadata": {
        "id": "43mv7wvnrRvG",
        "colab_type": "code",
        "colab": {}
      },
      "source": [
        "def add(x, y):\n",
        "    n = x + y\n",
        "    return n "
      ],
      "execution_count": 0,
      "outputs": []
    },
    {
      "cell_type": "code",
      "metadata": {
        "id": "Xid455dmrRvI",
        "colab_type": "code",
        "outputId": "0daa9c4d-bb87-45e4-e4ea-c20b6252b000",
        "colab": {}
      },
      "source": [
        "l = len([1,2,3])\n",
        "c = add(30,300)\n",
        "\n",
        "print(c)"
      ],
      "execution_count": 0,
      "outputs": [
        {
          "output_type": "stream",
          "text": [
            "330\n"
          ],
          "name": "stdout"
        }
      ]
    },
    {
      "cell_type": "code",
      "metadata": {
        "id": "WNBuYaXJrRvJ",
        "colab_type": "code",
        "outputId": "32d1340e-4914-49c0-ccec-b74c209d9558",
        "colab": {}
      },
      "source": [
        "c = add(30 , 100)\n",
        "\n",
        "print(c)"
      ],
      "execution_count": 0,
      "outputs": [
        {
          "output_type": "stream",
          "text": [
            "130\n"
          ],
          "name": "stdout"
        }
      ]
    },
    {
      "cell_type": "markdown",
      "metadata": {
        "id": "2k3lWrp4rRvL",
        "colab_type": "text"
      },
      "source": [
        "### 함수 네이밍"
      ]
    },
    {
      "cell_type": "code",
      "metadata": {
        "id": "LZZdZjO6rRvL",
        "colab_type": "code",
        "outputId": "41b7b85e-19e7-44dd-e48d-80ae99b09328",
        "colab": {}
      },
      "source": [
        "def substract(x , y):\n",
        "    sub = x - y\n",
        "    return sub\n",
        "print(substract(4,3))"
      ],
      "execution_count": 0,
      "outputs": [
        {
          "output_type": "stream",
          "text": [
            "1\n"
          ],
          "name": "stdout"
        }
      ]
    },
    {
      "cell_type": "markdown",
      "metadata": {
        "id": "KbeNXHslrRvN",
        "colab_type": "text"
      },
      "source": [
        "### parameter(argument) 인자\n",
        "\n",
        "\n",
        " - 함수에 전달되는 input\n",
        " - 입력이 필요하지 않을 수도, 1개의 입력만 있을 수도, 여러개의 입력이 존재할 수도 있음\n",
        " - 파라미터로 int , string, float , boolm, list, dict 등 어떤 파이썬 객체도 전달 가능\n",
        " - 함수도 함수의 파라미터로 전달가능\n",
        " - python의 경우, 타입 명시가 없기 때문에 함수 생성시 의도된 파라미터의 타입에 맞게 입력을 전달하는 것이 중요\n",
        " - 파라미터를 전달할 때, 정의된 순서에 따라 값을 전달하는 것이 중요"
      ]
    },
    {
      "cell_type": "code",
      "metadata": {
        "id": "apTuRuC-rRvO",
        "colab_type": "code",
        "outputId": "ce25c826-a4f3-4e65-f794-5ba3e542579f",
        "colab": {}
      },
      "source": [
        "def test():\n",
        "    print('haha')\n",
        "    print('good')\n",
        "    \n",
        "    return 100\n",
        "\n",
        "a = test()\n",
        "print(a)"
      ],
      "execution_count": 0,
      "outputs": [
        {
          "output_type": "stream",
          "text": [
            "haha\n",
            "good\n",
            "100\n"
          ],
          "name": "stdout"
        }
      ]
    },
    {
      "cell_type": "code",
      "metadata": {
        "id": "whRm5mx3rRvP",
        "colab_type": "code",
        "outputId": "51ababa6-37ed-43bb-eacd-64268fd41fcb",
        "colab": {}
      },
      "source": [
        "def test(x, y):\n",
        "    print(x, y)\n",
        "    n = x+y\n",
        "    return n\n",
        "\n",
        "a = test(10,20)\n",
        "print(a)"
      ],
      "execution_count": 0,
      "outputs": [
        {
          "output_type": "stream",
          "text": [
            "10 20\n",
            "30\n"
          ],
          "name": "stdout"
        }
      ]
    },
    {
      "cell_type": "markdown",
      "metadata": {
        "id": "eCORHVUrrRvS",
        "colab_type": "text"
      },
      "source": [
        "### Default parameter(기본인자)\n",
        "\n",
        " - 함수의 파라미터에 기본값 지정 가능\n",
        " - 파라미터를 명시하지 않을 경우, 지정된 기본 값으로 대체"
      ]
    },
    {
      "cell_type": "code",
      "metadata": {
        "id": "a0ii0ZqzrRvT",
        "colab_type": "code",
        "outputId": "40b6de27-4dd4-46aa-d9d3-2bfb8f156dc5",
        "colab": {}
      },
      "source": [
        "def add(x, y, z=5):\n",
        "    a = x + y + z\n",
        "    return a\n",
        "\n",
        "add(10,20, 30)"
      ],
      "execution_count": 0,
      "outputs": [
        {
          "output_type": "execute_result",
          "data": {
            "text/plain": [
              "60"
            ]
          },
          "metadata": {
            "tags": []
          },
          "execution_count": 53
        }
      ]
    },
    {
      "cell_type": "markdown",
      "metadata": {
        "id": "oQ8V9efjrRvW",
        "colab_type": "text"
      },
      "source": [
        "### 기본 파라미터의 다른 예\n",
        "  - print 함수\n",
        "    - sep, end, file 등 여러 기본 파라미터를 가짐"
      ]
    },
    {
      "cell_type": "markdown",
      "metadata": {
        "id": "Wja3_PeJrRvX",
        "colab_type": "text"
      },
      "source": [
        "### 키워드 파라미터\n",
        "\n",
        "\n",
        " - python의 경우, 파라미터에 값을 전달할 떄 파라미터의 이름을 명시하여 전달 가능\n",
        " - 파라미터 이름을 사용하지 않을 경우, 기본적으로 순서에 맞게 전달"
      ]
    },
    {
      "cell_type": "code",
      "metadata": {
        "id": "sRQU51IurRvY",
        "colab_type": "code",
        "outputId": "3af5f010-a7b5-4f9b-abdf-b1b27c86e885",
        "colab": {}
      },
      "source": [
        "def test(x,y,z):\n",
        "    a = x + y + z\n",
        "    return a\n",
        "\n",
        "test(x = 10,z = 20, y = 30)"
      ],
      "execution_count": 0,
      "outputs": [
        {
          "output_type": "execute_result",
          "data": {
            "text/plain": [
              "60"
            ]
          },
          "metadata": {
            "tags": []
          },
          "execution_count": 57
        }
      ]
    },
    {
      "cell_type": "markdown",
      "metadata": {
        "id": "rK0q-8EorRvZ",
        "colab_type": "text"
      },
      "source": [
        "### return\n",
        "\n",
        " - 기본적으로 함수의 종료를 명시\n",
        "      - return 옆에 값이나 수식이 있다면 해당 값을 호출자(caller)에게 반환\n",
        "      - return 만 존재다면 none 반환\n",
        "      - ruturn이 없는 경우, 기본적으로 함수 코드 블록이 종료되면 종료로 간주, 이때도 None 반환"
      ]
    },
    {
      "cell_type": "code",
      "metadata": {
        "id": "73raMKj3rRva",
        "colab_type": "code",
        "outputId": "97e4ecff-975f-47ff-877b-72fed6a006ec",
        "colab": {}
      },
      "source": [
        "def weird_multiply(x,y):\n",
        "    if x > 10:\n",
        "        return x * y\n",
        "    \n",
        "    print(x + y)\n",
        "    return(x + 2) * y\n",
        "\n",
        "    \n",
        "weird_multiply(1,5)"
      ],
      "execution_count": 0,
      "outputs": [
        {
          "output_type": "stream",
          "text": [
            "6\n"
          ],
          "name": "stdout"
        },
        {
          "output_type": "execute_result",
          "data": {
            "text/plain": [
              "15"
            ]
          },
          "metadata": {
            "tags": []
          },
          "execution_count": 65
        }
      ]
    },
    {
      "cell_type": "code",
      "metadata": {
        "id": "n27V9cK4rRvc",
        "colab_type": "code",
        "outputId": "de4e83e0-4268-4db6-a4c7-436c5b422317",
        "colab": {}
      },
      "source": [
        "def weird_multiply(x,y):\n",
        "    if x > 10:\n",
        "        return x + y\n",
        "c = weird_multiply(1,5)\n",
        "print(c)"
      ],
      "execution_count": 0,
      "outputs": [
        {
          "output_type": "stream",
          "text": [
            "None\n"
          ],
          "name": "stdout"
        }
      ]
    },
    {
      "cell_type": "markdown",
      "metadata": {
        "id": "1ls1p_BRrRve",
        "colab_type": "text"
      },
      "source": [
        "### multuple return (복수값 반환)\n",
        "\n",
        " - tuple 반환을 하여 복수개의 값 리턴 가능"
      ]
    },
    {
      "cell_type": "code",
      "metadata": {
        "id": "6_yOXUf5rRvf",
        "colab_type": "code",
        "outputId": "b1bba4ec-d7cb-4980-cc2f-70c97d537e96",
        "colab": {}
      },
      "source": [
        "def add_mul(x,y):\n",
        "    s = x + y\n",
        "    m = x * y\n",
        "    \n",
        "    return s, m\n",
        "\n",
        "c = add_mul(2,3)\n",
        "print(type(c))\n",
        "print((c))"
      ],
      "execution_count": 0,
      "outputs": [
        {
          "output_type": "stream",
          "text": [
            "<class 'tuple'>\n",
            "(5, 6)\n"
          ],
          "name": "stdout"
        }
      ]
    },
    {
      "cell_type": "markdown",
      "metadata": {
        "id": "TXShbKWvrRvh",
        "colab_type": "text"
      },
      "source": [
        "### variable scope(변수의 범위)\n",
        "\n",
        " - 변수가 참조 가능한 코드상의 범위를 명시\n",
        " - 함수내의 변수는 자신이 속한 코드 블록이 종료되면 소멸됨\n",
        " - 이렇게 특정 코드 블록에서 선언된 변수를 지역변수라고 함\n",
        " - 반대로 가장 상단에서 정의되어 프로그램 종료 전까지 유지되는 변수를 전역번수라고 함\n",
        " - 같은 이름의 지역 변수와 전역변수가 존재할 경우, 지역 변수의 우선 순위가 더 높음"
      ]
    },
    {
      "cell_type": "code",
      "metadata": {
        "id": "RDN_f-QXrRvj",
        "colab_type": "code",
        "outputId": "0f9a45f9-6b00-4d11-d96e-46e14f7c9635",
        "colab": {}
      },
      "source": [
        "num1 = 10\n",
        "num2 = 30\n",
        "\n",
        "def test(num1 , num2):\n",
        "    print(num1 , num2)\n",
        "    return num1 + num2\n",
        "\n",
        "test(30,40)\n",
        "\n",
        "print(num1, num2)"
      ],
      "execution_count": 0,
      "outputs": [
        {
          "output_type": "stream",
          "text": [
            "30 40\n",
            "10 30\n"
          ],
          "name": "stdout"
        }
      ]
    },
    {
      "cell_type": "markdown",
      "metadata": {
        "id": "jFfn3TTYrRvl",
        "colab_type": "text"
      },
      "source": [
        "### variable length argument\n",
        "\n",
        " - 전달되는 파라미터의 개수가 고정적이지 않은 경우 사용\n",
        "  - print\n",
        "  - format"
      ]
    },
    {
      "cell_type": "code",
      "metadata": {
        "id": "W5tloG9BrRvm",
        "colab_type": "code",
        "outputId": "37fafc29-1c1c-498d-c883-5e56d4f8fe76",
        "colab": {}
      },
      "source": [
        "def test(*args):  #가변길이 함수\n",
        "    print(type(args))\n",
        "\n",
        "test(10)"
      ],
      "execution_count": 0,
      "outputs": [
        {
          "output_type": "stream",
          "text": [
            "<class 'tuple'>\n"
          ],
          "name": "stdout"
        }
      ]
    },
    {
      "cell_type": "markdown",
      "metadata": {
        "id": "_JQQ9EAjrRvo",
        "colab_type": "text"
      },
      "source": [
        "### keyword paramenter\n",
        "\n",
        " - **가 붙은 경우에는 키워드 파라미터로 인식\n",
        " - 함수 호출시, 파라미터의 이름과 값을 함께 전달 가능"
      ]
    },
    {
      "cell_type": "code",
      "metadata": {
        "id": "O0pfdsRcrRvo",
        "colab_type": "code",
        "outputId": "f59193e8-2336-4866-ed74-6662fc45a814",
        "colab": {}
      },
      "source": [
        "def test2(**x):\n",
        "    print(type(x))\n",
        "\n",
        "test2(a=1, b=2)"
      ],
      "execution_count": 0,
      "outputs": [
        {
          "output_type": "stream",
          "text": [
            "<class 'dict'>\n"
          ],
          "name": "stdout"
        }
      ]
    },
    {
      "cell_type": "code",
      "metadata": {
        "id": "DJB_rkfvrRvq",
        "colab_type": "code",
        "outputId": "9cb2ef8e-ecaa-4a6c-d580-f4366cf6ee66",
        "colab": {}
      },
      "source": [
        "def test2(**kwargs):\n",
        "    for key, value in kwargs.items():\n",
        "        print('key:',key, 'value:', value)\n",
        "    \n",
        "test2(a=1)"
      ],
      "execution_count": 0,
      "outputs": [
        {
          "output_type": "stream",
          "text": [
            "key: a value: 1\n"
          ],
          "name": "stdout"
        }
      ]
    },
    {
      "cell_type": "markdown",
      "metadata": {
        "id": "_FDKqHMJrRvr",
        "colab_type": "text"
      },
      "source": [
        "### 가변길이 함수의 대표적인 예 \"문자열 포맷 함수\"\n",
        "\n",
        " - 여러가지 값과 포맷을 이용하여 문자열을 정의할 수 있는 함수\n",
        " - {} placeholder를 문자열 내에 위치 시킨 후, 해당 위치에 format 함수로 전달된 값으로 대체하여 문자열 생성"
      ]
    },
    {
      "cell_type": "code",
      "metadata": {
        "id": "Wk3X56GtrRvv",
        "colab_type": "code",
        "outputId": "c03f2c60-bc01-4dc8-f866-0acfeb90a0ce",
        "colab": {}
      },
      "source": [
        "a = '오늘 온도는 : {today_temp}도, 강수확률은: {today_prob}%, 내일 온도는 : {tomorrow_temp}도'.format(today_temp=20,today_prob=50,tomorrow_temp = 21)\n",
        "\n",
        "print(a)"
      ],
      "execution_count": 0,
      "outputs": [
        {
          "output_type": "stream",
          "text": [
            "오늘 온도는 : 20도, 강수확률은: 50%, 내일 온도는 : 21도\n"
          ],
          "name": "stdout"
        }
      ]
    },
    {
      "cell_type": "markdown",
      "metadata": {
        "id": "T1v582CurRvw",
        "colab_type": "text"
      },
      "source": [
        "### lambda함수\n",
        "\n",
        " - 단일문으로 표현되는 익명함수\n",
        " - 익명함수란 이름이 없는 구현체만 존재하는 간단한 함수를 의미\n",
        " - 코드 상에서 한번만 사용되는 기능이 있을 때, 굳이 함수로 만들지 않고 1회성으로 만들어서 쓸 때 사용"
      ]
    },
    {
      "cell_type": "code",
      "metadata": {
        "id": "mQf2-KZNrRvx",
        "colab_type": "code",
        "outputId": "6c13b0dc-11fc-4e1c-f63c-cca8233686dd",
        "colab": {}
      },
      "source": [
        "def square2(x):\n",
        "    return x**2\n",
        "\n",
        "square2(5)"
      ],
      "execution_count": 0,
      "outputs": [
        {
          "output_type": "execute_result",
          "data": {
            "text/plain": [
              "25"
            ]
          },
          "metadata": {
            "tags": []
          },
          "execution_count": 104
        }
      ]
    },
    {
      "cell_type": "code",
      "metadata": {
        "id": "xI10sy4irRvz",
        "colab_type": "code",
        "outputId": "9e30e7b0-2623-4c12-905b-b8bc4960cd43",
        "colab": {}
      },
      "source": [
        "square = lambda x:x**2\n",
        "type(square)\n",
        "square(5)"
      ],
      "execution_count": 0,
      "outputs": [
        {
          "output_type": "execute_result",
          "data": {
            "text/plain": [
              "25"
            ]
          },
          "metadata": {
            "tags": []
          },
          "execution_count": 105
        }
      ]
    },
    {
      "cell_type": "code",
      "metadata": {
        "id": "ZzbT-qtirRv1",
        "colab_type": "code",
        "outputId": "99e28ba5-178d-4132-f20a-ca3f4105e102",
        "colab": {}
      },
      "source": [
        "def add(x,y):\n",
        "    return x + y\n",
        "\n",
        "add2 = lambda x,y : x+y\n",
        "add2(5,6)"
      ],
      "execution_count": 0,
      "outputs": [
        {
          "output_type": "execute_result",
          "data": {
            "text/plain": [
              "11"
            ]
          },
          "metadata": {
            "tags": []
          },
          "execution_count": 108
        }
      ]
    },
    {
      "cell_type": "code",
      "metadata": {
        "id": "loVMiRufrRv2",
        "colab_type": "code",
        "outputId": "84042c3b-e47f-4240-e93f-8e1dda530aca",
        "colab": {}
      },
      "source": [
        "def str_len(s):\n",
        "    return len(s)\n",
        "\n",
        "str_len('good')"
      ],
      "execution_count": 0,
      "outputs": [
        {
          "output_type": "execute_result",
          "data": {
            "text/plain": [
              "4"
            ]
          },
          "metadata": {
            "tags": []
          },
          "execution_count": 111
        }
      ]
    },
    {
      "cell_type": "code",
      "metadata": {
        "id": "_mOOmBahrRv5",
        "colab_type": "code",
        "outputId": "1d844638-23ac-4ab6-f4e2-cc13fa33cbd7",
        "colab": {}
      },
      "source": [
        "strings = ['bob', 'charles', 'alexander3', 'teddy']\n",
        "#strings.sort(key = str_len)\n",
        "strings.sort(key = lambda s :len(s))\n",
        "print(strings)"
      ],
      "execution_count": 0,
      "outputs": [
        {
          "output_type": "stream",
          "text": [
            "['bob', 'teddy', 'charles', 'alexander3']\n"
          ],
          "name": "stdout"
        }
      ]
    },
    {
      "cell_type": "markdown",
      "metadata": {
        "id": "TLZQLpFSrRv7",
        "colab_type": "text"
      },
      "source": [
        "### filter , map, reduce\n",
        "\n",
        " - lambda 가 유용하게 사용되는 3가지 대표적인 함수\n",
        " - 함수형 프로그래밍의 기본 요소이기도 함\n",
        " - filter : 특정 조건을 만족하는 요소만 남기고 필터링\n",
        " - map : 각 원소를 주어진 수식에 따라 변형하여 새로운 리스트를 반환\n",
        " - reduce : 차례대로 앞 2개의 원소를 가지고 연산, 연산의 결과가 또 다음 연산의 입력으로 진행됨. 따라서 마지막까지 진행되면 최종 출력은 한개의 값만 남게됨"
      ]
    },
    {
      "cell_type": "code",
      "metadata": {
        "id": "LIGZyygDrRv8",
        "colab_type": "code",
        "outputId": "da0355eb-e0f2-4e89-80aa-786355fe8c4c",
        "colab": {}
      },
      "source": [
        "def even(n):\n",
        "    return n % 2 == 0\n",
        "\n",
        "even(3)"
      ],
      "execution_count": 0,
      "outputs": [
        {
          "output_type": "execute_result",
          "data": {
            "text/plain": [
              "False"
            ]
          },
          "metadata": {
            "tags": []
          },
          "execution_count": 116
        }
      ]
    },
    {
      "cell_type": "code",
      "metadata": {
        "id": "u2jDnlUWrRwB",
        "colab_type": "code",
        "outputId": "0edd5b1a-725a-4bea-dbcd-ce9de53f7765",
        "colab": {}
      },
      "source": [
        "nums = [1,2,3,6,8,9,10,11,13,15]\n",
        "\n",
        "list(filter(even, nums))"
      ],
      "execution_count": 0,
      "outputs": [
        {
          "output_type": "execute_result",
          "data": {
            "text/plain": [
              "[2, 6, 8, 10]"
            ]
          },
          "metadata": {
            "tags": []
          },
          "execution_count": 117
        }
      ]
    },
    {
      "cell_type": "code",
      "metadata": {
        "id": "uOqe98h4rRwD",
        "colab_type": "code",
        "outputId": "c7092956-5b47-498e-f55a-234b8d0f0f3c",
        "colab": {}
      },
      "source": [
        "list(filter(lambda n:n%2==0 , nums))"
      ],
      "execution_count": 0,
      "outputs": [
        {
          "output_type": "execute_result",
          "data": {
            "text/plain": [
              "[2, 6, 8, 10]"
            ]
          },
          "metadata": {
            "tags": []
          },
          "execution_count": 118
        }
      ]
    },
    {
      "cell_type": "code",
      "metadata": {
        "id": "s1BS6kIkrRwG",
        "colab_type": "code",
        "outputId": "aa1b2c88-b3a7-4c79-94ee-e63a3d31de3a",
        "colab": {}
      },
      "source": [
        "# map\n",
        "# 주어진 리스트, 리스트의 제곱을 한 숫자로 새로운 리스트\n",
        "\n",
        "nums = [1,2,3,6,8,9,10,11,13,15]\n",
        "list(map(lambda n:n**2, nums))"
      ],
      "execution_count": 0,
      "outputs": [
        {
          "output_type": "execute_result",
          "data": {
            "text/plain": [
              "[1, 4, 9, 36, 64, 81, 100, 121, 169, 225]"
            ]
          },
          "metadata": {
            "tags": []
          },
          "execution_count": 121
        }
      ]
    },
    {
      "cell_type": "code",
      "metadata": {
        "id": "rjlBfNvyrRwI",
        "colab_type": "code",
        "outputId": "e424a214-f183-4bf2-97b3-211b0e868bd0",
        "colab": {}
      },
      "source": [
        "list(map(even, nums))\n",
        "\n",
        "list(map(lambda n:n&2==0, nums))"
      ],
      "execution_count": 0,
      "outputs": [
        {
          "output_type": "execute_result",
          "data": {
            "text/plain": [
              "[True, False, False, False, True, True, False, False, True, False]"
            ]
          },
          "metadata": {
            "tags": []
          },
          "execution_count": 124
        }
      ]
    },
    {
      "cell_type": "code",
      "metadata": {
        "id": "9AZ9TgUCrRwJ",
        "colab_type": "code",
        "outputId": "bab2d491-f6a1-4636-aec4-0735abc30a0b",
        "colab": {}
      },
      "source": [
        "#reduce\n",
        "\n",
        "import functools\n",
        "\n",
        "a = list(range(1,11))\n",
        "a = [1,3,5,8]\n",
        "# a = [17] // 리스트 내의 모든 숫자의 합\n",
        "\n",
        "\n",
        "functools.reduce(lambda x,y:x*y, a)"
      ],
      "execution_count": 0,
      "outputs": [
        {
          "output_type": "execute_result",
          "data": {
            "text/plain": [
              "120"
            ]
          },
          "metadata": {
            "tags": []
          },
          "execution_count": 127
        }
      ]
    },
    {
      "cell_type": "markdown",
      "metadata": {
        "id": "4SOQhG8yrRwK",
        "colab_type": "text"
      },
      "source": [
        "### 주어진 숫자 리스트의 평균을 구하는 함수"
      ]
    },
    {
      "cell_type": "code",
      "metadata": {
        "id": "OmC70SHirRwL",
        "colab_type": "code",
        "outputId": "e8d96f93-314b-4b8b-842b-562140b6f83e",
        "colab": {}
      },
      "source": [
        "# 입력 : 숫자 리스트\n",
        "# 출력 : 숫자 리스트 평균값\n",
        "\n",
        "def mean(nums):\n",
        "#    _sum=0\n",
        "#    for i in nums:\n",
        "#       _sum += i\n",
        "    \n",
        "    return sum(nums) / len(nums)\n",
        "\n",
        "print(mean([1,2,3]))\n",
        "print(mean([1.2,2.1,3.4]))\n",
        "\n"
      ],
      "execution_count": 0,
      "outputs": [
        {
          "output_type": "stream",
          "text": [
            "2.0\n",
            "2.233333333333333\n"
          ],
          "name": "stdout"
        }
      ]
    },
    {
      "cell_type": "markdown",
      "metadata": {
        "id": "hpHXVSo1rRwM",
        "colab_type": "text"
      },
      "source": [
        "### 해당 숫자가 소수인지 아닌지 판별"
      ]
    },
    {
      "cell_type": "code",
      "metadata": {
        "id": "qu6GFUvirRwN",
        "colab_type": "code",
        "outputId": "d04a087a-1548-4f81-f688-c366f886e52f",
        "colab": {}
      },
      "source": [
        "# 입력 : 양의 정수 1개\n",
        "# 출력 : boolean (소수 : True , 합성수 : False)\n",
        "\n",
        "\n",
        "def is_prime(num):\n",
        "    for i in range(2,num):\n",
        "        if num % i == 0:\n",
        "            return False\n",
        "    return True\n",
        "\n",
        "print(is_prime(100))\n",
        "print(is_prime(90))\n",
        "    "
      ],
      "execution_count": 0,
      "outputs": [
        {
          "output_type": "stream",
          "text": [
            "False\n",
            "False\n"
          ],
          "name": "stdout"
        }
      ]
    },
    {
      "cell_type": "markdown",
      "metadata": {
        "id": "yIg63dIKrRwO",
        "colab_type": "text"
      },
      "source": [
        "### 2부터 해당 숫자 사이에 소수가 몇개인지 출력하는 함수"
      ]
    },
    {
      "cell_type": "code",
      "metadata": {
        "id": "BMI_GLDFrRwO",
        "colab_type": "code",
        "outputId": "9588fb74-f168-4eba-eb13-1afb2c89ac3a",
        "colab": {}
      },
      "source": [
        "# 입력 : 양의 정수 1개\n",
        "# 출력 : 2- 해당 숫자 사이의 소수의 개수\n",
        "\n",
        "def num_prime2(num):\n",
        "    count = 0\n",
        "    for i in range(2, num+1):\n",
        "        if is_prime(i):\n",
        "            count += 1\n",
        "    return count\n",
        "\n",
        "print(num_prime2(7))\n",
        "print(num_prime2(11))   "
      ],
      "execution_count": 0,
      "outputs": [
        {
          "output_type": "stream",
          "text": [
            "4\n",
            "5\n"
          ],
          "name": "stdout"
        }
      ]
    },
    {
      "cell_type": "markdown",
      "metadata": {
        "id": "AyTBvPIkrRwR",
        "colab_type": "text"
      },
      "source": [
        "### 모듈 임포트\n",
        "\n",
        " - 그동안 사용했던 함수들 처럼, 다양한 기능들이 미리 함수로 구현되어 모듈 형태로 제공\n",
        " - requests : HTTP 요청/응답 모듈\n",
        " - numpy : 수치해석 모듈\n",
        " - pandas : 데이터 분석 모듈"
      ]
    },
    {
      "cell_type": "code",
      "metadata": {
        "id": "OJkF_l1drRwR",
        "colab_type": "code",
        "colab": {}
      },
      "source": [
        "import requests\n",
        "resp = requests.get(\"http://google.com\")\n",
        "resp.text"
      ],
      "execution_count": 0,
      "outputs": []
    },
    {
      "cell_type": "markdown",
      "metadata": {
        "id": "y6eZe8h9rRwU",
        "colab_type": "text"
      },
      "source": [
        "### import"
      ]
    },
    {
      "cell_type": "code",
      "metadata": {
        "id": "7GyWIw-grRwU",
        "colab_type": "code",
        "colab": {}
      },
      "source": [
        "import math"
      ],
      "execution_count": 0,
      "outputs": []
    },
    {
      "cell_type": "code",
      "metadata": {
        "id": "Bkgm-O1VrRwW",
        "colab_type": "code",
        "outputId": "4d1b63a7-1e35-4dbc-dfcc-c7e423bcca0f",
        "colab": {}
      },
      "source": [
        "math.pi"
      ],
      "execution_count": 0,
      "outputs": [
        {
          "output_type": "execute_result",
          "data": {
            "text/plain": [
              "3.141592653589793"
            ]
          },
          "metadata": {
            "tags": []
          },
          "execution_count": 144
        }
      ]
    },
    {
      "cell_type": "code",
      "metadata": {
        "id": "1yMtToGirRwY",
        "colab_type": "code",
        "outputId": "6badcc49-3623-42c6-e003-b5eb894914dd",
        "colab": {}
      },
      "source": [
        "math.cos(100)"
      ],
      "execution_count": 0,
      "outputs": [
        {
          "output_type": "execute_result",
          "data": {
            "text/plain": [
              "0.862318872287684"
            ]
          },
          "metadata": {
            "tags": []
          },
          "execution_count": 146
        }
      ]
    },
    {
      "cell_type": "markdown",
      "metadata": {
        "id": "StI1CiSSrRwa",
        "colab_type": "text"
      },
      "source": [
        "### from import\n"
      ]
    },
    {
      "cell_type": "code",
      "metadata": {
        "id": "oO_ihklkrRwa",
        "colab_type": "code",
        "colab": {}
      },
      "source": [
        "from math import pi\n",
        "from math import cos"
      ],
      "execution_count": 0,
      "outputs": []
    },
    {
      "cell_type": "code",
      "metadata": {
        "id": "OhbEV1mcrRwd",
        "colab_type": "code",
        "outputId": "1b70765e-feaa-4920-ad36-2f67ef8aa920",
        "colab": {}
      },
      "source": [
        "pi\n",
        "cos(100)"
      ],
      "execution_count": 0,
      "outputs": [
        {
          "output_type": "execute_result",
          "data": {
            "text/plain": [
              "0.862318872287684"
            ]
          },
          "metadata": {
            "tags": []
          },
          "execution_count": 150
        }
      ]
    },
    {
      "cell_type": "markdown",
      "metadata": {
        "id": "3LoWA4lZrRwe",
        "colab_type": "text"
      },
      "source": [
        "### import"
      ]
    },
    {
      "cell_type": "code",
      "metadata": {
        "id": "u96NVxfSrRwf",
        "colab_type": "code",
        "outputId": "b616393b-db58-49a3-c878-49991bdf2b47",
        "colab": {}
      },
      "source": [
        "math.sin(200)"
      ],
      "execution_count": 0,
      "outputs": [
        {
          "output_type": "execute_result",
          "data": {
            "text/plain": [
              "-0.8732972972139945"
            ]
          },
          "metadata": {
            "tags": []
          },
          "execution_count": 151
        }
      ]
    },
    {
      "cell_type": "code",
      "metadata": {
        "id": "q0xI1V-VrRwg",
        "colab_type": "code",
        "colab": {}
      },
      "source": [
        "from math import *"
      ],
      "execution_count": 0,
      "outputs": []
    },
    {
      "cell_type": "code",
      "metadata": {
        "id": "QUqOrvqrrRwh",
        "colab_type": "code",
        "outputId": "60c43b04-9fac-452c-fab3-b8e751902fec",
        "colab": {}
      },
      "source": [
        "sin(200)"
      ],
      "execution_count": 0,
      "outputs": [
        {
          "output_type": "execute_result",
          "data": {
            "text/plain": [
              "-0.8732972972139945"
            ]
          },
          "metadata": {
            "tags": []
          },
          "execution_count": 154
        }
      ]
    },
    {
      "cell_type": "code",
      "metadata": {
        "id": "aArCmAc2rRwj",
        "colab_type": "code",
        "outputId": "6995b9bf-aed1-4066-dd2b-ec416ab3451f",
        "colab": {}
      },
      "source": [
        "e"
      ],
      "execution_count": 0,
      "outputs": [
        {
          "output_type": "execute_result",
          "data": {
            "text/plain": [
              "2.718281828459045"
            ]
          },
          "metadata": {
            "tags": []
          },
          "execution_count": 155
        }
      ]
    },
    {
      "cell_type": "markdown",
      "metadata": {
        "id": "U79EAmxKrRwl",
        "colab_type": "text"
      },
      "source": [
        "### as"
      ]
    },
    {
      "cell_type": "code",
      "metadata": {
        "id": "nrYuXh7grRwm",
        "colab_type": "code",
        "outputId": "226e6635-d5e7-4c53-b680-4917b9986618",
        "colab": {}
      },
      "source": [
        "import math as m\n",
        "m.exp(3)"
      ],
      "execution_count": 0,
      "outputs": [
        {
          "output_type": "execute_result",
          "data": {
            "text/plain": [
              "20.085536923187668"
            ]
          },
          "metadata": {
            "tags": []
          },
          "execution_count": 160
        }
      ]
    }
  ]
}