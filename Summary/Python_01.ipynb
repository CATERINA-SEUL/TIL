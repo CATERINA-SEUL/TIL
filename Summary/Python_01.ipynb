{
  "nbformat": 4,
  "nbformat_minor": 0,
  "metadata": {
    "kernelspec": {
      "display_name": "Python 3",
      "language": "python",
      "name": "python3"
    },
    "language_info": {
      "codemirror_mode": {
        "name": "ipython",
        "version": 3
      },
      "file_extension": ".py",
      "mimetype": "text/x-python",
      "name": "python",
      "nbconvert_exporter": "python",
      "pygments_lexer": "ipython3",
      "version": "3.7.3"
    },
    "colab": {
      "name": "Python 01.ipynb",
      "provenance": []
    }
  },
  "cells": [
    {
      "cell_type": "markdown",
      "metadata": {
        "id": "4uFpGvRIcV2R",
        "colab_type": "text"
      },
      "source": [
        "\n",
        "## python\n",
        "\n",
        "1.\t변수\n",
        "    -\t데이터를 저장하는 공간, 변수\n",
        "    -\t저장공간(memory)에 값을 생성하고, 이름을 지정\n",
        "      - 대입 연산자를 사용하여 왼쪽은 변수명, 오른쪽은 데이터가 위치"
      ]
    },
    {
      "cell_type": "code",
      "metadata": {
        "id": "hXtx-qlscV2W",
        "colab_type": "code",
        "colab": {},
        "outputId": "d1a9cd1e-6f9f-4d77-986f-aaa60b0cbf2a"
      },
      "source": [
        "print('Hello World')"
      ],
      "execution_count": 0,
      "outputs": [
        {
          "output_type": "stream",
          "text": [
            "Hello World\n"
          ],
          "name": "stdout"
        }
      ]
    },
    {
      "cell_type": "markdown",
      "metadata": {
        "id": "iFlErXCpcV2g",
        "colab_type": "text"
      },
      "source": [
        "### 변수"
      ]
    },
    {
      "cell_type": "code",
      "metadata": {
        "id": "WNdwQdUgcV2h",
        "colab_type": "code",
        "colab": {}
      },
      "source": [
        "a= 10 # int\n",
        "b= 11.4 # float"
      ],
      "execution_count": 0,
      "outputs": []
    },
    {
      "cell_type": "markdown",
      "metadata": {
        "id": "HMjvTMNqcV2m",
        "colab_type": "text"
      },
      "source": [
        "### comment"
      ]
    },
    {
      "cell_type": "code",
      "metadata": {
        "id": "X1uhU540cV2n",
        "colab_type": "code",
        "colab": {}
      },
      "source": [
        "# this line is very important\n",
        "# so don't delete those lines"
      ],
      "execution_count": 0,
      "outputs": []
    },
    {
      "cell_type": "markdown",
      "metadata": {
        "id": "wXGKYnqhcV2q",
        "colab_type": "text"
      },
      "source": [
        "### print 함수"
      ]
    },
    {
      "cell_type": "code",
      "metadata": {
        "id": "TXDxhcGdcV2r",
        "colab_type": "code",
        "colab": {},
        "outputId": "ccc8e058-5779-4c97-ca13-59ab24ec7244"
      },
      "source": [
        "print(a,b)"
      ],
      "execution_count": 0,
      "outputs": [
        {
          "output_type": "stream",
          "text": [
            "6 4\n"
          ],
          "name": "stdout"
        }
      ]
    },
    {
      "cell_type": "markdown",
      "metadata": {
        "id": "2uWjZsrAcV2u",
        "colab_type": "text"
      },
      "source": [
        "#### print 함수 설정\n",
        " - sep : 구분자, 각 출력할 변수 사이에서 구별하는 역할을 함\n",
        " - end : 마지막에 출력할 문자열"
      ]
    },
    {
      "cell_type": "code",
      "metadata": {
        "id": "Gv1mxQ3ycV2v",
        "colab_type": "code",
        "colab": {},
        "outputId": "f0cdfcc4-1499-442d-8513-215fd3571abd"
      },
      "source": [
        "print(a,b,10,100,sep=\"*\",end='!')"
      ],
      "execution_count": 0,
      "outputs": [
        {
          "output_type": "stream",
          "text": [
            "6*4*10*100!"
          ],
          "name": "stdout"
        }
      ]
    },
    {
      "cell_type": "markdown",
      "metadata": {
        "id": "MsL6P0oZcV2x",
        "colab_type": "text"
      },
      "source": [
        "### 변수 값 확인법 \n",
        "\n",
        " - print() 함수 사용\n",
        " - 변수 값을 코드의 마지막에 위치 시킨 후 실행\n",
        "   - 이 경우 output 으로 변수의 값이 출력"
      ]
    },
    {
      "cell_type": "code",
      "metadata": {
        "id": "LiMbCZBdcV2y",
        "colab_type": "code",
        "colab": {},
        "outputId": "b7e67ed7-1312-4284-c180-5a340e382fbb"
      },
      "source": [
        "print(a)\n",
        "print(a,b)\n",
        "\n",
        "a"
      ],
      "execution_count": 0,
      "outputs": [
        {
          "output_type": "stream",
          "text": [
            "6\n",
            "6 4\n"
          ],
          "name": "stdout"
        },
        {
          "output_type": "execute_result",
          "data": {
            "text/plain": [
              "6"
            ]
          },
          "metadata": {
            "tags": []
          },
          "execution_count": 27
        }
      ]
    },
    {
      "cell_type": "markdown",
      "metadata": {
        "id": "GBQXQgvhcV21",
        "colab_type": "text"
      },
      "source": [
        "### variable naming (변수 이름 규칙)\n",
        "\n",
        " - 숫자로 시작하는 이름을 제외하고 영문 대소문자, _, 숫자로 구성가능\n",
        " - 아래의 예쩨는 모두 vaild 한 변수 이름\n",
        " - 일반적으로 해당 변수를 표현하고자 하는 정확하고 간결한 이름을 사용하는 것이 원칙\n",
        "   - 코드를 읽는 것을 더 쉽게 할 수 있음\n",
        "   - e.g) a=1000의 경우보다 student_num = 1000 으로 명시하는 것이 변수에 대한 이해가 빠름"
      ]
    },
    {
      "cell_type": "markdown",
      "metadata": {
        "id": "ZyJGC9mqcV22",
        "colab_type": "text"
      },
      "source": [
        "### Type 함수\n",
        "\n",
        " - 해당 변수, 값의 타입을 알고자 할 때 사용"
      ]
    },
    {
      "cell_type": "code",
      "metadata": {
        "id": "OEp0rLX8cV22",
        "colab_type": "code",
        "colab": {},
        "outputId": "3559baad-74ee-42c3-e692-346a3f3d8acb"
      },
      "source": [
        "a = 10\n",
        "b = 11.4\n",
        "\n",
        "type(a)"
      ],
      "execution_count": 0,
      "outputs": [
        {
          "output_type": "execute_result",
          "data": {
            "text/plain": [
              "int"
            ]
          },
          "metadata": {
            "tags": []
          },
          "execution_count": 28
        }
      ]
    },
    {
      "cell_type": "markdown",
      "metadata": {
        "id": "nRhSUCUfcV24",
        "colab_type": "text"
      },
      "source": [
        "### None\n",
        "\n",
        " - 아무런 값을 갖지 않을 떄 사용\n",
        " - 일반적으로 변수가 초기값을 갖지 않게 하여 해당 변수를 생성할 떄 사용\n",
        " - 기타 언어의 NULL, null 등과 같은 의미로 사용"
      ]
    },
    {
      "cell_type": "code",
      "metadata": {
        "id": "YnmlCGSGcV25",
        "colab_type": "code",
        "colab": {},
        "outputId": "fe3f90b6-fa71-4947-c9bd-f5427a693e53"
      },
      "source": [
        "c = None\n",
        "print(c)"
      ],
      "execution_count": 0,
      "outputs": [
        {
          "output_type": "stream",
          "text": [
            "None\n"
          ],
          "name": "stdout"
        }
      ]
    },
    {
      "cell_type": "markdown",
      "metadata": {
        "id": "8xxzVPFjcV27",
        "colab_type": "text"
      },
      "source": [
        "### comparison operator (비교 연산자)\n",
        "\n",
        " - 프로그래밍에서는 비교를 할 경우, = 대신 == 을 사용\n",
        " - <, > (작다, 크다)\n",
        " - <=. >= (작거나 같다, 크거나 같다)\n",
        " - == 같다\n",
        " - !- 같지 않다\n",
        " - 비교 연산자의 결과는 bool 타입"
      ]
    },
    {
      "cell_type": "code",
      "metadata": {
        "id": "8hC9pGjpcV28",
        "colab_type": "code",
        "colab": {},
        "outputId": "c2d418aa-3832-4f51-f96d-d82bf1d8f02d"
      },
      "source": [
        "a = 5\n",
        "b = 4\n",
        "\n",
        "print(a>b)\n",
        "print(a<b)\n",
        "print(a>=b)\n",
        "print(a<=b)\n",
        "print(a!=b)\n",
        "print(a==b)"
      ],
      "execution_count": 0,
      "outputs": [
        {
          "output_type": "stream",
          "text": [
            "True\n",
            "False\n",
            "True\n",
            "False\n",
            "True\n",
            "False\n"
          ],
          "name": "stdout"
        }
      ]
    },
    {
      "cell_type": "markdown",
      "metadata": {
        "id": "Xaye7jYMcV2-",
        "colab_type": "text"
      },
      "source": [
        "### number(숫자형 타입)\n",
        " \n",
        "  - 정수, 실수로 구성\n",
        "  - 수학의 기본 연산자(가감승제) 사용 가능"
      ]
    },
    {
      "cell_type": "markdown",
      "metadata": {
        "id": "5RHVXgszcV2-",
        "colab_type": "text"
      },
      "source": [
        "### operator priorities (연산자 우선순위)\n",
        "\n",
        " - 기본적인 수학의 연산자와 동일\n",
        " - 강제로 연산을 선수하기 위해선, 괄호를 사용"
      ]
    },
    {
      "cell_type": "code",
      "metadata": {
        "id": "938g-18ncV2_",
        "colab_type": "code",
        "colab": {},
        "outputId": "9fcf3468-c938-429a-c049-a9d883f06e14"
      },
      "source": [
        "a=5\n",
        "b=4\n",
        "\n",
        "a+b*4"
      ],
      "execution_count": 0,
      "outputs": [
        {
          "output_type": "execute_result",
          "data": {
            "text/plain": [
              "21"
            ]
          },
          "metadata": {
            "tags": []
          },
          "execution_count": 31
        }
      ]
    },
    {
      "cell_type": "markdown",
      "metadata": {
        "id": "xaV1FqpQcV3B",
        "colab_type": "text"
      },
      "source": [
        "## 연습문제"
      ]
    },
    {
      "cell_type": "code",
      "metadata": {
        "id": "9tuUGCjjcV3B",
        "colab_type": "code",
        "colab": {},
        "outputId": "9c18d9c1-ce60-487c-f861-21336dc0dc64"
      },
      "source": [
        "a=9\n",
        "print(a)\n",
        "print(a-3)\n",
        "print(a)"
      ],
      "execution_count": 0,
      "outputs": [
        {
          "output_type": "stream",
          "text": [
            "9\n",
            "6\n",
            "9\n"
          ],
          "name": "stdout"
        }
      ]
    },
    {
      "cell_type": "markdown",
      "metadata": {
        "id": "01l6b3utcV3D",
        "colab_type": "text"
      },
      "source": [
        "### expression evaluation & assignment(식평가 & 대입)\n",
        "\n",
        " - 변수의 값이 변경되기 위해서는 = 을 사용하여 대입이 발생하는 경우에만 해당"
      ]
    },
    {
      "cell_type": "code",
      "metadata": {
        "id": "mWwx7ShgcV3E",
        "colab_type": "code",
        "colab": {},
        "outputId": "3ce1c4d6-6d17-4219-e393-3099d21849af"
      },
      "source": [
        "a = 9\n",
        "a-3 \n",
        "print(a)"
      ],
      "execution_count": 0,
      "outputs": [
        {
          "output_type": "stream",
          "text": [
            "9\n"
          ],
          "name": "stdout"
        }
      ]
    },
    {
      "cell_type": "code",
      "metadata": {
        "id": "yW4jV5rwcV3F",
        "colab_type": "code",
        "colab": {},
        "outputId": "4c79b37b-1a5a-4787-f815-27587d230fd0"
      },
      "source": [
        "a = 9\n",
        "t = a - 3\n",
        "a = t\n",
        "\n",
        "print(a)"
      ],
      "execution_count": 0,
      "outputs": [
        {
          "output_type": "stream",
          "text": [
            "6\n"
          ],
          "name": "stdout"
        }
      ]
    },
    {
      "cell_type": "code",
      "metadata": {
        "id": "BPHzeZXscV3H",
        "colab_type": "code",
        "colab": {},
        "outputId": "3026d914-c629-4546-e43b-4d984588304a"
      },
      "source": [
        "a = 9 \n",
        "a = a - 3\n",
        "print(a)"
      ],
      "execution_count": 0,
      "outputs": [
        {
          "output_type": "stream",
          "text": [
            "6\n"
          ],
          "name": "stdout"
        }
      ]
    },
    {
      "cell_type": "code",
      "metadata": {
        "id": "WyMa-oUWcV3J",
        "colab_type": "code",
        "colab": {},
        "outputId": "d39cd5d3-e927-4614-e965-bb71d8b06011"
      },
      "source": [
        "a = 9\n",
        "a -= 3\n",
        "\n",
        "print(a)"
      ],
      "execution_count": 0,
      "outputs": [
        {
          "output_type": "stream",
          "text": [
            "6\n"
          ],
          "name": "stdout"
        }
      ]
    },
    {
      "cell_type": "markdown",
      "metadata": {
        "id": "tvhiIdBBcV3K",
        "colab_type": "text"
      },
      "source": [
        "### String(문자열)\n",
        "\n",
        " - 복수개의 문자를 순서대로 나열한 것\n",
        " - 문자열은 ' 또는 \" 사이에 문자를 넣어서 생성\n",
        " - 문자열 자체에 , 가 있는 경우에는 각각 그 반대의 기호로 생성"
      ]
    },
    {
      "cell_type": "markdown",
      "metadata": {
        "id": "-3mw8wfXcV3L",
        "colab_type": "text"
      },
      "source": [
        "### escape string\n",
        "\n",
        " - 문자열내의 일부 문자의 의미를 달리하여 특정한 효과를 주는 것\n",
        " - \\n : new line , \\t : tab등"
      ]
    },
    {
      "cell_type": "markdown",
      "metadata": {
        "id": "IoiELGuscV3L",
        "colab_type": "text"
      },
      "source": [
        "### indexing & slicing string ( 문자열 인덱스 및 추출 )\n",
        " \n",
        "  - 문자열의 각 문자는 순서가 있음\n",
        "  - 이때 각 문자열의 순서를 인덱스라고 함\n",
        "  - 첫번째 문자부터 마지막까지 차례대로 순서를 가짐\n",
        "  - 첫번째 시작문자의 순서는 0 으로 시작 ( 1이 아님 )"
      ]
    },
    {
      "cell_type": "markdown",
      "metadata": {
        "id": "7BL4FBYscV3M",
        "colab_type": "text"
      },
      "source": [
        "## 연습문제"
      ]
    },
    {
      "cell_type": "code",
      "metadata": {
        "id": "XZBbGRedcV3M",
        "colab_type": "code",
        "colab": {},
        "outputId": "e6f6ef1b-acc6-48a7-8d84-fdd224ee2502"
      },
      "source": [
        "# 문자열의 마지막 문자의 순서의 값은?\n",
        "\n",
        "a = \"Hello World\" #길이 : 11 \n",
        "\n",
        "a[10]"
      ],
      "execution_count": 0,
      "outputs": [
        {
          "output_type": "execute_result",
          "data": {
            "text/plain": [
              "'d'"
            ]
          },
          "metadata": {
            "tags": []
          },
          "execution_count": 37
        }
      ]
    }
  ]
}