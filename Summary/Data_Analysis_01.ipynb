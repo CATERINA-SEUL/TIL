{
  "nbformat": 4,
  "nbformat_minor": 0,
  "metadata": {
    "colab": {
      "name": "Data Analysis 01.ipynb",
      "provenance": [],
      "collapsed_sections": [],
      "authorship_tag": "ABX9TyOLHM3Ha1Nn9QuISKmp4NfQ"
    },
    "kernelspec": {
      "name": "python3",
      "display_name": "Python 3"
    }
  },
  "cells": [
    {
      "cell_type": "markdown",
      "metadata": {
        "id": "rEjmltgXaD-Y",
        "colab_type": "text"
      },
      "source": [
        "# 공공 데이터의 활용\n",
        " \n",
        "  1)\t공공 데이터 포털 (data.go.kr)\n",
        "\n",
        "  2)\t통계청 MDIS (mdis.kostat.go.kr)\n",
        "\n",
        "  3)\t서울시 열린 데이터 광장 (data.seoul.go.kr)\n",
        "\n",
        "  4)\tSKT 빅데이터 허브 (bigdatahub.co.kr)\n",
        "\n",
        "  5)\t네이버 데이터랩 (datalab.naver.com)\n",
        "\n",
        "  6)\tkaggle (kaggle.com)\n",
        "\n",
        "# 분석에 알맞게 데이터 가공하기\n",
        " \n",
        " 1) 확증적 분석 \n",
        "   \n",
        "    -\t미리 설정한 가설 확인\n",
        "   \n",
        "    -\t추정 , 연구의 데이터 분석 방법\n",
        "\n",
        " 2) 탐색적 분석\n",
        "    \n",
        "    -\t변수, 변수의 관계 등 데이터 자체의 특성 확인\n",
        "    \n",
        "    -\t통계량 계산 , 그래프 활용\n",
        "    \n",
        "    -\t모든 데이터 분석의 시작 단계에서 필수 과정\n",
        "\n",
        "  요약 $\\rightarrow$ 데이터 압축 과정 (탐색적 분석과정)\n",
        "  \n",
        "  모형 $\\rightarrow$ 정해진 알고리즘을 활용해서 데이터 안에서 정보 활용\n",
        "      \n",
        "      * 가능성을 수치화된 확률로 설명\n",
        "\n",
        "# 데이터 가공!! \n",
        "  \n",
        "  -\t데이터를 알맞은 형태로 변환하는 과정\n",
        "  \n",
        "  1)\t부분 데이터 선택 : 관심있는 관측치와 변수를 선택\n",
        "  \n",
        "  2)\t변수 결합, 분해 및 파생변수 생성 : 기존 변수를 활용하기 좋은 형태로 변환\n",
        "\n",
        "# 분석의 실행 \n",
        "  \n",
        "  1)\t분석 목표 실행\n",
        "  \n",
        "  2)\t데이터 수집\n",
        "  \n",
        "  3)\t탐색적 데이터 분석\n",
        "  \n",
        "  4)\t확증적 데이터 분석 / 모형 적합 == 검정, 알고리즘 등을 통한 분석\n",
        "  \n",
        "    ** 분석을 반복하여 결과 재현 확인 / 피드백을 통한 데이터 처리, 분석\n",
        "  \n",
        "  5)\t분석 결과 시각화 / 문서화 하기\n",
        "\n",
        "#\t분석과 분석결과의 요약\n",
        "  \n",
        "  -\t효과적인 전달을 위해 그래프를 활용하는 것이 좋음)\t\n",
        "  \n",
        "  -\t전체 분석과정 보다는 분석의 흐름을 이해할 수 있는 수준으로 요약\n",
        "  \n",
        "  -\t적절한 도구 활용\n",
        "    \n",
        "      markdown (R, Python)\n",
        "      \n",
        "      excel, powerpoint\n",
        "      \n",
        "      dashboard 활용 (R의 Shiny)를 통한 대시보드 활용"
      ]
    },
    {
      "cell_type": "markdown",
      "metadata": {
        "id": "yDN4vpYyaCvS",
        "colab_type": "text"
      },
      "source": [
        ""
      ]
    }
  ]
}
