{
  "nbformat": 4,
  "nbformat_minor": 0,
  "metadata": {
    "kernelspec": {
      "display_name": "Python 3",
      "language": "python",
      "name": "python3"
    },
    "language_info": {
      "codemirror_mode": {
        "name": "ipython",
        "version": 3
      },
      "file_extension": ".py",
      "mimetype": "text/x-python",
      "name": "python",
      "nbconvert_exporter": "python",
      "pygments_lexer": "ipython3",
      "version": "3.7.3"
    },
    "colab": {
      "name": "Python 02.ipynb",
      "provenance": []
    }
  },
  "cells": [
    {
      "cell_type": "markdown",
      "metadata": {
        "id": "9BkA5WA9cV3P",
        "colab_type": "text"
      },
      "source": [
        "### - 1 인덱스\n",
        "\n",
        " - 다른 언어와는 달리, python 의 겨우 음수 인덱스를 지원\n",
        " - -1이 가장 마지막 인덱스를, -2가 마지막에서 두번째 인덱스를 의미"
      ]
    },
    {
      "cell_type": "code",
      "metadata": {
        "id": "G7Mi1kDJcV3P",
        "colab_type": "code",
        "outputId": "a4a7ecc1-c25e-458c-f045-068e2c9ecf9a",
        "colab": {}
      },
      "source": [
        "print(a[0])\n",
        "print(a[10])\n",
        "\n",
        "print(a[-1])\n",
        "print(a[-2])"
      ],
      "execution_count": 0,
      "outputs": [
        {
          "output_type": "stream",
          "text": [
            "H\n",
            "d\n",
            "d\n",
            "l\n"
          ],
          "name": "stdout"
        }
      ]
    },
    {
      "cell_type": "markdown",
      "metadata": {
        "id": "zQXTQWj9cV3R",
        "colab_type": "text"
      },
      "source": [
        "### 인덱스의 범위\n",
        "\n",
        " - 인덱스는 [0. 문자열의 길이] 의 범위만 유효\n",
        " - 음수 인덱스를 사용할 경우, [-문자열의 길이, -1]\n",
        " - 범위를 넘어갈 경우 에러 발생"
      ]
    },
    {
      "cell_type": "markdown",
      "metadata": {
        "id": "ziCXC3G3cV3S",
        "colab_type": "text"
      },
      "source": [
        "### 문자열 slicing\n",
        "\n",
        " - 인덱스가 하나의 문자만을 추출한다면, \n",
        " - slicing 은 부분 문자열을 추출한다고 볼 수 있음\n",
        " - [시작:끝]과 같이 명시하여 [시작,끝]에 해당하년 부분 문자열을 추출\n",
        " - 시작, 끝 인덱스가 생략이 되어 있다면, 0 부터 혹은 끝까지로 간주\n",
        " "
      ]
    },
    {
      "cell_type": "code",
      "metadata": {
        "id": "MVyXOKjycV3S",
        "colab_type": "code",
        "outputId": "657bc36c-434e-4afe-cd7d-5f38252bd9b3",
        "colab": {}
      },
      "source": [
        "a = \"hello world\"\n",
        "print(a[0:5])"
      ],
      "execution_count": 0,
      "outputs": [
        {
          "output_type": "stream",
          "text": [
            "hello\n"
          ],
          "name": "stdout"
        }
      ]
    },
    {
      "cell_type": "markdown",
      "metadata": {
        "id": "pONzvPAwcV3U",
        "colab_type": "text"
      },
      "source": [
        "### 문자열 함수\n",
        " \n",
        " - 문자열은 여러가지 기능 제공을 위한 함수를 내장\n",
        " - 함수란 특정 기능을 하는 코드로 언제든지 호출하여 해당 기능을 사용 가능하도록 구성한 코드\n",
        " - 추후에 함수에 대해 자세히 다룰 예정"
      ]
    },
    {
      "cell_type": "code",
      "metadata": {
        "id": "E2Fxyva7cV3V",
        "colab_type": "code",
        "outputId": "7b93e6fb-9213-4007-f7bb-1b1cb753d632",
        "colab": {}
      },
      "source": [
        "a = \"hello world\"\n",
        "\n",
        "a.upper()"
      ],
      "execution_count": 0,
      "outputs": [
        {
          "output_type": "execute_result",
          "data": {
            "text/plain": [
              "'HELLO WORLD'"
            ]
          },
          "metadata": {
            "tags": []
          },
          "execution_count": 43
        }
      ]
    },
    {
      "cell_type": "markdown",
      "metadata": {
        "id": "v6ZTgZTacV3W",
        "colab_type": "text"
      },
      "source": [
        "### replace\n",
        " - 문자열 내의 특정 문자를 치환"
      ]
    },
    {
      "cell_type": "code",
      "metadata": {
        "id": "hyYEh5-IcV3W",
        "colab_type": "code",
        "outputId": "a4f25529-a250-4108-e92a-2104989fcc86",
        "colab": {}
      },
      "source": [
        "a = \"hello world\"\n",
        "\n",
        "a.replace('h','j')"
      ],
      "execution_count": 0,
      "outputs": [
        {
          "output_type": "execute_result",
          "data": {
            "text/plain": [
              "'jello world'"
            ]
          },
          "metadata": {
            "tags": []
          },
          "execution_count": 112
        }
      ]
    },
    {
      "cell_type": "markdown",
      "metadata": {
        "id": "3Vc18ySwcV3Y",
        "colab_type": "text"
      },
      "source": [
        "### format \n",
        " = 문자열 내의 특정한 값을 변수로 부터 초기화하여 동적으로 문자열을 생성"
      ]
    },
    {
      "cell_type": "code",
      "metadata": {
        "id": "i3u-u8elcV3Z",
        "colab_type": "code",
        "outputId": "14f1b755-e9bf-4f7c-cbb1-7fbac8e9917f",
        "colab": {}
      },
      "source": [
        "temperature = 25.5\n",
        "prob = 80.0\n",
        "\n",
        "a = \"오늘 기온{}도 이고, 비올 확률은 {}% 입니다.\".format(temperature, prob)\n",
        "\n",
        "a"
      ],
      "execution_count": 0,
      "outputs": [
        {
          "output_type": "execute_result",
          "data": {
            "text/plain": [
              "'오늘 기온25.5도 이고, 비올 확률은 80.0% 입니다.'"
            ]
          },
          "metadata": {
            "tags": []
          },
          "execution_count": 48
        }
      ]
    },
    {
      "cell_type": "markdown",
      "metadata": {
        "id": "88ifctw4cV3a",
        "colab_type": "text"
      },
      "source": [
        "### split\n",
        " - 문자열을 특정한 문자 구분하여 (delimiter) 문자열의 리스트로 치환"
      ]
    },
    {
      "cell_type": "code",
      "metadata": {
        "id": "r74R8C5TcV3a",
        "colab_type": "code",
        "outputId": "9aeba645-0b8c-44f8-8784-0e5a20d4a3a8",
        "colab": {}
      },
      "source": [
        "a = \"Hello World what a nice weather\"\n",
        "a.split()"
      ],
      "execution_count": 0,
      "outputs": [
        {
          "output_type": "execute_result",
          "data": {
            "text/plain": [
              "['Hello', 'World', 'what', 'a', 'nice', 'weather']"
            ]
          },
          "metadata": {
            "tags": []
          },
          "execution_count": 49
        }
      ]
    },
    {
      "cell_type": "markdown",
      "metadata": {
        "id": "iHQRBPdDcV3c",
        "colab_type": "text"
      },
      "source": [
        "### list & Tuple\n",
        "\n",
        " - 복수개의 값을 담을 수 있는 데이터 구조\n",
        " - 실생활에서 사용하는 리스트(학생 리스트, 성적 리스트 등등) 과 동일한 의미로 이해\n",
        " - list - mutable(생성된 후에 변경 가능)\n",
        " - tuple - immutable(생성된 후에 변경 불가능)\n",
        " \n",
        "### 리스트 초기화\n",
        "\n",
        " - [] 안에 값을 담아서 생성\n",
        " - list() 함수로 생성\n",
        " - str.split()함수로 생성"
      ]
    },
    {
      "cell_type": "code",
      "metadata": {
        "id": "-jFjJVYncV3c",
        "colab_type": "code",
        "outputId": "80b8219a-513f-4b8a-af2e-1cff126500ad",
        "colab": {}
      },
      "source": [
        "a = []\n",
        "\n",
        "a"
      ],
      "execution_count": 0,
      "outputs": [
        {
          "output_type": "execute_result",
          "data": {
            "text/plain": [
              "[]"
            ]
          },
          "metadata": {
            "tags": []
          },
          "execution_count": 111
        }
      ]
    },
    {
      "cell_type": "code",
      "metadata": {
        "id": "6LJsz6PdcV3d",
        "colab_type": "code",
        "outputId": "61093015-aa9b-4461-b35b-50fbd92ceb7d",
        "colab": {}
      },
      "source": [
        "a = [1,2,3,5,10]\n",
        "a"
      ],
      "execution_count": 0,
      "outputs": [
        {
          "output_type": "execute_result",
          "data": {
            "text/plain": [
              "[1, 2, 3, 5, 10]"
            ]
          },
          "metadata": {
            "tags": []
          },
          "execution_count": 51
        }
      ]
    },
    {
      "cell_type": "markdown",
      "metadata": {
        "id": "Oo5jrId8cV3e",
        "colab_type": "text"
      },
      "source": [
        "### list() 함수\n",
        "  - 다른 데이터 타입을 리스트로 변환할 때도 사용"
      ]
    },
    {
      "cell_type": "code",
      "metadata": {
        "id": "W1RXi1wxcV3f",
        "colab_type": "code",
        "outputId": "01671ed6-a142-4abb-e03d-4af08948f069",
        "colab": {}
      },
      "source": [
        "a = 'hello world'\n",
        "b = list(a)\n",
        "c = (1,2,3)\n",
        "d = list (c)\n",
        "b,d"
      ],
      "execution_count": 0,
      "outputs": [
        {
          "output_type": "execute_result",
          "data": {
            "text/plain": [
              "(['h', 'e', 'l', 'l', 'o', ' ', 'w', 'o', 'r', 'l', 'd'], [1, 2, 3])"
            ]
          },
          "metadata": {
            "tags": []
          },
          "execution_count": 54
        }
      ]
    },
    {
      "cell_type": "markdown",
      "metadata": {
        "id": "C7y_sJAkcV3g",
        "colab_type": "text"
      },
      "source": [
        "### string split 함수\n",
        "  - 구분자로 구분되는 리스트를 반환 (빈번히 사용 됨)"
      ]
    },
    {
      "cell_type": "markdown",
      "metadata": {
        "id": "YrX_XA-ccV3g",
        "colab_type": "text"
      },
      "source": [
        "### 리스트 indexing\n",
        "\n",
        " - 문자열의 인덱싱과 동일하게 동작\n",
        " - [] 연산자를 이용하여 항목 얻어오기\n",
        " - [i] - i번째 원소를 반환\n",
        " - i 가 음수인 경우도 가능하며 마지막 원소가 -1로 하여 앞으로 갈 때마다 1씩 감소함"
      ]
    },
    {
      "cell_type": "code",
      "metadata": {
        "id": "uQFzScO3cV3h",
        "colab_type": "code",
        "outputId": "7b185a43-fa26-45a2-b6ed-ffbdf71994e8",
        "colab": {}
      },
      "source": [
        "a = [1,2,3,4,5,6]\n",
        "\n",
        "a[2],a[4]"
      ],
      "execution_count": 0,
      "outputs": [
        {
          "output_type": "execute_result",
          "data": {
            "text/plain": [
              "(3, 5)"
            ]
          },
          "metadata": {
            "tags": []
          },
          "execution_count": 63
        }
      ]
    },
    {
      "cell_type": "markdown",
      "metadata": {
        "id": "kEiQH0CWcV3i",
        "colab_type": "text"
      },
      "source": [
        "### 리스트 개별 아이템에 접근\n",
        "\n",
        " - 인덱스에 접근하여 값을 업데이트 가능"
      ]
    },
    {
      "cell_type": "code",
      "metadata": {
        "id": "ai44DVQPcV3i",
        "colab_type": "code",
        "outputId": "2d493463-5bb2-4bf5-ccb5-23d831e2dfc7",
        "colab": {}
      },
      "source": [
        "a = [1,2,3,4,5,6,7,8]\n",
        "\n",
        "a[1:7:2]"
      ],
      "execution_count": 0,
      "outputs": [
        {
          "output_type": "execute_result",
          "data": {
            "text/plain": [
              "[2, 4, 6]"
            ]
          },
          "metadata": {
            "tags": []
          },
          "execution_count": 64
        }
      ]
    },
    {
      "cell_type": "markdown",
      "metadata": {
        "id": "dLnH2XEAcV3k",
        "colab_type": "text"
      },
      "source": [
        "### list 멤버 함수\n",
        "\n",
        " - 생성된 리스트 객체에 동작하는 함수\n",
        " - 향후, 클래스와 멤버 함수 개념을 이해할 예정\n",
        " \n",
        "### append()\n",
        "   - 리스트의 끝에 항목을 추가함\n",
        "\n"
      ]
    },
    {
      "cell_type": "code",
      "metadata": {
        "id": "QzDMnSFZcV3k",
        "colab_type": "code",
        "outputId": "ef857e02-4381-4db4-9730-9dea691657c4",
        "colab": {}
      },
      "source": [
        "a = [1,2,3,4,5]\n",
        "\n",
        "a.append(10)\n",
        "\n",
        "a"
      ],
      "execution_count": 0,
      "outputs": [
        {
          "output_type": "execute_result",
          "data": {
            "text/plain": [
              "[1, 2, 3, 4, 5, 10]"
            ]
          },
          "metadata": {
            "tags": []
          },
          "execution_count": 65
        }
      ]
    },
    {
      "cell_type": "markdown",
      "metadata": {
        "id": "keiGZQexcV3l",
        "colab_type": "text"
      },
      "source": [
        "#### extend()\n",
        "  - 리스트를 연장\n",
        "  - +=로도 가능함"
      ]
    },
    {
      "cell_type": "code",
      "metadata": {
        "id": "PvQIyVj1cV3l",
        "colab_type": "code",
        "outputId": "1d4ab1fd-5f53-44b1-b0ea-621e21c83f37",
        "colab": {}
      },
      "source": [
        "a = [1,2,3,4,5]\n",
        "b = [6,7,8,9,10]\n",
        "\n",
        "a.extend(b)\n",
        "\n",
        "a"
      ],
      "execution_count": 0,
      "outputs": [
        {
          "output_type": "execute_result",
          "data": {
            "text/plain": [
              "[1, 2, 3, 4, 5, 6, 7, 8, 9, 10]"
            ]
          },
          "metadata": {
            "tags": []
          },
          "execution_count": 74
        }
      ]
    },
    {
      "cell_type": "markdown",
      "metadata": {
        "id": "jxgEnETjcV3m",
        "colab_type": "text"
      },
      "source": [
        "### insert()로 항목 추가\n",
        "\n",
        " - 리스트에 원하는 위치에 추가 가능\n",
        " - 앞에 인덱스. 뒤에 아이템을 명시"
      ]
    },
    {
      "cell_type": "code",
      "metadata": {
        "id": "Nh-LgVbRcV3n",
        "colab_type": "code",
        "outputId": "23d6055e-622b-4e5d-d4e3-f2d8757d8d03",
        "colab": {}
      },
      "source": [
        "a = [1,3,4,5,6]\n",
        "a.insert(1,40)\n",
        "\n",
        "a"
      ],
      "execution_count": 0,
      "outputs": [
        {
          "output_type": "execute_result",
          "data": {
            "text/plain": [
              "[1, 40, 3, 4, 5, 6]"
            ]
          },
          "metadata": {
            "tags": []
          },
          "execution_count": 75
        }
      ]
    },
    {
      "cell_type": "markdown",
      "metadata": {
        "id": "6sUe2NXncV3o",
        "colab_type": "text"
      },
      "source": [
        "### remove()\n",
        "\n",
        " - 값으로 항목 삭제"
      ]
    },
    {
      "cell_type": "code",
      "metadata": {
        "id": "C7LENHS_cV3o",
        "colab_type": "code",
        "outputId": "56cac3ad-e3d1-498c-e94b-4cabbac1f9a5",
        "colab": {}
      },
      "source": [
        "a = [1,2,30,4,5]\n",
        "\n",
        "a.remove(30)\n",
        "\n",
        "a"
      ],
      "execution_count": 0,
      "outputs": [
        {
          "output_type": "execute_result",
          "data": {
            "text/plain": [
              "[1, 2, 4, 5]"
            ]
          },
          "metadata": {
            "tags": []
          },
          "execution_count": 79
        }
      ]
    },
    {
      "cell_type": "markdown",
      "metadata": {
        "id": "Ha1XLY9AcV3p",
        "colab_type": "text"
      },
      "source": [
        "### pop()\n",
        " - 지우고자 하는 아이템을 반환후, 삭제"
      ]
    },
    {
      "cell_type": "code",
      "metadata": {
        "id": "K47yc4JJcV3q",
        "colab_type": "code",
        "outputId": "c177c604-b481-4923-bfb5-a842b41c33ce",
        "colab": {}
      },
      "source": [
        "a = [1,2,3,4,5]\n",
        "a.pop(1)\n",
        "\n",
        "a"
      ],
      "execution_count": 0,
      "outputs": [
        {
          "output_type": "execute_result",
          "data": {
            "text/plain": [
              "[1, 3, 4, 5]"
            ]
          },
          "metadata": {
            "tags": []
          },
          "execution_count": 82
        }
      ]
    },
    {
      "cell_type": "markdown",
      "metadata": {
        "id": "fpwrKm7CcV3r",
        "colab_type": "text"
      },
      "source": [
        "### index()\n",
        "\n",
        " - 찾고자 하는 값의 인덱스 반환"
      ]
    },
    {
      "cell_type": "code",
      "metadata": {
        "id": "xwn8dgdEcV3r",
        "colab_type": "code",
        "outputId": "8638340a-ecdc-45ed-f102-f858619a3e06",
        "colab": {}
      },
      "source": [
        "a = [1,2,3,4,5]\n",
        "a.index(5)"
      ],
      "execution_count": 0,
      "outputs": [
        {
          "output_type": "execute_result",
          "data": {
            "text/plain": [
              "4"
            ]
          },
          "metadata": {
            "tags": []
          },
          "execution_count": 89
        }
      ]
    },
    {
      "cell_type": "markdown",
      "metadata": {
        "id": "Xlc18sJwcV3s",
        "colab_type": "text"
      },
      "source": [
        "#### in 키워드\n",
        " \n",
        "  - 리스트 내에 해당 값이 존재하는지 확인\n",
        "  - value in [list]\n",
        "  - True, False 중 한가지로 반환"
      ]
    },
    {
      "cell_type": "code",
      "metadata": {
        "id": "CgCpFVxxcV3t",
        "colab_type": "code",
        "outputId": "41a83961-0be8-4c60-cb6c-68302c39439d",
        "colab": {}
      },
      "source": [
        "a = [1,2,3,4,5,10]\n",
        "b = 7\n",
        "\n",
        "c = b in a\n",
        "\n",
        "c"
      ],
      "execution_count": 0,
      "outputs": [
        {
          "output_type": "execute_result",
          "data": {
            "text/plain": [
              "False"
            ]
          },
          "metadata": {
            "tags": []
          },
          "execution_count": 91
        }
      ]
    },
    {
      "cell_type": "markdown",
      "metadata": {
        "id": "vl6Bx1j3cV3u",
        "colab_type": "text"
      },
      "source": [
        "### list 정렬\n",
        "\n",
        " - sort() -> 리스트 자체를 내부적으로 정렬\n",
        " - sorted() -> 리스트의 정렬된 복사본을 변환\n",
        " "
      ]
    },
    {
      "cell_type": "code",
      "metadata": {
        "id": "PXzPko95cV3u",
        "colab_type": "code",
        "outputId": "bb730061-0d77-4ef0-dec4-ae5ae2c61e2b",
        "colab": {}
      },
      "source": [
        "a = [9,10,7,19,1,2,20,21,7,8]\n",
        "\n",
        "a.sort(reverse=True)\n",
        "b = sorted(a)\n",
        "\n",
        "a\n",
        "b"
      ],
      "execution_count": 0,
      "outputs": [
        {
          "output_type": "execute_result",
          "data": {
            "text/plain": [
              "[1, 2, 7, 7, 8, 9, 10, 19, 20, 21]"
            ]
          },
          "metadata": {
            "tags": []
          },
          "execution_count": 97
        }
      ]
    },
    {
      "cell_type": "markdown",
      "metadata": {
        "id": "w2yD588IcV3w",
        "colab_type": "text"
      },
      "source": [
        "### Tuple\n",
        "\n",
        " - 리스트와 같이 복수개의 값을 갖는 컬렉션 타입\n",
        " - 생성된 후 변경이 불가능\n"
      ]
    },
    {
      "cell_type": "code",
      "metadata": {
        "id": "5fwNMz4acV3w",
        "colab_type": "code",
        "outputId": "78572d3b-d3dc-4a56-a690-e766292a9d8e",
        "colab": {}
      },
      "source": [
        "a = [1,2,3]\n",
        "b = (1,2,3)\n",
        "\n",
        "print(type(a))\n",
        "print(type(b))"
      ],
      "execution_count": 0,
      "outputs": [
        {
          "output_type": "stream",
          "text": [
            "<class 'list'>\n",
            "<class 'tuple'>\n"
          ],
          "name": "stdout"
        }
      ]
    },
    {
      "cell_type": "markdown",
      "metadata": {
        "id": "XGfnZWtXcV3x",
        "colab_type": "text"
      },
      "source": [
        "#### tuple unpacking\n",
        "\n",
        " - 튜플의 값을 차례대로 변수에 대입"
      ]
    },
    {
      "cell_type": "code",
      "metadata": {
        "id": "X4IJDba5cV3y",
        "colab_type": "code",
        "outputId": "8b1f3e12-862e-4114-90ac-d2e0c2b42b55",
        "colab": {}
      },
      "source": [
        "a = (100,200)\n",
        "\n",
        "type(a)\n",
        "\n",
        "a,b = 100,200\n",
        "\n",
        "print(a,b)"
      ],
      "execution_count": 0,
      "outputs": [
        {
          "output_type": "stream",
          "text": [
            "100 200\n"
          ],
          "name": "stdout"
        }
      ]
    },
    {
      "cell_type": "markdown",
      "metadata": {
        "id": "_o4gBWOqcV3z",
        "colab_type": "text"
      },
      "source": [
        " ### 연습문제"
      ]
    },
    {
      "cell_type": "code",
      "metadata": {
        "id": "9HhR52eHcV3z",
        "colab_type": "code",
        "outputId": "3e614ec0-9fc3-4c45-97a3-79500c6ebada",
        "colab": {}
      },
      "source": [
        "a = 5\n",
        "b = 4\n",
        "\n",
        "temp = a\n",
        "a = b\n",
        "b = temp\n",
        "\n",
        "a, b = b, a\n",
        "\n",
        "print(a,b)"
      ],
      "execution_count": 0,
      "outputs": [
        {
          "output_type": "stream",
          "text": [
            "5 4\n"
          ],
          "name": "stdout"
        }
      ]
    },
    {
      "cell_type": "markdown",
      "metadata": {
        "id": "5v5jIZYkcV30",
        "colab_type": "text"
      },
      "source": [
        "### dictionary\n",
        "\n",
        " - 키와 값을 갖는 데이터 구조\n",
        " - 키는 내부적으로 hash값으로 저장\n",
        " - 순서를 따지지 않음, 즉, 인덱스가 없음"
      ]
    },
    {
      "cell_type": "code",
      "metadata": {
        "id": "kxZwk-ZEcV30",
        "colab_type": "code",
        "outputId": "12c2e0e9-9925-4730-98bb-234a59006492",
        "colab": {}
      },
      "source": [
        "a ={'Korea':'Seoul', \n",
        "    \"Canada\":\"Ottawa\", \n",
        "    \"USA\":\"Washington D.C\"}\n",
        "b = {0:1 , 1:6 , 7:9 , 8:10}\n",
        "\n",
        "print(b[1])\n",
        "\n",
        "#print(a['Korea'])"
      ],
      "execution_count": 0,
      "outputs": [
        {
          "output_type": "stream",
          "text": [
            "6\n"
          ],
          "name": "stdout"
        }
      ]
    },
    {
      "cell_type": "markdown",
      "metadata": {
        "id": "WJgLNLATcV31",
        "colab_type": "text"
      },
      "source": [
        "### 항목추가 및 변경\n",
        "\n",
        " - 기존에 키가 존재하면, 새로운 값으로 업데이트\n",
        " - 존재하지 않으면, 새로운 키, 값 생성"
      ]
    },
    {
      "cell_type": "code",
      "metadata": {
        "id": "yLkTAq6ocV31",
        "colab_type": "code",
        "outputId": "a91e6954-1306-4c1d-fed7-299066dd4d10",
        "colab": {}
      },
      "source": [
        "a ={'Korea':'Seoul', \n",
        "    \"Canada\":\"Ottawa\", \n",
        "    \"USA\":\"Washington D.C\"}\n",
        "\n",
        "a['Japan'] = \"Tokyo\"\n",
        "\n",
        "a"
      ],
      "execution_count": 0,
      "outputs": [
        {
          "output_type": "execute_result",
          "data": {
            "text/plain": [
              "{'Korea': 'Seoul',\n",
              " 'Canada': 'Ottawa',\n",
              " 'USA': 'Washington D.C',\n",
              " 'Japan': 'Tokyo'}"
            ]
          },
          "metadata": {
            "tags": []
          },
          "execution_count": 127
        }
      ]
    },
    {
      "cell_type": "markdown",
      "metadata": {
        "id": "eI_RJonFcV32",
        "colab_type": "text"
      },
      "source": [
        "### update()\n",
        "\n",
        " - 두 딕셔너리를 병합함\n",
        " - 겹치는 키가 있따면 parameter로 전달되는 키 값이 overwrite 된다."
      ]
    },
    {
      "cell_type": "code",
      "metadata": {
        "id": "a6xGHRyqcV33",
        "colab_type": "code",
        "outputId": "16f3976b-d5dd-4716-d871-f985d9dee1b2",
        "colab": {}
      },
      "source": [
        "a = {'a':1,'b':2,'c':3}\n",
        "b = {'a':2, 'd':4 , 'e':5}\n",
        "\n",
        "a.update(b)\n",
        "\n",
        "a"
      ],
      "execution_count": 0,
      "outputs": [
        {
          "output_type": "execute_result",
          "data": {
            "text/plain": [
              "{'a': 2, 'b': 2, 'c': 3, 'd': 4, 'e': 5}"
            ]
          },
          "metadata": {
            "tags": []
          },
          "execution_count": 129
        }
      ]
    },
    {
      "cell_type": "markdown",
      "metadata": {
        "id": "vDJxCkRUcV33",
        "colab_type": "text"
      },
      "source": [
        "### key 삭제\n",
        " - del 키워드 사용"
      ]
    },
    {
      "cell_type": "code",
      "metadata": {
        "id": "svNYj69acV34",
        "colab_type": "code",
        "outputId": "2ef983f5-85fb-4853-e6e4-9016e4725453",
        "colab": {}
      },
      "source": [
        "a = {'a':1,'b':2,'c':3}\n",
        "print(a)\n",
        "\n",
        "# a.pop('b')\n",
        "del a['b']\n",
        "a"
      ],
      "execution_count": 0,
      "outputs": [
        {
          "output_type": "stream",
          "text": [
            "{'a': 1, 'b': 2, 'c': 3}\n"
          ],
          "name": "stdout"
        },
        {
          "output_type": "execute_result",
          "data": {
            "text/plain": [
              "{'a': 1, 'c': 3}"
            ]
          },
          "metadata": {
            "tags": []
          },
          "execution_count": 134
        }
      ]
    },
    {
      "cell_type": "markdown",
      "metadata": {
        "id": "AaG2bNM1cV35",
        "colab_type": "text"
      },
      "source": [
        "### clear()\n",
        "\n",
        " - 딕셔너리의 모든 값을 초기화"
      ]
    },
    {
      "cell_type": "code",
      "metadata": {
        "id": "GS88_f-1cV35",
        "colab_type": "code",
        "outputId": "12b8b4aa-d9a4-4427-885e-32bc2d166c66",
        "colab": {}
      },
      "source": [
        "a.clear()\n",
        "a"
      ],
      "execution_count": 0,
      "outputs": [
        {
          "output_type": "execute_result",
          "data": {
            "text/plain": [
              "{}"
            ]
          },
          "metadata": {
            "tags": []
          },
          "execution_count": 136
        }
      ]
    },
    {
      "cell_type": "markdown",
      "metadata": {
        "id": "--Qy0qtUcV36",
        "colab_type": "text"
      },
      "source": [
        "### in\n",
        "\n",
        " - key 값 존재 확인\n",
        " - O(1)연산 = 딕셔너리의 크기와 관계없이 항상 연산의 속도가 일정하다는 의미"
      ]
    },
    {
      "cell_type": "code",
      "metadata": {
        "id": "tGE9fCEjcV36",
        "colab_type": "code",
        "outputId": "cc753183-3a50-4102-8a72-c3af7a553916",
        "colab": {}
      },
      "source": [
        "a = {'a':1,'b':2,'c':3}\n",
        "print(a)\n",
        "\n",
        "'b' in a\n",
        "'d' in a"
      ],
      "execution_count": 0,
      "outputs": [
        {
          "output_type": "stream",
          "text": [
            "{'a': 1, 'b': 2, 'c': 3}\n"
          ],
          "name": "stdout"
        },
        {
          "output_type": "execute_result",
          "data": {
            "text/plain": [
              "False"
            ]
          },
          "metadata": {
            "tags": []
          },
          "execution_count": 139
        }
      ]
    },
    {
      "cell_type": "markdown",
      "metadata": {
        "id": "P6nxYip3cV37",
        "colab_type": "text"
      },
      "source": [
        "### value access\n",
        "\n",
        " - dict[key]로 접근, 키가 없는 경우 에러 발생\n",
        " - .get()함수로 접근, 키가 없는 경우 None 반환\n"
      ]
    },
    {
      "cell_type": "code",
      "metadata": {
        "id": "vFFRs0n3cV38",
        "colab_type": "code",
        "outputId": "749cd75b-39f4-4342-a384-69a29ac309ce",
        "colab": {}
      },
      "source": [
        "print(a.get('d'))"
      ],
      "execution_count": 0,
      "outputs": [
        {
          "output_type": "stream",
          "text": [
            "None\n"
          ],
          "name": "stdout"
        }
      ]
    },
    {
      "cell_type": "markdown",
      "metadata": {
        "id": "hoiF9kGDcV39",
        "colab_type": "text"
      },
      "source": [
        "### 모든 keys, values 접근\n",
        "\n",
        " - keys() - 키만 반환\n",
        " - values() - 키값만 반환\n",
        " - items() - 키, 값의 튜플을 반환"
      ]
    },
    {
      "cell_type": "code",
      "metadata": {
        "id": "tuz4HdHVcV39",
        "colab_type": "code",
        "outputId": "ab5d5333-9ff4-429a-ed3e-77f0ff48ae1a",
        "colab": {}
      },
      "source": [
        "print(a)\n",
        "print(list(a.keys()))\n",
        "print(list(a.values()))\n",
        "\n",
        "list(a.items())"
      ],
      "execution_count": 0,
      "outputs": [
        {
          "output_type": "stream",
          "text": [
            "{'a': 1, 'b': 2, 'c': 3}\n",
            "['a', 'b', 'c']\n",
            "[1, 2, 3]\n"
          ],
          "name": "stdout"
        },
        {
          "output_type": "execute_result",
          "data": {
            "text/plain": [
              "[('a', 1), ('b', 2), ('c', 3)]"
            ]
          },
          "metadata": {
            "tags": []
          },
          "execution_count": 148
        }
      ]
    },
    {
      "cell_type": "markdown",
      "metadata": {
        "id": "8ePXWnVqcV3-",
        "colab_type": "text"
      },
      "source": [
        "### set\n",
        "\n",
        " - dictionary 에서 key만 활용하는 데이터 구조로 이해 \n",
        " - 수학에서의 집합과 동일한 개념"
      ]
    },
    {
      "cell_type": "code",
      "metadata": {
        "id": "DKyufJStcV3-",
        "colab_type": "code",
        "outputId": "f02285ba-85b2-4036-bdc6-8e081fef50eb",
        "colab": {}
      },
      "source": [
        "a = {1,1,2,2,3,3,4,1,5}\n",
        "\n",
        "print(a)"
      ],
      "execution_count": 0,
      "outputs": [
        {
          "output_type": "stream",
          "text": [
            "{1, 2, 3, 4, 5}\n"
          ],
          "name": "stdout"
        }
      ]
    },
    {
      "cell_type": "markdown",
      "metadata": {
        "id": "Rh1zaMsGcV3_",
        "colab_type": "text"
      },
      "source": [
        "### set() 으로 집합으로 변환"
      ]
    },
    {
      "cell_type": "code",
      "metadata": {
        "id": "zFo0RAy8cV4A",
        "colab_type": "code",
        "outputId": "821a02bd-78d4-4c6a-b326-dcfbb7400d29",
        "colab": {}
      },
      "source": [
        "a = [1,1,2,2,3,3,4,1,5]\n",
        "print(a)\n",
        "\n",
        "b = set(a)\n",
        "print(b)"
      ],
      "execution_count": 0,
      "outputs": [
        {
          "output_type": "stream",
          "text": [
            "[1, 1, 2, 2, 3, 3, 4, 1, 5]\n",
            "{1, 2, 3, 4, 5}\n"
          ],
          "name": "stdout"
        }
      ]
    },
    {
      "cell_type": "markdown",
      "metadata": {
        "id": "yatDlx-wcV4B",
        "colab_type": "text"
      },
      "source": [
        "### set operations\n",
        " - 수학연산과 동일\n",
        " - 교집합, 합집합, 차집합 등 지원"
      ]
    },
    {
      "cell_type": "code",
      "metadata": {
        "id": "Jx1M4VavcV4B",
        "colab_type": "code",
        "outputId": "503cee9d-50c4-4149-e5b1-1d56458dfd8f",
        "colab": {}
      },
      "source": [
        "a = {1,2,3}\n",
        "b = {2,3,4}\n",
        "\n",
        "print(a.union(b)) #합집합\n",
        "print(a.intersection(b)) #교집합\n",
        "print(a.difference(b)) #차집합\n",
        "print(a.issubset(b)) #부분집합\n"
      ],
      "execution_count": 0,
      "outputs": [
        {
          "output_type": "stream",
          "text": [
            "{1, 2, 3, 4}\n",
            "{2, 3}\n",
            "{1}\n",
            "False\n"
          ],
          "name": "stdout"
        }
      ]
    },
    {
      "cell_type": "code",
      "metadata": {
        "id": "pCOsGX98cV4C",
        "colab_type": "code",
        "outputId": "814b2dd6-1e68-4f31-8454-94bfd2a850cf",
        "colab": {}
      },
      "source": [
        "sam_list = [1,3,5,6,7,10]\n",
        "\n",
        "a = sam_list[-1]+sam_list[-2]\n",
        "\n",
        "a"
      ],
      "execution_count": 0,
      "outputs": [
        {
          "output_type": "execute_result",
          "data": {
            "text/plain": [
              "17"
            ]
          },
          "metadata": {
            "tags": []
          },
          "execution_count": 6
        }
      ]
    },
    {
      "cell_type": "code",
      "metadata": {
        "id": "Kmir7ivdcV4D",
        "colab_type": "code",
        "colab": {}
      },
      "source": [
        ""
      ],
      "execution_count": 0,
      "outputs": []
    }
  ]
}