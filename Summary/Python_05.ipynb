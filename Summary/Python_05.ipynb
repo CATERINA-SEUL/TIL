{
  "nbformat": 4,
  "nbformat_minor": 0,
  "metadata": {
    "kernelspec": {
      "display_name": "Python 3",
      "language": "python",
      "name": "python3"
    },
    "language_info": {
      "codemirror_mode": {
        "name": "ipython",
        "version": 3
      },
      "file_extension": ".py",
      "mimetype": "text/x-python",
      "name": "python",
      "nbconvert_exporter": "python",
      "pygments_lexer": "ipython3",
      "version": "3.7.3"
    },
    "colab": {
      "name": "Python 05.ipynb",
      "provenance": []
    }
  },
  "cells": [
    {
      "cell_type": "markdown",
      "metadata": {
        "id": "YzdzBnR_rRuU",
        "colab_type": "text"
      },
      "source": [
        "### collection 의 길이\n",
        "\n",
        " - len() 내장함수로 계산 가능\n",
        " - 내장함수란 파이썬 내부에 구현되어 있어서, import 하지 않고도 사용가능한 함수를 의미\n",
        " - abs,dlen, type, range등이 있음 "
      ]
    },
    {
      "cell_type": "code",
      "metadata": {
        "id": "RRqabjZrrRuV",
        "colab_type": "code",
        "colab": {}
      },
      "source": [
        "print(a)\n",
        "print(len(a))"
      ],
      "execution_count": 0,
      "outputs": []
    },
    {
      "cell_type": "markdown",
      "metadata": {
        "id": "BsXNbvrtrRuX",
        "colab_type": "text"
      },
      "source": [
        "### range 함수\n",
        "\n",
        " - 리스트를 쉽게 만들 수 있는 내장함수\n",
        " - 주어진 값에 따라 다양한 결과를 반환"
      ]
    },
    {
      "cell_type": "code",
      "metadata": {
        "id": "4jPi72dbrRuY",
        "colab_type": "code",
        "colab": {}
      },
      "source": [
        "list(range(1,101))"
      ],
      "execution_count": 0,
      "outputs": []
    },
    {
      "cell_type": "code",
      "metadata": {
        "id": "0fLw24ePrRub",
        "colab_type": "code",
        "colab": {}
      },
      "source": [
        "list(range(1,101,5))"
      ],
      "execution_count": 0,
      "outputs": []
    },
    {
      "cell_type": "markdown",
      "metadata": {
        "id": "KwUlZ1WurRuh",
        "colab_type": "text"
      },
      "source": [
        "### 1 - 100 사이의 5의 배수만을 갖는 리스트를 생성하시오"
      ]
    },
    {
      "cell_type": "code",
      "metadata": {
        "id": "6TRJHJXHrRuh",
        "colab_type": "code",
        "colab": {}
      },
      "source": [
        "list(range(5,101,5))"
      ],
      "execution_count": 0,
      "outputs": []
    },
    {
      "cell_type": "markdown",
      "metadata": {
        "id": "ewiXMsNSrRuj",
        "colab_type": "text"
      },
      "source": [
        "### while 문 구구단"
      ]
    },
    {
      "cell_type": "code",
      "metadata": {
        "id": "I1PNzeufrRuk",
        "colab_type": "code",
        "outputId": "19958bb8-ea0f-462d-fb9a-bc3f3ec3a31e",
        "colab": {}
      },
      "source": [
        "x = 2\n",
        "while x <= 9:\n",
        "    y = 1\n",
        "    while y <= 9:\n",
        "        print(x , 'x', y, '=' ,x*y)\n",
        "        y += 1\n",
        "    x += 1\n",
        "    "
      ],
      "execution_count": 0,
      "outputs": [
        {
          "output_type": "stream",
          "text": [
            "2 x 1 = 2\n",
            "2 x 2 = 4\n",
            "2 x 3 = 6\n",
            "2 x 4 = 8\n",
            "2 x 5 = 10\n",
            "2 x 6 = 12\n",
            "2 x 7 = 14\n",
            "2 x 8 = 16\n",
            "2 x 9 = 18\n",
            "3 x 1 = 3\n",
            "3 x 2 = 6\n",
            "3 x 3 = 9\n",
            "3 x 4 = 12\n",
            "3 x 5 = 15\n",
            "3 x 6 = 18\n",
            "3 x 7 = 21\n",
            "3 x 8 = 24\n",
            "3 x 9 = 27\n",
            "4 x 1 = 4\n",
            "4 x 2 = 8\n",
            "4 x 3 = 12\n",
            "4 x 4 = 16\n",
            "4 x 5 = 20\n",
            "4 x 6 = 24\n",
            "4 x 7 = 28\n",
            "4 x 8 = 32\n",
            "4 x 9 = 36\n",
            "5 x 1 = 5\n",
            "5 x 2 = 10\n",
            "5 x 3 = 15\n",
            "5 x 4 = 20\n",
            "5 x 5 = 25\n",
            "5 x 6 = 30\n",
            "5 x 7 = 35\n",
            "5 x 8 = 40\n",
            "5 x 9 = 45\n",
            "6 x 1 = 6\n",
            "6 x 2 = 12\n",
            "6 x 3 = 18\n",
            "6 x 4 = 24\n",
            "6 x 5 = 30\n",
            "6 x 6 = 36\n",
            "6 x 7 = 42\n",
            "6 x 8 = 48\n",
            "6 x 9 = 54\n",
            "7 x 1 = 7\n",
            "7 x 2 = 14\n",
            "7 x 3 = 21\n",
            "7 x 4 = 28\n",
            "7 x 5 = 35\n",
            "7 x 6 = 42\n",
            "7 x 7 = 49\n",
            "7 x 8 = 56\n",
            "7 x 9 = 63\n",
            "8 x 1 = 8\n",
            "8 x 2 = 16\n",
            "8 x 3 = 24\n",
            "8 x 4 = 32\n",
            "8 x 5 = 40\n",
            "8 x 6 = 48\n",
            "8 x 7 = 56\n",
            "8 x 8 = 64\n",
            "8 x 9 = 72\n",
            "9 x 1 = 9\n",
            "9 x 2 = 18\n",
            "9 x 3 = 27\n",
            "9 x 4 = 36\n",
            "9 x 5 = 45\n",
            "9 x 6 = 54\n",
            "9 x 7 = 63\n",
            "9 x 8 = 72\n",
            "9 x 9 = 81\n"
          ],
          "name": "stdout"
        }
      ]
    },
    {
      "cell_type": "markdown",
      "metadata": {
        "id": "R4SmGgN5rRup",
        "colab_type": "text"
      },
      "source": [
        "### 1-100 까지의 정수 중에 2의 배수 또는 11의 배수를 출력하시오"
      ]
    },
    {
      "cell_type": "code",
      "metadata": {
        "id": "GQQt6k-_rRuq",
        "colab_type": "code",
        "outputId": "730b676e-aa09-4d89-b3d7-9c4e2191bc43",
        "colab": {}
      },
      "source": [
        "num = list(range(1,101))\n",
        "\n",
        "for x in num:\n",
        "    if x % 2 == 0 or x % 11 == 0:\n",
        "        print(x)"
      ],
      "execution_count": 0,
      "outputs": [
        {
          "output_type": "stream",
          "text": [
            "2\n",
            "4\n",
            "6\n",
            "8\n",
            "10\n",
            "11\n",
            "12\n",
            "14\n",
            "16\n",
            "18\n",
            "20\n",
            "22\n",
            "24\n",
            "26\n",
            "28\n",
            "30\n",
            "32\n",
            "33\n",
            "34\n",
            "36\n",
            "38\n",
            "40\n",
            "42\n",
            "44\n",
            "46\n",
            "48\n",
            "50\n",
            "52\n",
            "54\n",
            "55\n",
            "56\n",
            "58\n",
            "60\n",
            "62\n",
            "64\n",
            "66\n",
            "68\n",
            "70\n",
            "72\n",
            "74\n",
            "76\n",
            "77\n",
            "78\n",
            "80\n",
            "82\n",
            "84\n",
            "86\n",
            "88\n",
            "90\n",
            "92\n",
            "94\n",
            "96\n",
            "98\n",
            "99\n",
            "100\n"
          ],
          "name": "stdout"
        }
      ]
    },
    {
      "cell_type": "markdown",
      "metadata": {
        "id": "zCYPRHm1rRut",
        "colab_type": "text"
      },
      "source": [
        "### 최댓값, 최솟값"
      ]
    },
    {
      "cell_type": "code",
      "metadata": {
        "id": "jRvjQbLArRuu",
        "colab_type": "code",
        "outputId": "d5cc9e11-248d-4787-f481-ca8cdcd9ef65",
        "colab": {}
      },
      "source": [
        "## sort 함수 ( 정렬 사용 )\n",
        "\n",
        "a = [22,1,3,4,7,98,21,55,87,99,19,20,45]\n",
        "\n",
        "a.sort()\n",
        "a[0],a[-1]\n"
      ],
      "execution_count": 0,
      "outputs": [
        {
          "output_type": "execute_result",
          "data": {
            "text/plain": [
              "(1, 99)"
            ]
          },
          "metadata": {
            "tags": []
          },
          "execution_count": 12
        }
      ]
    },
    {
      "cell_type": "code",
      "metadata": {
        "id": "RM6SFJEsrRuw",
        "colab_type": "code",
        "outputId": "6a274f5a-b62e-4a63-8b16-b2271e90ca0c",
        "colab": {}
      },
      "source": [
        "# 처음 만나는 값을 최소 값으로 가정, \n",
        "# 그 후 숫자를 만날 때마다 현재 최소값보다 그 숫자가 작으면 최소값을 그 숫자로 업데이트\n",
        "\n",
        "a = [22,1,3,4,7,98,21,55,87,99,19,20,45]\n",
        "\n",
        "_min = a[0]\n",
        "for x in a :\n",
        "    if x < _min:\n",
        "        _min = x\n",
        "print(_min)"
      ],
      "execution_count": 0,
      "outputs": [
        {
          "output_type": "stream",
          "text": [
            "1\n"
          ],
          "name": "stdout"
        }
      ]
    },
    {
      "cell_type": "code",
      "metadata": {
        "id": "6NYvQZ4YrRu1",
        "colab_type": "code",
        "outputId": "a2559bc1-d4e6-4248-81b9-8d5ce88df719",
        "colab": {}
      },
      "source": [
        "_max = a[0]\n",
        "for x in a :\n",
        "    if x > _max:\n",
        "        _max = x\n",
        "print(_max)"
      ],
      "execution_count": 0,
      "outputs": [
        {
          "output_type": "stream",
          "text": [
            "99\n"
          ],
          "name": "stdout"
        }
      ]
    },
    {
      "cell_type": "markdown",
      "metadata": {
        "id": "JF13C_uWrRu2",
        "colab_type": "text"
      },
      "source": [
        "### 최대, 최소 동시"
      ]
    },
    {
      "cell_type": "code",
      "metadata": {
        "id": "m2w-1IVmrRu3",
        "colab_type": "code",
        "outputId": "275c16f4-d79d-4239-fcd0-f1c485aafc0e",
        "colab": {}
      },
      "source": [
        "_min = a[0]\n",
        "_max = a[0]\n",
        "\n",
        "for x in a :\n",
        "    if x < _min:\n",
        "        _min = x\n",
        "    if x > _max:\n",
        "        _max = x\n",
        "    \n",
        "print(_min, _max)"
      ],
      "execution_count": 0,
      "outputs": [
        {
          "output_type": "stream",
          "text": [
            "1 99\n"
          ],
          "name": "stdout"
        }
      ]
    },
    {
      "cell_type": "markdown",
      "metadata": {
        "id": "szhWrGNLrRu5",
        "colab_type": "text"
      },
      "source": [
        "### 평균"
      ]
    },
    {
      "cell_type": "code",
      "metadata": {
        "id": "XNlAR6THrRu6",
        "colab_type": "code",
        "colab": {}
      },
      "source": [
        "a = [22,1,3,4,7,98,21,55,87,99,19,20,45]"
      ],
      "execution_count": 0,
      "outputs": []
    },
    {
      "cell_type": "code",
      "metadata": {
        "id": "IC6K-brsrRu9",
        "colab_type": "code",
        "outputId": "6f4b1614-e35d-41e9-f06c-af1d65202072",
        "colab": {}
      },
      "source": [
        "# while\n",
        "\n",
        "i = 0\n",
        "_sum = 0\n",
        "while i < len(a):\n",
        "    _sum += a[i]\n",
        "    i += 1\n",
        "print(_sum / len(a))"
      ],
      "execution_count": 0,
      "outputs": [
        {
          "output_type": "stream",
          "text": [
            "37.0\n"
          ],
          "name": "stdout"
        }
      ]
    },
    {
      "cell_type": "code",
      "metadata": {
        "id": "QMcJAocOrRu_",
        "colab_type": "code",
        "outputId": "57c57c27-eead-48b9-8997-cc2cca06e73d",
        "colab": {}
      },
      "source": [
        "# for\n",
        "\n",
        "_sum = 0\n",
        "\n",
        "for x in a :\n",
        "    _sum  += x\n",
        "print(_sum / len(a))"
      ],
      "execution_count": 0,
      "outputs": [
        {
          "output_type": "stream",
          "text": [
            "37.0\n"
          ],
          "name": "stdout"
        }
      ]
    }
  ]
}