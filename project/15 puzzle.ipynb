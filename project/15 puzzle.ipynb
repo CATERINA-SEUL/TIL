{
  "nbformat": 4,
  "nbformat_minor": 0,
  "metadata": {
    "kernelspec": {
      "display_name": "Python 3",
      "language": "python",
      "name": "python3"
    },
    "language_info": {
      "codemirror_mode": {
        "name": "ipython",
        "version": 3
      },
      "file_extension": ".py",
      "mimetype": "text/x-python",
      "name": "python",
      "nbconvert_exporter": "python",
      "pygments_lexer": "ipython3",
      "version": "3.7.3"
    },
    "colab": {
      "name": "[제출]미니 프로젝트(숫자퍼즐)_start.ipynb",
      "provenance": []
    }
  },
  "cells": [
    {
      "cell_type": "markdown",
      "metadata": {
        "id": "h6ACyT5Oxque",
        "colab_type": "text"
      },
      "source": [
        "## Byte degree 미니 프로젝트\n",
        " - 숫자 퍼즐 게임 완성하기\n",
        " - 아래와 같이 숫자 퍼즐을 만들고 숫자를 이동시켜 순서대로 맞추는 게임\n",
        " - ![퍼즐이미지](https://i.stack.imgur.com/0B14h.png)\n",
        " - [이미지 출처](https://math.stackexchange.com/questions/635188/what-is-the-parity-of-permutation-in-the-15-puzzle)"
      ]
    },
    {
      "cell_type": "code",
      "metadata": {
        "id": "e21iYCO7xquh",
        "colab_type": "code",
        "colab": {}
      },
      "source": [
        "import random"
      ],
      "execution_count": 0,
      "outputs": []
    },
    {
      "cell_type": "markdown",
      "metadata": {
        "id": "LI9Z0Gdexqul",
        "colab_type": "text"
      },
      "source": [
        "### 게임 로직 구현하기\n",
        " 1. 퍼즐 생성하기\n",
        " 2. 퍼즐 랜덤하게 섞기\n",
        " 3. 퍼즐 출력\n",
        " 4. 사용자 입력(움직일 숫자 입력 받기)\n",
        " 5. 퍼즐 완성 확인하기\n",
        "   - 완성? 완료 메시지와 함께 종료\n",
        "   - 미완성? 3번으로 이동"
      ]
    },
    {
      "cell_type": "markdown",
      "metadata": {
        "id": "VPBzvqHixqum",
        "colab_type": "text"
      },
      "source": [
        "#### 퍼즐 생성하기\n",
        " - 2차원 리스트 형태로 생성\n",
        " - 퍼즐의 크기(size)를 파라미터로 받아, 동적으로 size*size의 리스트로 생성\n",
        " - 퍼즐이 생성되면 1부터 차례대로 행방향으로 숫자를 나열\n",
        "   - 사이즈가 3인 경우의 생성 예\n",
        "   -  [[1, 2, 3],\n",
        "      [4, 5, 6],\n",
        "      [7, 8, 9]]\n",
        " - 퍼즐의 가장 마지막 아이템(마지막 행의 마지막 열 아이템)은 '' 빈문자열로 처리\n",
        "   - 이유는? 숫자퍼즐의 목표는 빈공간을 이용해 각 이동하고자 하는 숫자를 빈공간으로 움직여 숫자들을 순서대로 다시 맞추는 것이 목적이므로, 빈공간을 표현하기 위한 방법으로 빈문자열을 사용"
      ]
    },
    {
      "cell_type": "markdown",
      "metadata": {
        "id": "2AkvqepCxqun",
        "colab_type": "text"
      },
      "source": [
        "* pure python 버젼"
      ]
    },
    {
      "cell_type": "code",
      "metadata": {
        "id": "JugBiIonxquo",
        "colab_type": "code",
        "colab": {}
      },
      "source": [
        "# 밑줄 부분을 채워봅니다.\n",
        "\n",
        "\n",
        "def initiate_puzzle(size):\n",
        "    \n",
        "    '''\n",
        "    파라미터\n",
        "     size: 퍼즐의 크기\n",
        "    리턴\n",
        "     생성된 퍼즐 리스트\n",
        "    '''\n",
        "    \n",
        "    puzzle = []\n",
        "    for i in range(size):\n",
        "        row = []\n",
        "        for j in range(size):\n",
        "            row.append(i*size+(j+1))\n",
        "        puzzle.append(row)\n",
        "\n",
        "    puzzle[-1][-1] = ''\n",
        "    return puzzle"
      ],
      "execution_count": 0,
      "outputs": []
    },
    {
      "cell_type": "markdown",
      "metadata": {
        "id": "dviDwLe5xquq",
        "colab_type": "text"
      },
      "source": [
        "* numpy 버젼"
      ]
    },
    {
      "cell_type": "code",
      "metadata": {
        "id": "57fDhjO0xqur",
        "colab_type": "code",
        "colab": {}
      },
      "source": [
        "# 밑줄 부분을 채워봅니다.\n",
        "\n",
        "\n",
        "import numpy as np\n",
        "def initiate_puzzle(size):\n",
        "    \n",
        "    '''\n",
        "    파라미터\n",
        "     size: 퍼즐의 크기\n",
        "    리턴\n",
        "     생성된 퍼즐 리스트\n",
        "    '''\n",
        "    \n",
        "    puzzle = np.arange(1, 17).reshape(size, size)\n",
        "    puzzle = puzzle.tolist() \n",
        "    puzzle[-1][-1] = ''\n",
        "    return puzzle"
      ],
      "execution_count": 0,
      "outputs": []
    },
    {
      "cell_type": "code",
      "metadata": {
        "id": "jbZ-pB2Dxquu",
        "colab_type": "code",
        "colab": {}
      },
      "source": [
        "puzzle = initiate_puzzle(4)"
      ],
      "execution_count": 0,
      "outputs": []
    },
    {
      "cell_type": "markdown",
      "metadata": {
        "id": "2JqNtwRpxqux",
        "colab_type": "text"
      },
      "source": [
        "#### 퍼즐 출력하기\n",
        " - 생성된 퍼즐(puzzle)을 파라미터로 받아 화면에 출력\n",
        " - 이때, 퍼즐은 2차원 형태이므로 2중 loop을 이용"
      ]
    },
    {
      "cell_type": "code",
      "metadata": {
        "id": "k1Zz3O5Xxquy",
        "colab_type": "code",
        "colab": {}
      },
      "source": [
        "# pass를 삭제하고 아래에 이중 for 문을 사용해 코드를 작성해봅니다.\n",
        "\n",
        "\n",
        "def show_puzzle(puzzle):\n",
        "    \n",
        "    '''\n",
        "    파라미터\n",
        "     puzzle: 퍼즐 \n",
        "    리턴\n",
        "     None\n",
        "    '''\n",
        "    \n",
        "    for i in range(len(puzzle)):\n",
        "        for j in range(len(puzzle)):\n",
        "            print(puzzle[i][j], end=\"\\t\")\n",
        "        print()\n",
        "    "
      ],
      "execution_count": 0,
      "outputs": []
    },
    {
      "cell_type": "code",
      "metadata": {
        "id": "sAt9c5xExqu1",
        "colab_type": "code",
        "colab": {},
        "outputId": "9487cf18-b35f-421e-c34e-5682b1a86737"
      },
      "source": [
        "show_puzzle(puzzle)"
      ],
      "execution_count": 0,
      "outputs": [
        {
          "output_type": "stream",
          "text": [
            "1\t2\t3\t4\t\n",
            "5\t6\t7\t8\t\n",
            "9\t10\t11\t12\t\n",
            "13\t14\t15\t\t\n"
          ],
          "name": "stdout"
        }
      ]
    },
    {
      "cell_type": "markdown",
      "metadata": {
        "id": "SBa057wuxqu5",
        "colab_type": "text"
      },
      "source": [
        "#### 퍼즐 섞기(shuffling)\n",
        " - 생성할때부터 랜덤하게 숫자를 배열하지 않고, 완성된 상태에서 퍼즐을 섞어야 함\n",
        "   - 이유? 랜덤하게 배열하는 경우, 퍼즐이 완성되지 못하는 경우의 수가 수학적으로 존재하기 때문\n",
        "   - 퍼즐을 완성시킬 수 없는 예\n",
        "   - [[1, 2, 3, 4], [5, 6, 7, 8], [9, 10, 11, 12], [13, 15, 14, '']]\n",
        "   - [출처: 네이버 블로그](https://post.naver.com/viewer/postView.nhn?volumeNo=17980703&memberNo=16868720) "
      ]
    },
    {
      "cell_type": "code",
      "metadata": {
        "id": "NObAeNIyxqu6",
        "colab_type": "code",
        "colab": {}
      },
      "source": [
        "# 밑줄 부분을 채워봅니다.\n",
        "\n",
        "\n",
        "def get_index(puzzle, n):\n",
        "    \n",
        "    '''\n",
        "    파라미터\n",
        "      puzzle: 퍼즐\n",
        "      n: 퍼즐 내에서 찾으려는 숫자 혹은 빈공간('') 값\n",
        "    리턴\n",
        "      퍼즐에서 해당 숫자나 빈공간을 찾았다면 해당 인덱스를 반환\n",
        "      찾지 못했다면 None, None 반환\n",
        "    '''\n",
        "    \n",
        "    for i in range(len(puzzle)):\n",
        "        try:\n",
        "            index = puzzle[i].index(n)\n",
        "            return i, index\n",
        "        except:\n",
        "            continue\n",
        "    return None, None"
      ],
      "execution_count": 0,
      "outputs": []
    },
    {
      "cell_type": "code",
      "metadata": {
        "id": "4jDd9gK6xqu9",
        "colab_type": "code",
        "colab": {}
      },
      "source": [
        "def shuffle_puzzle(puzzle, shuffle_count):\n",
        "    \n",
        "    '''\n",
        "    파라미터\n",
        "     puzzle: 퍼즐\n",
        "     shuffle_count: 섞을 횟수\n",
        "    리턴\n",
        "     None\n",
        "    '''\n",
        "    \n",
        "    # 각각 섞을 때마다 빈공간을 기준으로 상하좌우의 방향으로 섞기 위해\n",
        "    # 방향 리스트 생성\n",
        "    # 순서대로 상 우 하 좌 \n",
        "    dxs = [1, 0, -1,  0]\n",
        "    dys = [0, 1,  0, -1]\n",
        "\n",
        "    cnt = 0\n",
        "    while cnt <= shuffle_count:\n",
        "        rnd = random.randint(0, 3)\n",
        "        dx = dxs[rnd]\n",
        "        dy = dys[rnd]\n",
        "\n",
        "        # 빈공간의 index 얻기\n",
        "        i, j = get_index(puzzle, '')            \n",
        "        ni = i + dx\n",
        "        nj = j + dy\n",
        "\n",
        "        # 새로 얻은 인덱스 확인(퍼즐 범위내에 포함되는지) 하여 숫자 이동\n",
        "        if 0 <= ni < len(puzzle) and 0 <= nj < len(puzzle[0]):\n",
        "            puzzle[ni][nj], puzzle[i][j] = puzzle[i][j], puzzle[ni][nj]\n",
        "        \n",
        "        cnt += 1"
      ],
      "execution_count": 0,
      "outputs": []
    },
    {
      "cell_type": "code",
      "metadata": {
        "id": "-z9BxQx9xqvA",
        "colab_type": "code",
        "colab": {},
        "outputId": "ca18fb04-ff03-4ad5-a63c-987b277e4646"
      },
      "source": [
        "shuffle_puzzle(puzzle, 10)\n",
        "show_puzzle(puzzle)"
      ],
      "execution_count": 0,
      "outputs": [
        {
          "output_type": "stream",
          "text": [
            "1\t2\t3\t4\t\n",
            "5\t6\t7\t8\t\n",
            "9\t14\t10\t12\t\n",
            "13\t\t11\t15\t\n"
          ],
          "name": "stdout"
        }
      ]
    },
    {
      "cell_type": "markdown",
      "metadata": {
        "id": "e6r9sAv9xqvC",
        "colab_type": "text"
      },
      "source": [
        "#### 퍼즐이 완성되었는지 확인하기\n",
        " - 퍼즐이 완성된 형태인지 확인\n",
        " - puzzle 퍼즐로 활용할 리스트, completed 완성된 형태의 퍼즐 리스트 \n",
        " - 완성되었다면 True, 아니라면 False 반환"
      ]
    },
    {
      "cell_type": "code",
      "metadata": {
        "id": "_lI9BEVYxqvD",
        "colab_type": "code",
        "colab": {}
      },
      "source": [
        "# pass를 삭제하고 아래에 return 코드를 작성해봅니다.\n",
        "\n",
        "\n",
        "def is_puzzle_completed(puzzle, completed):\n",
        "    \n",
        "    if puzzle == completed:\n",
        "        print(\"True\")\n",
        "    else:\n",
        "        print(\"False\")\n",
        "    return(show_puzzle(puzzle))"
      ],
      "execution_count": 0,
      "outputs": []
    },
    {
      "cell_type": "markdown",
      "metadata": {
        "id": "eYG2UAm8xqvF",
        "colab_type": "text"
      },
      "source": [
        "#### 퍼즐 이동하기\n",
        " - 퍼즐 내의 숫자를 이동\n",
        " - 이때 이동이 가능한 경우는 해당 숫자가 빈공간 상하좌우에 위치한 경우에만 가능"
      ]
    },
    {
      "cell_type": "code",
      "metadata": {
        "id": "8kyx-dYIxqvG",
        "colab_type": "code",
        "colab": {}
      },
      "source": [
        "def move_by_number(puzzle, n):\n",
        "    # 숫자가 위치한 index\n",
        "    i, j = get_index(puzzle, n)\n",
        "    \n",
        "    # index를 이용하여 숫자 이동\n",
        "    move_by_index(puzzle, i, j)"
      ],
      "execution_count": 0,
      "outputs": []
    },
    {
      "cell_type": "code",
      "metadata": {
        "id": "Y5-1k0e5xqvI",
        "colab_type": "code",
        "colab": {}
      },
      "source": [
        "# 밑줄 부분을 채워봅니다.\n",
        "\n",
        "\n",
        "def move_by_index(puzzle, i, j):\n",
        "    # 좌우위아래 한방향중 하나가 '' 값이라면 이동 가능\n",
        "    for dx, dy in ((1, 0), (0, 1), (-1, 0), (0, -1)):\n",
        "        new_i = i + dx\n",
        "        new_j = j + dy\n",
        "\n",
        "        # boundary 체크(갈 수 없는 곳이면 패스)\n",
        "        try:\n",
        "            if not puzzle[new_i][new_j] == \"\":\n",
        "                continue\n",
        "        except:\n",
        "            continue\n",
        "        # 옆에 빈 공간인 경우에는 퍼즐의 위치를 빈공간과 바꿈(swap)\n",
        "        if puzzle[new_i][new_j] == '':\n",
        "            puzzle[new_i][new_j], puzzle[i][j] = puzzle[i][j], puzzle[new_i][new_j]\n",
        "            return "
      ],
      "execution_count": 0,
      "outputs": []
    },
    {
      "cell_type": "markdown",
      "metadata": {
        "id": "itwwJvg7xqvL",
        "colab_type": "text"
      },
      "source": [
        "#### 사용자 프롬프트 입력\n",
        " - 게임의 진행을 위해 동적으로 키보드 입력을 받을 필요가 있음\n",
        "   - 퍼즐의 크기, 이동할 수 지정 \n",
        " - 이를 위해 input 함수 사용\n",
        "   - 원하는 값 입력후, Enter"
      ]
    },
    {
      "cell_type": "code",
      "metadata": {
        "id": "EYYhBePixqvM",
        "colab_type": "code",
        "colab": {}
      },
      "source": [
        "value = input('입력하세요')\n",
        "print(value)"
      ],
      "execution_count": 0,
      "outputs": []
    },
    {
      "cell_type": "markdown",
      "metadata": {
        "id": "NghMIadTxqvO",
        "colab_type": "text"
      },
      "source": [
        "* 입력받은 값을 숫자형태로 변경"
      ]
    },
    {
      "cell_type": "code",
      "metadata": {
        "id": "StnzeeLjxqvP",
        "colab_type": "code",
        "colab": {}
      },
      "source": [
        "value = int(input('숫자를 입력하세요'))\n",
        "print(value)"
      ],
      "execution_count": 0,
      "outputs": []
    },
    {
      "cell_type": "markdown",
      "metadata": {
        "id": "9cBGBpSFxqvR",
        "colab_type": "text"
      },
      "source": [
        "#### 퍼즐, 퍼즐 완성본 생성 및 셔플링"
      ]
    },
    {
      "cell_type": "markdown",
      "metadata": {
        "id": "e0q__gDqxqvS",
        "colab_type": "text"
      },
      "source": [
        "* 퍼즐 사이즈 입력"
      ]
    },
    {
      "cell_type": "code",
      "metadata": {
        "id": "HbXKqk7OxqvS",
        "colab_type": "code",
        "colab": {},
        "outputId": "e97c5199-8a59-4c3b-e057-49015e3ca4e6"
      },
      "source": [
        "size = int(input('-> 퍼즐 사이즈를 입력하세요: '))\n",
        "print('퍼즐 사이즈: ', size)"
      ],
      "execution_count": 0,
      "outputs": [
        {
          "output_type": "stream",
          "text": [
            "-> 퍼즐 사이즈를 입력하세요: 5\n",
            "퍼즐 사이즈:  5\n"
          ],
          "name": "stdout"
        }
      ]
    },
    {
      "cell_type": "markdown",
      "metadata": {
        "id": "0MB2oOlaxqvV",
        "colab_type": "text"
      },
      "source": [
        "* 퍼즐 생성"
      ]
    },
    {
      "cell_type": "code",
      "metadata": {
        "id": "UTJGUNJYxqvV",
        "colab_type": "code",
        "colab": {}
      },
      "source": [
        "puzzle = initiate_puzzle(size)"
      ],
      "execution_count": 0,
      "outputs": []
    },
    {
      "cell_type": "markdown",
      "metadata": {
        "id": "zG1wTj_txqvY",
        "colab_type": "text"
      },
      "source": [
        "* 퍼즐 완성본 생성\n",
        " - 기존 퍼즐을 복사하여 생성\n",
        " - 아래와 같이 deep copy본으로 생성\n",
        "   - 그렇지 않으면, 항상 puzzle과 complete가 동일한 객체가 됨"
      ]
    },
    {
      "cell_type": "code",
      "metadata": {
        "id": "ronPMqfkxqvZ",
        "colab_type": "code",
        "colab": {}
      },
      "source": [
        "complete = [row[:] for row in puzzle]"
      ],
      "execution_count": 0,
      "outputs": []
    },
    {
      "cell_type": "markdown",
      "metadata": {
        "id": "HpD8Uxtgxqvb",
        "colab_type": "text"
      },
      "source": [
        "* copy 모듈을 이용해서도 가능"
      ]
    },
    {
      "cell_type": "code",
      "metadata": {
        "id": "ucK8vC66xqvc",
        "colab_type": "code",
        "colab": {}
      },
      "source": [
        "import copy\n",
        "complete = copy.deepcopy(puzzle)"
      ],
      "execution_count": 0,
      "outputs": []
    },
    {
      "cell_type": "code",
      "metadata": {
        "id": "Hg-Q8DKRxqve",
        "colab_type": "code",
        "colab": {},
        "outputId": "aa927519-881d-47fb-b4e5-74575ff9388d"
      },
      "source": [
        "show_puzzle(complete)"
      ],
      "execution_count": 0,
      "outputs": [
        {
          "output_type": "stream",
          "text": [
            "1\t2\t3\t4\t\n",
            "5\t6\t7\t8\t\n",
            "9\t14\t10\t12\t\n",
            "13\t\t11\t15\t\n"
          ],
          "name": "stdout"
        }
      ]
    },
    {
      "cell_type": "code",
      "metadata": {
        "id": "Ic8lvbtwxqvh",
        "colab_type": "code",
        "colab": {},
        "outputId": "fad13dc1-2009-485f-ac30-0b9b2d9f013a"
      },
      "source": [
        "show_puzzle(puzzle)"
      ],
      "execution_count": 0,
      "outputs": [
        {
          "output_type": "stream",
          "text": [
            "1\t2\t3\t4\t\n",
            "5\t6\t7\t8\t\n",
            "9\t14\t10\t12\t\n",
            "13\t\t11\t15\t\n"
          ],
          "name": "stdout"
        }
      ]
    },
    {
      "cell_type": "markdown",
      "metadata": {
        "id": "1dpHkDHtxqvj",
        "colab_type": "text"
      },
      "source": [
        "* 퍼즐 섞기"
      ]
    },
    {
      "cell_type": "code",
      "metadata": {
        "id": "OWxxEpWDxqvk",
        "colab_type": "code",
        "colab": {}
      },
      "source": [
        "shuffle_puzzle(puzzle, 300)"
      ],
      "execution_count": 0,
      "outputs": []
    },
    {
      "cell_type": "code",
      "metadata": {
        "id": "-wEmkcBexqvn",
        "colab_type": "code",
        "colab": {},
        "outputId": "0f575378-427e-4c31-eeb0-c1f1b57da203"
      },
      "source": [
        "show_puzzle(puzzle)"
      ],
      "execution_count": 0,
      "outputs": [
        {
          "output_type": "stream",
          "text": [
            "2\t9\t4\t12\t\n",
            "1\t6\t14\t11\t\n",
            "5\t8\t7\t15\t\n",
            "\t10\t3\t13\t\n"
          ],
          "name": "stdout"
        }
      ]
    },
    {
      "cell_type": "markdown",
      "metadata": {
        "id": "VBPq4yuHxqvp",
        "colab_type": "text"
      },
      "source": [
        "#### 게임 루프 \n",
        " - 퍼즐이 완성되었나 확인\n",
        "   - 완성되었다면 종료\n",
        "   - 완성되지 않았다면 사용자 입력 대기 및 퍼즐 출력 "
      ]
    },
    {
      "cell_type": "code",
      "metadata": {
        "id": "QpBNKU44xqvq",
        "colab_type": "code",
        "colab": {}
      },
      "source": [
        "# output을 clear하기 위해 사용\n",
        "from IPython.display import clear_output"
      ],
      "execution_count": 0,
      "outputs": []
    },
    {
      "cell_type": "code",
      "metadata": {
        "id": "mZCxV848xqvs",
        "colab_type": "code",
        "colab": {},
        "outputId": "8604d6be-5316-4780-c09c-337b2f47a3a7"
      },
      "source": [
        "# 밑줄 부분을 채워봅니다.\n",
        "\n",
        "\n",
        "show_puzzle(puzzle)\n",
        "\n",
        "while not False:\n",
        "    # 숫자를 입력하지 않은 경우에 대한 예외 처리\n",
        "    try:\n",
        "        num = int(input(' -> 움직일 숫자를 입력하세요 : '))\n",
        "    except:\n",
        "        print('숫자가 아닙니다.')\n",
        "        continue\n",
        "\n",
        "    # 움직일 수 선택하기\n",
        "    move_by_number(puzzle,num)\n",
        "\n",
        "    # 화면 clear\n",
        "    clear_output()\n",
        "\n",
        "    # 움직인 이후 퍼즐 상태 보기\n",
        "    show_puzzle(puzzle)\n",
        "\n",
        "# 루프의 종료는 곧 퍼즐의 완성을 의미!\n",
        "print('\\n퍼즐 완성!')"
      ],
      "execution_count": 0,
      "outputs": [
        {
          "output_type": "stream",
          "text": [
            "1\t2\t3\t4\t\n",
            "5\t6\t7\t8\t\n",
            "9\t10\t11\t12\t\n",
            "13\t14\t15\t\t\n"
          ],
          "name": "stdout"
        }
      ]
    },
    {
      "cell_type": "code",
      "metadata": {
        "id": "3l--uoD9xqv1",
        "colab_type": "code",
        "colab": {}
      },
      "source": [
        ""
      ],
      "execution_count": 0,
      "outputs": []
    }
  ]
}