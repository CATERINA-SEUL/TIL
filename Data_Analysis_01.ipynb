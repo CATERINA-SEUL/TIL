{
  "nbformat": 4,
  "nbformat_minor": 0,
  "metadata": {
    "colab": {
      "name": "Data Analysis 01.ipynb",
      "provenance": [],
      "authorship_tag": "ABX9TyMJLxDv7bLDEWkv6ep6v2nk"
    },
    "kernelspec": {
      "name": "python3",
      "display_name": "Python 3"
    }
  },
  "cells": [
    {
      "cell_type": "code",
      "metadata": {
        "id": "aLKx7CuiZTe7",
        "colab_type": "code",
        "colab": {}
      },
      "source": [
        "# 공공 데이터의 활용\n",
        "  1)\t공공 데이터 포털 (data.go.kr)\n",
        "  2)\t통계청 MDIS (mdis.kostat.go.kr)\n",
        "  3)\t서울시 열린 데이터 광장 (data.seoul.go.kr)\n",
        "  4)\tSKT 빅데이터 허브 (bigdatahub.co.kr)\n",
        "  5)\t네이버 데이터랩 (datalab.naver.com)\n",
        "  6)\tkaggle (kaggle.com)\n",
        "\n",
        "# 분석에 알맞게 데이터 가공하기\n",
        " 1) 확증적 분석 \n",
        "    -\t미리 설정한 가설 확인\n",
        "    -\t추정 , 연구의 데이터 분석 방법\n",
        "\n",
        " 2) 탐색적 분석\n",
        "    -\t변수, 변수의 관계 등 데이터 자체의 특성 확인\n",
        "    -\t통계량 계산 , 그래프 활용\n",
        "    -\t모든 데이터 분석의 시작 단계에서 필수 과정\n",
        "\n",
        "  요약 == 데이터 압축 과정 (탐색적 분석과정)\n",
        "  모형 == 정해진 알고리즘을 활용해서 데이터 안에서 정보 활용\n",
        "      가능성을 수치화된 확률로 설명\n",
        "\n",
        "# 데이터 가공!! \n",
        "  -\t데이터를 알맞은 형태로 변환하는 과정\n",
        "  1)\t부분 데이터 선택 : 관심있는 관측치와 변수를 선택\n",
        "  2)\t변수 결합, 분해 및 파생변수 생성 : 기존 변수를 활용하기 좋은 형태로 변환\n",
        "\n",
        "# 분석의 실행 \n",
        "  1)\t분석 목표 실행\n",
        "  2)\t데이터 수집\n",
        "  3)\t탐색적 데이터 분석\n",
        "  4)\t확증적 데이터 분석 / 모형 적합 == 검정, 알고리즘 등을 통한 분석\n",
        "    ** 분석을 반복하여 결과 재현 확인 / 피드백을 통한 데이터 처리, 분석\n",
        "  5)\t분석 결과 시각화 / 문서화 하기\n",
        "\n",
        "#\t분석과 분석결과의 요약\n",
        "  -\t효과적인 전달을 위해 그래프를 활용하는 것이 좋음)\t\n",
        "  -\t전체 분석과정 보다는 분석의 흐름을 이해할 수 있는 수준으로 요약\n",
        "  -\t적절한 도구 활용\n",
        "  markdown (R, Python)\n",
        "  excel, powerpoint\n",
        "  dashboard 활용 (R의 Shiny)를 통한 대시보드 활용"
      ],
      "execution_count": 0,
      "outputs": []
    }
  ]
}