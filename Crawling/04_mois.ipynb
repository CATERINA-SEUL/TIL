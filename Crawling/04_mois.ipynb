{
 "cells": [
  {
   "cell_type": "markdown",
   "metadata": {},
   "source": [
    "### 행정안전부 보도자료 데이터 수집\n",
    " - https://mois.go.kr\n",
    " - post 방식 사용\n",
    " - 뉴스.소식 -> 보도자료"
   ]
  },
  {
   "cell_type": "code",
   "execution_count": 1,
   "metadata": {},
   "outputs": [],
   "source": [
    "url = 'https://mois.go.kr/frt/bbs/type010/commonSelectBoardList.do?bbsId=BBSMSTR_000000000008'"
   ]
  },
  {
   "cell_type": "code",
   "execution_count": 4,
   "metadata": {},
   "outputs": [
    {
     "data": {
      "text/plain": [
       "{'nttId': 0,\n",
       " 'bbsTyCode': 'BBST03',\n",
       " 'bbsAttrbCode': 'BBSA03',\n",
       " 'authFlag': 'Y',\n",
       " 'pageIndex': 1,\n",
       " 'cal_url': '/sym/cal/EgovNormalCalPopup.do',\n",
       " 'searchCnd': 0}"
      ]
     },
     "execution_count": 4,
     "metadata": {},
     "output_type": "execute_result"
    }
   ],
   "source": [
    "page = 1\n",
    "params = {\n",
    "    \"nttId\": 0,\n",
    "    \"bbsTyCode\": \"BBST03\",\n",
    "    \"bbsAttrbCode\": \"BBSA03\",\n",
    "    \"authFlag\": \"Y\",\n",
    "    \"pageIndex\": page,\n",
    "    \"cal_url\": \"/sym/cal/EgovNormalCalPopup.do\",\n",
    "    \"searchCnd\": 0,\n",
    "}\n",
    "params"
   ]
  },
  {
   "cell_type": "code",
   "execution_count": 6,
   "metadata": {},
   "outputs": [
    {
     "data": {
      "text/plain": [
       "<Response [200]>"
      ]
     },
     "execution_count": 6,
     "metadata": {},
     "output_type": "execute_result"
    }
   ],
   "source": [
    "response = requests.post(url,params)\n",
    "response"
   ]
  },
  {
   "cell_type": "code",
   "execution_count": 7,
   "metadata": {},
   "outputs": [],
   "source": [
    "resp = BeautifulSoup(response.content,'html.parser')"
   ]
  },
  {
   "cell_type": "code",
   "execution_count": 11,
   "metadata": {},
   "outputs": [
    {
     "data": {
      "text/plain": [
       "10"
      ]
     },
     "execution_count": 11,
     "metadata": {},
     "output_type": "execute_result"
    }
   ],
   "source": [
    "elements = resp.select(\".table_style1 tbody tr\")\n",
    "len(elements)"
   ]
  },
  {
   "cell_type": "code",
   "execution_count": 15,
   "metadata": {},
   "outputs": [
    {
     "data": {
      "text/html": [
       "<div>\n",
       "<style scoped>\n",
       "    .dataframe tbody tr th:only-of-type {\n",
       "        vertical-align: middle;\n",
       "    }\n",
       "\n",
       "    .dataframe tbody tr th {\n",
       "        vertical-align: top;\n",
       "    }\n",
       "\n",
       "    .dataframe thead th {\n",
       "        text-align: right;\n",
       "    }\n",
       "</style>\n",
       "<table border=\"1\" class=\"dataframe\">\n",
       "  <thead>\n",
       "    <tr style=\"text-align: right;\">\n",
       "      <th></th>\n",
       "      <th>no</th>\n",
       "      <th>title</th>\n",
       "      <th>writer</th>\n",
       "      <th>date</th>\n",
       "      <th>pv</th>\n",
       "    </tr>\n",
       "  </thead>\n",
       "  <tbody>\n",
       "    <tr>\n",
       "      <th>5</th>\n",
       "      <td>10616</td>\n",
       "      <td>소하천 토지변경 없으면, 점용허가 끝나도 원상복구 면제</td>\n",
       "      <td>재난경감과</td>\n",
       "      <td>2020.02.24.</td>\n",
       "      <td>348</td>\n",
       "    </tr>\n",
       "    <tr>\n",
       "      <th>6</th>\n",
       "      <td>10615</td>\n",
       "      <td>각종 규제에 가로막힌 접경지역 발전에 올해 2,160억원 투자</td>\n",
       "      <td>지역균형발전과</td>\n",
       "      <td>2020.02.24.</td>\n",
       "      <td>515</td>\n",
       "    </tr>\n",
       "    <tr>\n",
       "      <th>7</th>\n",
       "      <td>10614</td>\n",
       "      <td>행안부, 대한적십자사와 손잡고 일원화된 재난심리회복 체계 구축</td>\n",
       "      <td>재난구호과</td>\n",
       "      <td>2020.02.23.</td>\n",
       "      <td>475</td>\n",
       "    </tr>\n",
       "    <tr>\n",
       "      <th>8</th>\n",
       "      <td>10613</td>\n",
       "      <td>행안부, 코로나19 확산에 따른 현장 대비상황 종합 점검</td>\n",
       "      <td>안전기획과</td>\n",
       "      <td>2020.02.22.</td>\n",
       "      <td>367</td>\n",
       "    </tr>\n",
       "    <tr>\n",
       "      <th>9</th>\n",
       "      <td>10612</td>\n",
       "      <td>진영 장관, 코로나19 확산 방지에 전국 지자체 총력 대응 요청</td>\n",
       "      <td>자치행정과</td>\n",
       "      <td>2020.02.20.</td>\n",
       "      <td>2753</td>\n",
       "    </tr>\n",
       "  </tbody>\n",
       "</table>\n",
       "</div>"
      ],
      "text/plain": [
       "      no                                title   writer         date    pv\n",
       "5  10616       소하천 토지변경 없으면, 점용허가 끝나도 원상복구 면제    재난경감과  2020.02.24.   348\n",
       "6  10615   각종 규제에 가로막힌 접경지역 발전에 올해 2,160억원 투자  지역균형발전과  2020.02.24.   515\n",
       "7  10614   행안부, 대한적십자사와 손잡고 일원화된 재난심리회복 체계 구축    재난구호과  2020.02.23.   475\n",
       "8  10613      행안부, 코로나19 확산에 따른 현장 대비상황 종합 점검    안전기획과  2020.02.22.   367\n",
       "9  10612  진영 장관, 코로나19 확산 방지에 전국 지자체 총력 대응 요청    자치행정과  2020.02.20.  2753"
      ]
     },
     "execution_count": 15,
     "metadata": {},
     "output_type": "execute_result"
    }
   ],
   "source": [
    "datas = []\n",
    "\n",
    "for element in elements:\n",
    "    datas.append({\n",
    "            'no' : element.select_one('td:nth-of-type(1)').text.strip(),\n",
    "            'title' : element.select_one('td:nth-of-type(2)').text.strip(),\n",
    "#             'link' :  element.select_one('td:nth-of-type(2) a').get('href'),\n",
    "            'writer' :  element.select_one('td:nth-of-type(4)').text.strip(),\n",
    "            'date' :  element.select_one('td:nth-of-type(5)').text.strip(),\n",
    "            'pv' :  element.select_one('td:nth-of-type(6)').text.strip(),\n",
    "    })\n",
    "    \n",
    "mois_df = pd.DataFrame(datas)\n",
    "mois_df.tail()"
   ]
  },
  {
   "cell_type": "code",
   "execution_count": null,
   "metadata": {},
   "outputs": [],
   "source": []
  }
 ],
 "metadata": {
  "kernelspec": {
   "display_name": "Python 3",
   "language": "python",
   "name": "python3"
  },
  "language_info": {
   "codemirror_mode": {
    "name": "ipython",
    "version": 3
   },
   "file_extension": ".py",
   "mimetype": "text/x-python",
   "name": "python",
   "nbconvert_exporter": "python",
   "pygments_lexer": "ipython3",
   "version": "3.7.3"
  }
 },
 "nbformat": 4,
 "nbformat_minor": 4
}
