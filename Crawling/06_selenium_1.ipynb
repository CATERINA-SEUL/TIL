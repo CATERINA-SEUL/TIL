{
 "cells": [
  {
   "cell_type": "markdown",
   "metadata": {},
   "source": [
    "### Selenium\n",
    "    - 브라우저를 직접 실행하여 자동화하고 브라우저상에 있는 데이터를 수집\n",
    "    - 웹 테스트 자동화를 위해서 만들어진 라이브러리\n",
    "    - 다양한 브라우저 지원\n",
    "    - 다양한 언어를 지원"
   ]
  },
  {
   "cell_type": "markdown",
   "metadata": {},
   "source": [
    "#### 설정\n",
    "\n",
    " - selenium driver\n",
    "     - chrome driver download\n",
    "     - driver version\n",
    "         - chromedriver file -> /usr/local/bin copy\n",
    " - selenium python package\n",
    "     - sudo pip install selenium\n",
    "     - conda install -c conda-forge selenium"
   ]
  },
  {
   "cell_type": "code",
   "execution_count": 67,
   "metadata": {},
   "outputs": [],
   "source": [
    "from selenium import webdriver"
   ]
  },
  {
   "cell_type": "code",
   "execution_count": 68,
   "metadata": {},
   "outputs": [],
   "source": [
    "chromedriver = './chromedriver'\n",
    "driver = webdriver.Chrome(chromedriver)"
   ]
  },
  {
   "cell_type": "code",
   "execution_count": 84,
   "metadata": {},
   "outputs": [],
   "source": [
    "# 페이지이동\n",
    "\n",
    "driver.get('https://daum.net')"
   ]
  },
  {
   "cell_type": "code",
   "execution_count": 85,
   "metadata": {},
   "outputs": [],
   "source": [
    "# 윈도우 사이즈 조절\n",
    "\n",
    "driver.set_window_size(800,600)"
   ]
  },
  {
   "cell_type": "code",
   "execution_count": 86,
   "metadata": {},
   "outputs": [],
   "source": [
    "# 스크롤 위치 조절\n",
    "\n",
    "driver.execute_script('window.scrollTo(200,300);')"
   ]
  },
  {
   "cell_type": "code",
   "execution_count": 87,
   "metadata": {},
   "outputs": [],
   "source": [
    "# alert 다루기\n",
    "\n",
    "driver.execute_script(\"alert('FastCampus!');\")"
   ]
  },
  {
   "cell_type": "code",
   "execution_count": 88,
   "metadata": {},
   "outputs": [],
   "source": [
    "alert = driver.switch_to_alert()\n",
    "alert.accept()"
   ]
  },
  {
   "cell_type": "code",
   "execution_count": 90,
   "metadata": {},
   "outputs": [],
   "source": [
    "# input tag\n",
    "# driver.find_element_by_css_selector\n",
    "# driver.find_elements_by_css_selector\n",
    "\n",
    "driver.find_element_by_css_selector('#q').send_keys('fast campus')"
   ]
  },
  {
   "cell_type": "code",
   "execution_count": 91,
   "metadata": {},
   "outputs": [],
   "source": [
    "driver.find_element_by_css_selector('#q').clear()\n",
    "driver.find_element_by_css_selector('#q').send_keys('코로나')"
   ]
  },
  {
   "cell_type": "code",
   "execution_count": 94,
   "metadata": {},
   "outputs": [],
   "source": [
    "# button click\n",
    "\n",
    "driver.find_element_by_css_selector('.inner_search > .btn_search').click()"
   ]
  },
  {
   "cell_type": "code",
   "execution_count": 96,
   "metadata": {},
   "outputs": [],
   "source": [
    "# 드라이버 종료\n",
    "\n",
    "driver.quit()"
   ]
  },
  {
   "cell_type": "markdown",
   "metadata": {},
   "source": [
    "### naver"
   ]
  },
  {
   "cell_type": "code",
   "execution_count": null,
   "metadata": {},
   "outputs": [],
   "source": [
    "driver = webdriver.Chrome(chromedriver)\n",
    "driver.get('https://naver.com')\n",
    "driver.set_window_size(1000,1000)\n",
    "driver.find_element_by_css_selector('#query').send_keys('코로나') \n",
    "driver.find_element_by_css_selector('#sform .sch_smit').click()"
   ]
  },
  {
   "cell_type": "code",
   "execution_count": 133,
   "metadata": {},
   "outputs": [],
   "source": [
    "driver.quit()"
   ]
  },
  {
   "cell_type": "markdown",
   "metadata": {},
   "source": [
    "#### Darksky api 키 재발급 자동화\n",
    "\n",
    " - https://darksky.net/dev"
   ]
  },
  {
   "cell_type": "code",
   "execution_count": 135,
   "metadata": {},
   "outputs": [],
   "source": [
    "# 브라우저 열기\n",
    "\n",
    "driver = webdriver.Chrome(chromedriver)"
   ]
  },
  {
   "cell_type": "code",
   "execution_count": 136,
   "metadata": {},
   "outputs": [],
   "source": [
    "# 로그인 페이지 이동\n",
    "\n",
    "driver.get('https://darksky.net/dev/login')"
   ]
  },
  {
   "cell_type": "code",
   "execution_count": 138,
   "metadata": {},
   "outputs": [],
   "source": [
    "# 이메일, 패스워드 입력 \n",
    "\n",
    "email = \"dalgona91@gmail.com\"\n",
    "pw = 'YSsound12*'\n",
    "\n",
    "driver.find_element_by_css_selector('#email').send_keys(email)\n",
    "driver.find_element_by_css_selector('#password').send_keys(pw)"
   ]
  },
  {
   "cell_type": "code",
   "execution_count": 140,
   "metadata": {},
   "outputs": [],
   "source": [
    "# 로그인 버튼 클릭\n",
    "\n",
    "driver.find_element_by_css_selector('.row .form-last').click()"
   ]
  },
  {
   "cell_type": "code",
   "execution_count": 145,
   "metadata": {},
   "outputs": [],
   "source": [
    "# 리셋 시크릿 버튼 클릭\n",
    "\n",
    "driver.find_element_by_css_selector('[type = \"submit\"]').click()"
   ]
  },
  {
   "cell_type": "code",
   "execution_count": 147,
   "metadata": {},
   "outputs": [],
   "source": [
    "# alert 버튼 클릭\n",
    "\n",
    "alert = driver.switch_to_alert()\n",
    "alert.accept()"
   ]
  },
  {
   "cell_type": "code",
   "execution_count": 149,
   "metadata": {},
   "outputs": [
    {
     "data": {
      "text/plain": [
       "'8978872d5661d076219fe2cc173e737b'"
      ]
     },
     "execution_count": 149,
     "metadata": {},
     "output_type": "execute_result"
    }
   ],
   "source": [
    "# 바뀐 key값 출력\n",
    "\n",
    "s_key = driver.find_element_by_css_selector('#api-key').get_attribute(\"value\")\n",
    "s_key\n"
   ]
  },
  {
   "cell_type": "code",
   "execution_count": 150,
   "metadata": {},
   "outputs": [],
   "source": [
    "# 브라우저 종료\n",
    "\n",
    "driver.quit()"
   ]
  },
  {
   "cell_type": "code",
   "execution_count": 151,
   "metadata": {},
   "outputs": [],
   "source": [
    "def darksky_login (id, pw):\n",
    "    driver = webdriver.Chrome(chromedriver)\n",
    "    driver.get('https://darksky.net/dev/login')\n",
    "    driver.find_element_by_css_selector('#email').send_keys(id)\n",
    "    driver.find_element_by_css_selector('#password').send_keys(pw)\n",
    "    driver.find_element_by_css_selector('.row .form-last').click()\n",
    "    driver.find_element_by_css_selector('[type = \"submit\"]').click()\n",
    "    alert = driver.switch_to_alert()\n",
    "    alert.accept()\n",
    "    s_key = driver.find_element_by_css_selector('#api-key').get_attribute(\"value\")\n",
    "    driver.quit()\n",
    "    return s_key"
   ]
  },
  {
   "cell_type": "code",
   "execution_count": 152,
   "metadata": {},
   "outputs": [
    {
     "data": {
      "text/plain": [
       "'f7187457d84487febcc5cc458b5c598d'"
      ]
     },
     "execution_count": 152,
     "metadata": {},
     "output_type": "execute_result"
    }
   ],
   "source": [
    "darksky_login(email,pw)"
   ]
  }
 ],
 "metadata": {
  "kernelspec": {
   "display_name": "Python 3",
   "language": "python",
   "name": "python3"
  },
  "language_info": {
   "codemirror_mode": {
    "name": "ipython",
    "version": 3
   },
   "file_extension": ".py",
   "mimetype": "text/x-python",
   "name": "python",
   "nbconvert_exporter": "python",
   "pygments_lexer": "ipython3",
   "version": "3.7.3"
  }
 },
 "nbformat": 4,
 "nbformat_minor": 4
}
