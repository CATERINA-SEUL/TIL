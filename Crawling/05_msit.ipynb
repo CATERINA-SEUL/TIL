{
 "cells": [
  {
   "cell_type": "markdown",
   "metadata": {},
   "source": [
    "#### msit : 과학기술 정보 통신부\n",
    "- https://msit.go.kr\n",
    "    - 보도자료 크롤링\n",
    "    - json으로 데이터 수집\n",
    "    - json 데이터 안에 html 코드가 들어있음. \n",
    "    "
   ]
  },
  {
   "cell_type": "code",
   "execution_count": 3,
   "metadata": {},
   "outputs": [],
   "source": [
    "page = 1\n",
    "\n",
    "url = f'https://www.msit.go.kr/dynamic/article/_policycom2?\\\n",
    "&sort=operday=desc&below=false&pageout=true&aradon.result.format=json\\\n",
    "&aradon.page.pageNo={page}&aradon.page.listNum=10&aradon.page.screenCount=5\\\n",
    "&aradon.referrer.href=https://www.msit.go.kr/web/msipContents/contents.do?mId=MTAxOA=='"
   ]
  },
  {
   "cell_type": "code",
   "execution_count": 5,
   "metadata": {},
   "outputs": [
    {
     "data": {
      "text/plain": [
       "<Response [200]>"
      ]
     },
     "execution_count": 5,
     "metadata": {},
     "output_type": "execute_result"
    }
   ],
   "source": [
    "response = requests.get(url)\n",
    "response"
   ]
  },
  {
   "cell_type": "code",
   "execution_count": 16,
   "metadata": {},
   "outputs": [
    {
     "data": {
      "text/html": [
       "<div>\n",
       "<style scoped>\n",
       "    .dataframe tbody tr th:only-of-type {\n",
       "        vertical-align: middle;\n",
       "    }\n",
       "\n",
       "    .dataframe tbody tr th {\n",
       "        vertical-align: top;\n",
       "    }\n",
       "\n",
       "    .dataframe thead th {\n",
       "        text-align: right;\n",
       "    }\n",
       "</style>\n",
       "<table border=\"1\" class=\"dataframe\">\n",
       "  <thead>\n",
       "    <tr style=\"text-align: right;\">\n",
       "      <th></th>\n",
       "      <th>action</th>\n",
       "      <th>admin_p</th>\n",
       "      <th>artid</th>\n",
       "      <th>artsubject</th>\n",
       "      <th>artcont</th>\n",
       "    </tr>\n",
       "  </thead>\n",
       "  <tbody>\n",
       "    <tr>\n",
       "      <th>5</th>\n",
       "      <td>MOD</td>\n",
       "      <td>디지털포용정책팀</td>\n",
       "      <td>2649254</td>\n",
       "      <td>장석영 제2차관, 사회적 기업 현장방문</td>\n",
       "      <td>&lt;p align=\"center\" style=\"margin: 0px; text-ali...</td>\n",
       "    </tr>\n",
       "    <tr>\n",
       "      <th>6</th>\n",
       "      <td>MOD</td>\n",
       "      <td>중이온가속기팀</td>\n",
       "      <td>2649253</td>\n",
       "      <td>정병선 제1차관, 중이온가속기 건설현장에서의 코로나19 대응태세 점검</td>\n",
       "      <td>&lt;p&gt;&lt;font size=\"3\"&gt;&amp;nbsp;&lt;/font&gt;&lt;/p&gt;\\r\\n&lt;p alig...</td>\n",
       "    </tr>\n",
       "    <tr>\n",
       "      <th>7</th>\n",
       "      <td>MOD</td>\n",
       "      <td>혁신네트워크팀</td>\n",
       "      <td>2649252</td>\n",
       "      <td>2019년 사물인터넷 산업 실태조사 결과 발표</td>\n",
       "      <td>&lt;p&gt;&lt;font size=\"3\"&gt;&lt;/font&gt;&lt;/p&gt;\\r\\n&lt;p align=\"cen...</td>\n",
       "    </tr>\n",
       "    <tr>\n",
       "      <th>8</th>\n",
       "      <td>MOD</td>\n",
       "      <td>지역과학기술진흥과</td>\n",
       "      <td>2642879</td>\n",
       "      <td>연구소기업 설립 900호 돌파</td>\n",
       "      <td>&lt;p align=\"center\" style=\"margin: 0px; text-ali...</td>\n",
       "    </tr>\n",
       "    <tr>\n",
       "      <th>9</th>\n",
       "      <td>MOD</td>\n",
       "      <td>국립중앙과학관 과학교육과</td>\n",
       "      <td>2642302</td>\n",
       "      <td>국립중앙과학관, 2020년 상반기 성인 대상 교육과정 운영</td>\n",
       "      <td>&lt;p align=\"center\" style=\"margin: 0px; text-ali...</td>\n",
       "    </tr>\n",
       "  </tbody>\n",
       "</table>\n",
       "</div>"
      ],
      "text/plain": [
       "  action        admin_p    artid                              artsubject  \\\n",
       "5    MOD       디지털포용정책팀  2649254                   장석영 제2차관, 사회적 기업 현장방문   \n",
       "6    MOD        중이온가속기팀  2649253  정병선 제1차관, 중이온가속기 건설현장에서의 코로나19 대응태세 점검   \n",
       "7    MOD        혁신네트워크팀  2649252               2019년 사물인터넷 산업 실태조사 결과 발표   \n",
       "8    MOD      지역과학기술진흥과  2642879                        연구소기업 설립 900호 돌파   \n",
       "9    MOD  국립중앙과학관 과학교육과  2642302        국립중앙과학관, 2020년 상반기 성인 대상 교육과정 운영   \n",
       "\n",
       "                                             artcont  \n",
       "5  <p align=\"center\" style=\"margin: 0px; text-ali...  \n",
       "6  <p><font size=\"3\">&nbsp;</font></p>\\r\\n<p alig...  \n",
       "7  <p><font size=\"3\"></font></p>\\r\\n<p align=\"cen...  \n",
       "8  <p align=\"center\" style=\"margin: 0px; text-ali...  \n",
       "9  <p align=\"center\" style=\"margin: 0px; text-ali...  "
      ]
     },
     "execution_count": 16,
     "metadata": {},
     "output_type": "execute_result"
    }
   ],
   "source": [
    "datas = response.json()['result']['nodes']\n",
    "columns = [\"action\",'admin_p','artid','artsubject','artcont']\n",
    "msit_df = pd.DataFrame(datas)[columns]\n",
    "msit_df.tail()"
   ]
  },
  {
   "cell_type": "code",
   "execution_count": 18,
   "metadata": {
    "scrolled": true
   },
   "outputs": [],
   "source": [
    "html = msit_df['artcont'][0]"
   ]
  },
  {
   "cell_type": "code",
   "execution_count": 29,
   "metadata": {
    "scrolled": true
   },
   "outputs": [],
   "source": [
    "def html_to_text(html):\n",
    "    content = BeautifulSoup(html,'html.parser').text\n",
    "    remove_words = ['\\n','\\xa0','ㅇ','□','\\r']\n",
    "\n",
    "    for remove_word in remove_words:\n",
    "        content = content.replace(remove_word,\"\")\n",
    "        \n",
    "    return content"
   ]
  },
  {
   "cell_type": "code",
   "execution_count": 32,
   "metadata": {},
   "outputs": [
    {
     "data": {
      "text/plain": [
       "'대학에 대한 정보보호중복부담 해소- 정보보호 수준진단 결과 “우수”등급 대학은ISMS 인증 면제 -- 과학기술정보통신부와 교육부 간 소통 및 협업으로 문제해결 - 과학기술정보통신부'"
      ]
     },
     "execution_count": 32,
     "metadata": {},
     "output_type": "execute_result"
    }
   ],
   "source": [
    "content = html_to_text(msit_df['artcont'][1])\n",
    "content[:100]"
   ]
  },
  {
   "cell_type": "code",
   "execution_count": 34,
   "metadata": {},
   "outputs": [
    {
     "data": {
      "text/html": [
       "<div>\n",
       "<style scoped>\n",
       "    .dataframe tbody tr th:only-of-type {\n",
       "        vertical-align: middle;\n",
       "    }\n",
       "\n",
       "    .dataframe tbody tr th {\n",
       "        vertical-align: top;\n",
       "    }\n",
       "\n",
       "    .dataframe thead th {\n",
       "        text-align: right;\n",
       "    }\n",
       "</style>\n",
       "<table border=\"1\" class=\"dataframe\">\n",
       "  <thead>\n",
       "    <tr style=\"text-align: right;\">\n",
       "      <th></th>\n",
       "      <th>action</th>\n",
       "      <th>admin_p</th>\n",
       "      <th>artid</th>\n",
       "      <th>artsubject</th>\n",
       "      <th>artcont</th>\n",
       "    </tr>\n",
       "  </thead>\n",
       "  <tbody>\n",
       "    <tr>\n",
       "      <th>5</th>\n",
       "      <td>MOD</td>\n",
       "      <td>디지털포용정책팀</td>\n",
       "      <td>2649254</td>\n",
       "      <td>장석영 제2차관, 사회적 기업 현장방문</td>\n",
       "      <td>장석영 제2차관, 사회적 기업 현장방문- 디지털포용을 실천하고있는 사회적 기업 종사...</td>\n",
       "    </tr>\n",
       "    <tr>\n",
       "      <th>6</th>\n",
       "      <td>MOD</td>\n",
       "      <td>중이온가속기팀</td>\n",
       "      <td>2649253</td>\n",
       "      <td>정병선 제1차관, 중이온가속기 건설현장에서의 코로나19 대응태세 점검</td>\n",
       "      <td>정병선 과기정통부 제1차관, 중이온가속기 건설현장에서의 코로나19 대응태세 점검 정...</td>\n",
       "    </tr>\n",
       "    <tr>\n",
       "      <th>7</th>\n",
       "      <td>MOD</td>\n",
       "      <td>혁신네트워크팀</td>\n",
       "      <td>2649252</td>\n",
       "      <td>2019년 사물인터넷 산업 실태조사 결과 발표</td>\n",
       "      <td>과기정통부, 2019년 사물인터넷 산업 실태조사 결과 발표- ’19년 사물인터넷 매...</td>\n",
       "    </tr>\n",
       "    <tr>\n",
       "      <th>8</th>\n",
       "      <td>MOD</td>\n",
       "      <td>지역과학기술진흥과</td>\n",
       "      <td>2642879</td>\n",
       "      <td>연구소기업 설립 900호 돌파</td>\n",
       "      <td>연구개발특구의 대표 혁신기업인 연구소기업, 그 꽃을 피우다-2006년 제1호 연구소...</td>\n",
       "    </tr>\n",
       "    <tr>\n",
       "      <th>9</th>\n",
       "      <td>MOD</td>\n",
       "      <td>국립중앙과학관 과학교육과</td>\n",
       "      <td>2642302</td>\n",
       "      <td>국립중앙과학관, 2020년 상반기 성인 대상 교육과정 운영</td>\n",
       "      <td>국립중앙과학관, 2020년 상반기 성인 대상 교육과정 운영- 과학공방, 전통과학대학...</td>\n",
       "    </tr>\n",
       "  </tbody>\n",
       "</table>\n",
       "</div>"
      ],
      "text/plain": [
       "  action        admin_p    artid                              artsubject  \\\n",
       "5    MOD       디지털포용정책팀  2649254                   장석영 제2차관, 사회적 기업 현장방문   \n",
       "6    MOD        중이온가속기팀  2649253  정병선 제1차관, 중이온가속기 건설현장에서의 코로나19 대응태세 점검   \n",
       "7    MOD        혁신네트워크팀  2649252               2019년 사물인터넷 산업 실태조사 결과 발표   \n",
       "8    MOD      지역과학기술진흥과  2642879                        연구소기업 설립 900호 돌파   \n",
       "9    MOD  국립중앙과학관 과학교육과  2642302        국립중앙과학관, 2020년 상반기 성인 대상 교육과정 운영   \n",
       "\n",
       "                                             artcont  \n",
       "5  장석영 제2차관, 사회적 기업 현장방문- 디지털포용을 실천하고있는 사회적 기업 종사...  \n",
       "6  정병선 과기정통부 제1차관, 중이온가속기 건설현장에서의 코로나19 대응태세 점검 정...  \n",
       "7  과기정통부, 2019년 사물인터넷 산업 실태조사 결과 발표- ’19년 사물인터넷 매...  \n",
       "8  연구개발특구의 대표 혁신기업인 연구소기업, 그 꽃을 피우다-2006년 제1호 연구소...  \n",
       "9  국립중앙과학관, 2020년 상반기 성인 대상 교육과정 운영- 과학공방, 전통과학대학...  "
      ]
     },
     "execution_count": 34,
     "metadata": {},
     "output_type": "execute_result"
    }
   ],
   "source": [
    "msit_df['artcont'] = msit_df['artcont'].apply(html_to_text)\n",
    "msit_df.tail()"
   ]
  },
  {
   "cell_type": "code",
   "execution_count": null,
   "metadata": {},
   "outputs": [],
   "source": []
  }
 ],
 "metadata": {
  "kernelspec": {
   "display_name": "Python 3",
   "language": "python",
   "name": "python3"
  },
  "language_info": {
   "codemirror_mode": {
    "name": "ipython",
    "version": 3
   },
   "file_extension": ".py",
   "mimetype": "text/x-python",
   "name": "python",
   "nbconvert_exporter": "python",
   "pygments_lexer": "ipython3",
   "version": "3.7.3"
  }
 },
 "nbformat": 4,
 "nbformat_minor": 4
}
