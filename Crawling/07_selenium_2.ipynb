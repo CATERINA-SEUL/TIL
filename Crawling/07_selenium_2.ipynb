{
 "cells": [
  {
   "cell_type": "markdown",
   "metadata": {},
   "source": [
    "#### naver 기사 제목 크롤링\n",
    "\n",
    " - selenium을 이용한 텍스트 데이터 수집\n",
    " - thread를 사용한 데이터 수집"
   ]
  },
  {
   "cell_type": "code",
   "execution_count": 2,
   "metadata": {},
   "outputs": [],
   "source": [
    "from selenium import webdriver"
   ]
  },
  {
   "cell_type": "code",
   "execution_count": 3,
   "metadata": {},
   "outputs": [],
   "source": [
    "page = 2\n",
    "\n",
    "url = \"https://news.naver.com/main/list.nhn?\\\n",
    "mode=LSD&mid=sec&sid1=001&date=20200227&page={}\".format(page)"
   ]
  },
  {
   "cell_type": "code",
   "execution_count": 4,
   "metadata": {},
   "outputs": [],
   "source": [
    "driver = webdriver.Chrome()\n",
    "driver.get(url)"
   ]
  },
  {
   "cell_type": "code",
   "execution_count": 5,
   "metadata": {},
   "outputs": [
    {
     "data": {
      "text/plain": [
       "20"
      ]
     },
     "execution_count": 5,
     "metadata": {},
     "output_type": "execute_result"
    }
   ],
   "source": [
    "articles = driver.find_elements_by_css_selector('.content li')\n",
    "len(articles)"
   ]
  },
  {
   "cell_type": "code",
   "execution_count": 6,
   "metadata": {},
   "outputs": [
    {
     "data": {
      "text/plain": [
       "'DENMARK ANIMALS'"
      ]
     },
     "execution_count": 6,
     "metadata": {},
     "output_type": "execute_result"
    }
   ],
   "source": [
    "articles[0].find_element_by_css_selector('dt:not(.photo) a').text"
   ]
  },
  {
   "cell_type": "code",
   "execution_count": 7,
   "metadata": {},
   "outputs": [],
   "source": [
    "article_list = []\n",
    "\n",
    "for article in articles:\n",
    "    title = article.find_element_by_css_selector('dt:not(.photo) a').text\n",
    "    article_list.append(title)"
   ]
  },
  {
   "cell_type": "code",
   "execution_count": 8,
   "metadata": {},
   "outputs": [
    {
     "data": {
      "text/plain": [
       "['DENMARK ANIMALS',\n",
       " 'DENMARK ANIMALS',\n",
       " 'UAE TENNIS DUBAI CHAMPIONSHIPS',\n",
       " 'CHINA HEALTH CORONAVIRUS COVID19',\n",
       " 'CHINA HEALTH CORONAVIRUS COVID19',\n",
       " 'US Finland',\n",
       " 'Palestinians US',\n",
       " '\"코로나 감염자 오지마\"…이탈리아서 中청년 유리잔 맞아 \\'중상\\'',\n",
       " \"<속보>과천시청 트위터 '문재인 대통령 탄핵 청원' 링크 논란\",\n",
       " '[이홍석의 시선고정]민주당 인천 부평갑, 단수 공천 깨고 전략 경선으로 승부',\n",
       " 'US Finland',\n",
       " 'CHINA HEALTH CORONAVIRUS COVID19',\n",
       " 'Italy France',\n",
       " 'Italy France',\n",
       " 'GERMANY BERLIN FILM FESTIVAL 2020',\n",
       " 'GERMANY BERLIN FILM FESTIVAL 2020',\n",
       " 'UAE TENNIS DUBAI CHAMPIONSHIPS',\n",
       " 'GERMANY BERLIN FILM FESTIVAL 2020',\n",
       " 'CHINA HEALTH CORONAVIRUS COVID19',\n",
       " 'CHINA HEALTH CORONAVIRUS COVID19']"
      ]
     },
     "execution_count": 8,
     "metadata": {},
     "output_type": "execute_result"
    }
   ],
   "source": [
    "article_list"
   ]
  },
  {
   "cell_type": "code",
   "execution_count": 9,
   "metadata": {},
   "outputs": [],
   "source": [
    "driver.quit()"
   ]
  },
  {
   "cell_type": "code",
   "execution_count": 10,
   "metadata": {},
   "outputs": [],
   "source": [
    "# 함수로 만들기\n",
    "article_list = []\n",
    "\n",
    "\n",
    "def get_articles(page):\n",
    "    driver = webdriver.Chrome()\n",
    "\n",
    "    url = \"https://news.naver.com/main/list.nhn?\\\n",
    "    mode=LSD&mid=sec&sid1=001&date=20200227&page={}\".format(page)\n",
    "    driver.get(url)\n",
    "    articles = driver.find_elements_by_css_selector('.content li')\n",
    "\n",
    "    for article in articles:\n",
    "        title = article.find_element_by_css_selector('dt:not(.photo) a').text\n",
    "        article_list.append(title)\n",
    "\n",
    "    print(f\"crawling : {page}\")\n",
    "\n",
    "    driver.quit()"
   ]
  },
  {
   "cell_type": "code",
   "execution_count": 13,
   "metadata": {},
   "outputs": [
    {
     "name": "stdout",
     "output_type": "stream",
     "text": [
      "crawling : 1\n",
      "crawling : 2\n",
      "crawling : 3\n",
      "crawling : 4\n",
      "CPU times: user 128 ms, sys: 37.1 ms, total: 165 ms\n",
      "Wall time: 12.6 s\n"
     ]
    }
   ],
   "source": [
    "%%time\n",
    "\n",
    "for page in range(1, 5):\n",
    "    get_articles(page)"
   ]
  },
  {
   "cell_type": "code",
   "execution_count": 14,
   "metadata": {},
   "outputs": [
    {
     "data": {
      "text/plain": [
       "['\\'펜데믹 공포\\' 커지는데…WHO \"지금은 아냐, 각국 대비할 때\"', 'UAE TENNIS DUBAI CHAMPIONSHIPS']"
      ]
     },
     "execution_count": 14,
     "metadata": {},
     "output_type": "execute_result"
    }
   ],
   "source": [
    "article_list[:2]"
   ]
  },
  {
   "cell_type": "markdown",
   "metadata": {},
   "source": [
    "#### thread 사용"
   ]
  },
  {
   "cell_type": "code",
   "execution_count": 15,
   "metadata": {},
   "outputs": [],
   "source": [
    "import threading"
   ]
  },
  {
   "cell_type": "code",
   "execution_count": 20,
   "metadata": {},
   "outputs": [],
   "source": [
    "article_list = []\n",
    "\n",
    "for page in range(1, 5):\n",
    "    th = threading.Thread(target=get_articles, args=(page,))\n",
    "    th.start()"
   ]
  },
  {
   "cell_type": "code",
   "execution_count": 21,
   "metadata": {},
   "outputs": [
    {
     "name": "stdout",
     "output_type": "stream",
     "text": [
      "1 2 3 4 crawling : 4\n",
      "crawling : 1\n",
      "crawling : 3\n",
      "5 crawling : 2\n",
      "6 "
     ]
    }
   ],
   "source": [
    "import time\n",
    "sec = 0\n",
    "while len(article_list) < 80:\n",
    "    time.sleep(1)\n",
    "    sec += 1\n",
    "    print(sec,end=\" \")"
   ]
  },
  {
   "cell_type": "code",
   "execution_count": null,
   "metadata": {},
   "outputs": [],
   "source": []
  }
 ],
 "metadata": {
  "kernelspec": {
   "display_name": "Python 3",
   "language": "python",
   "name": "python3"
  },
  "language_info": {
   "codemirror_mode": {
    "name": "ipython",
    "version": 3
   },
   "file_extension": ".py",
   "mimetype": "text/x-python",
   "name": "python",
   "nbconvert_exporter": "python",
   "pygments_lexer": "ipython3",
   "version": "3.7.3"
  }
 },
 "nbformat": 4,
 "nbformat_minor": 4
}
